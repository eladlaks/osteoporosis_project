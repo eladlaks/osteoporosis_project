{
 "cells": [
  {
   "cell_type": "code",
   "execution_count": 1,
   "id": "f71d64b3",
   "metadata": {},
   "outputs": [
    {
     "name": "stderr",
     "output_type": "stream",
     "text": [
      "\u001b[34m\u001b[1mwandb\u001b[0m: Using wandb-core as the SDK backend.  Please refer to https://wandb.me/wandb-core for more information.\n",
      "\u001b[34m\u001b[1mwandb\u001b[0m: Currently logged in as: \u001b[33meladlaks\u001b[0m (\u001b[33meladlaks-herzlia-reichman-university\u001b[0m) to \u001b[32mhttps://api.wandb.ai\u001b[0m. Use \u001b[1m`wandb login --relogin`\u001b[0m to force relogin\n"
     ]
    },
    {
     "data": {
      "text/html": [
       "creating run (1.0s)"
      ],
      "text/plain": [
       "<IPython.core.display.HTML object>"
      ]
     },
     "metadata": {},
     "output_type": "display_data"
    },
    {
     "data": {
      "text/html": [
       "Tracking run with wandb version 0.19.8"
      ],
      "text/plain": [
       "<IPython.core.display.HTML object>"
      ]
     },
     "metadata": {},
     "output_type": "display_data"
    },
    {
     "data": {
      "text/html": [
       "Run data is saved locally in <code>c:\\Users\\e0l07sq\\Desktop\\rnd\\osteoporosis_project\\wandb\\run-20250516_115250-3fvq6vsl</code>"
      ],
      "text/plain": [
       "<IPython.core.display.HTML object>"
      ]
     },
     "metadata": {},
     "output_type": "display_data"
    },
    {
     "data": {
      "text/html": [
       "Syncing run <strong><a href='https://wandb.ai/eladlaks-herzlia-reichman-university/osteoporosis_project/runs/3fvq6vsl' target=\"_blank\">electric-grass-254</a></strong> to <a href='https://wandb.ai/eladlaks-herzlia-reichman-university/osteoporosis_project' target=\"_blank\">Weights & Biases</a> (<a href='https://wandb.me/developer-guide' target=\"_blank\">docs</a>)<br>"
      ],
      "text/plain": [
       "<IPython.core.display.HTML object>"
      ]
     },
     "metadata": {},
     "output_type": "display_data"
    },
    {
     "data": {
      "text/html": [
       " View project at <a href='https://wandb.ai/eladlaks-herzlia-reichman-university/osteoporosis_project' target=\"_blank\">https://wandb.ai/eladlaks-herzlia-reichman-university/osteoporosis_project</a>"
      ],
      "text/plain": [
       "<IPython.core.display.HTML object>"
      ]
     },
     "metadata": {},
     "output_type": "display_data"
    },
    {
     "data": {
      "text/html": [
       " View run at <a href='https://wandb.ai/eladlaks-herzlia-reichman-university/osteoporosis_project/runs/3fvq6vsl' target=\"_blank\">https://wandb.ai/eladlaks-herzlia-reichman-university/osteoporosis_project/runs/3fvq6vsl</a>"
      ],
      "text/plain": [
       "<IPython.core.display.HTML object>"
      ]
     },
     "metadata": {},
     "output_type": "display_data"
    }
   ],
   "source": [
    "from models.resnet_model import get_resnet_model\n",
    "import wandb\n",
    "wandb.init() \n",
    "wandb.config.NUM_CLASSES = 3\n",
    "from torchvision import transforms\n",
    "from preprocessing.clahe import CLAHETransform\n",
    "from dataset_handler.dataset import ImageDataset\n",
    "import torch\n",
    "wandb.config.USE_TRANSFORM_AUGMENTATION_IN_TRAINING = True\n",
    "wandb.config.USE_CLAHE = False\n",
    "wandb.config.TEST_DATA_DIR=r\"data\\test_metabolic\\training_validation_datasets\\step_5_cropped_square_adaptive_knee\"\n",
    "from torch.utils.data import DataLoader, WeightedRandomSampler\n",
    "wandb.config.BATCH_SIZE = 32\n",
    "wandb.config.NUM_WORKERS=1\n",
    "import torch.nn as nn\n",
    "wandb.config.DEVICE=\"cuda\"\n",
    "wandb.config.USE_OSTEOPENIA = True\n",
    "\n"
   ]
  },
  {
   "cell_type": "code",
   "execution_count": 2,
   "id": "9916c24b",
   "metadata": {},
   "outputs": [],
   "source": [
    "size = (512, 512)\n",
    "prepare_to_network_transforms = [\n",
    "    transforms.Resize(size),\n",
    "    transforms.ToTensor(),\n",
    "    transforms.Normalize(mean=[0.485, 0.456, 0.406], std=[0.229, 0.224, 0.225]),\n",
    "]\n",
    "augmentation_transform = [\n",
    "    transforms.RandomRotation(degrees=10),  # Small random rotation\n",
    "    transforms.RandomHorizontalFlip(p=0.5),  # 50% chance to flip\n",
    "    transforms.RandomAffine(degrees=10, translate=(0.1, 0.1)),  # Small shifts\n",
    "    transforms.ColorJitter(brightness=0.2, contrast=0.2),  # Adjust contrast\n",
    "]\n",
    "\n",
    "all_transformation = []\n",
    "train_transformations = []\n",
    "if wandb.config.USE_TRANSFORM_AUGMENTATION_IN_TRAINING:\n",
    "    train_transformations += augmentation_transform\n",
    "if wandb.config.USE_CLAHE:\n",
    "    all_transformation += (\n",
    "        CLAHETransform(clip_limit=2.0, tile_grid_size=(8, 8)),\n",
    "    )  # Apply CLAHE with custom parameters\n",
    "\n",
    "all_transformation += prepare_to_network_transforms\n",
    "eval_transform = transforms.Compose(all_transformation)\n",
    "\n",
    "\n",
    "\n",
    "test_dataset = ImageDataset(wandb.config.TEST_DATA_DIR)\n",
    "test_dataset.transform = eval_transform\n",
    "\n",
    "\n",
    "\n",
    "test_loader = DataLoader(\n",
    "    test_dataset,\n",
    "    batch_size=wandb.config.BATCH_SIZE,\n",
    "    shuffle=False,\n",
    "    num_workers=wandb.config.NUM_WORKERS,\n",
    ")\n",
    "# Define loss criterion\n",
    "criterion = nn.CrossEntropyLoss()\n"
   ]
  },
  {
   "cell_type": "code",
   "execution_count": 24,
   "id": "c7256285",
   "metadata": {},
   "outputs": [],
   "source": [
    "from models.resnet_model import get_resnet_model\n",
    "import os\n",
    "model = get_resnet_model(weights_path=\"saved_models/ResNet50_best.pth\")\n",
    "# model = get_resnet_model()\n"
   ]
  },
  {
   "cell_type": "code",
   "execution_count": 47,
   "id": "73ac99d2",
   "metadata": {},
   "outputs": [],
   "source": [
    "model.to(wandb.config.DEVICE)\n",
    "\n",
    "model.eval()\n",
    "test_loss = 0.0\n",
    "correct = 0\n",
    "total = 0\n",
    "all_labels = []\n",
    "all_preds = []\n",
    "all_probs = []\n",
    "all_images_path=[]\n",
    "all_image_legs=[]\n",
    "with torch.no_grad():\n",
    "    for images, labels,images_path in test_loader:\n",
    "\n",
    "        images = images.to(wandb.config.DEVICE)\n",
    "        labels = labels.to(wandb.config.DEVICE)\n",
    "        outputs = model(images)\n",
    "        loss = criterion(outputs, labels)\n",
    "        test_loss += loss.item() * images.size(0)\n",
    "\n",
    "\n",
    "        probs = torch.softmax(outputs, dim=1)\n",
    "        _, predicted = torch.max(outputs.data, 1)\n",
    "\n",
    "        total += labels.size(0)\n",
    "        correct += (predicted == labels).sum().item()\n",
    "        all_labels.extend(labels.cpu().numpy())\n",
    "        all_images_path.extend([os.path.splitext(os.path.basename(p))[0].split('_')[0] for p in images_path])\n",
    "        all_image_legs.extend([os.path.splitext(os.path.basename(p))[0].split('_')[1] for p in images_path])\n",
    "        all_preds.extend(predicted.cpu().numpy())\n",
    "        all_probs.extend(probs.cpu().numpy())\n",
    "\n",
    "\n",
    "\n",
    "avg_test_loss = test_loss / len(test_loader.dataset)\n",
    "test_accuracy = correct / total\n",
    "\n"
   ]
  },
  {
   "cell_type": "code",
   "execution_count": 48,
   "id": "64082aee",
   "metadata": {},
   "outputs": [
    {
     "data": {
      "text/plain": [
       "'N10'"
      ]
     },
     "execution_count": 48,
     "metadata": {},
     "output_type": "execute_result"
    }
   ],
   "source": [
    "all_images_path[0]"
   ]
  },
  {
   "cell_type": "code",
   "execution_count": 49,
   "id": "f7b6fda8",
   "metadata": {},
   "outputs": [
    {
     "data": {
      "text/plain": [
       "'both'"
      ]
     },
     "execution_count": 49,
     "metadata": {},
     "output_type": "execute_result"
    }
   ],
   "source": [
    "all_image_legs[0]"
   ]
  },
  {
   "cell_type": "code",
   "execution_count": 41,
   "id": "2c4eaf3f",
   "metadata": {},
   "outputs": [
    {
     "data": {
      "text/plain": [
       "217"
      ]
     },
     "execution_count": 41,
     "metadata": {},
     "output_type": "execute_result"
    }
   ],
   "source": [
    "len(test_loader.dataset)"
   ]
  },
  {
   "cell_type": "code",
   "execution_count": 42,
   "id": "b233b8d4",
   "metadata": {},
   "outputs": [
    {
     "data": {
      "text/plain": [
       "0.8571428571428571"
      ]
     },
     "execution_count": 42,
     "metadata": {},
     "output_type": "execute_result"
    }
   ],
   "source": [
    "test_accuracy"
   ]
  },
  {
   "cell_type": "code",
   "execution_count": 50,
   "id": "56d8552a",
   "metadata": {},
   "outputs": [
    {
     "name": "stdout",
     "output_type": "stream",
     "text": [
      "[0, 0, 0, 0, 0, 0, 0, 0, 0, 0, 0, 0, 0, 0, 0, 0, 0, 0, 0, 0, 0, 0, 0, 0, 0, 0, 0, 0, 0, 0, 0, 0, 0, 1, 1, 1, 1, 1, 1, 1, 1, 1, 1, 1, 1, 1, 1, 1, 1, 1, 1, 1, 1, 1, 1, 1, 1, 1, 1, 1, 1, 1, 1, 1, 1, 1, 1, 1, 1, 1, 1, 1, 1, 1, 1, 1, 1, 1, 1, 1, 1, 1, 1, 1, 1, 1, 1, 1, 1, 1, 1, 1, 1, 1, 1, 1, 1, 1, 1, 1, 1, 1, 1, 1, 1, 1, 1, 1, 1, 1, 1, 1, 1, 1, 1, 1, 1, 1, 1, 1, 1, 1, 1, 1, 1, 1, 1, 1, 1, 1, 1, 1, 1, 1, 1, 1, 1, 1, 1, 1, 1, 1, 1, 1, 1, 1, 1, 1, 1, 1, 1, 1, 1, 1, 1, 1, 1, 1, 1, 1, 1, 1, 1, 1, 1, 1, 1, 1, 1, 1, 1, 1, 1, 1, 2, 2, 2, 2, 2, 2, 2, 2, 2, 2, 2, 2, 2, 2, 2, 2, 2, 2, 2, 2, 2, 2, 2, 2, 2, 2, 2, 2, 2, 2, 2, 2, 2, 2, 2, 2, 2, 2, 2, 2, 2, 2, 2] [0, 1, 0, 0, 0, 0, 1, 0, 0, 0, 1, 0, 2, 2, 0, 0, 1, 0, 1, 2, 0, 0, 0, 0, 2, 0, 0, 0, 0, 0, 0, 0, 0, 1, 0, 0, 1, 1, 1, 1, 1, 1, 1, 1, 1, 1, 1, 1, 0, 1, 1, 1, 1, 1, 1, 1, 1, 1, 0, 1, 1, 1, 1, 1, 1, 2, 1, 1, 1, 1, 1, 0, 1, 1, 0, 1, 1, 1, 1, 1, 1, 1, 1, 1, 1, 1, 2, 1, 1, 1, 1, 1, 1, 1, 1, 1, 1, 2, 1, 1, 1, 1, 1, 1, 1, 1, 1, 1, 1, 1, 1, 1, 1, 1, 1, 1, 1, 1, 1, 1, 1, 1, 1, 1, 0, 1, 1, 1, 1, 1, 0, 1, 1, 1, 1, 1, 1, 1, 1, 1, 1, 1, 1, 1, 1, 1, 1, 1, 1, 1, 1, 1, 2, 1, 1, 1, 1, 1, 1, 1, 1, 1, 1, 1, 1, 1, 1, 1, 1, 1, 1, 1, 1, 1, 2, 2, 2, 2, 2, 2, 1, 2, 2, 2, 1, 2, 1, 2, 2, 0, 0, 2, 2, 2, 2, 2, 2, 0, 2, 2, 1, 1, 2, 0, 2, 1, 2, 2, 2, 2, 2, 2, 2, 2, 2, 2, 2] [array([0.7564766 , 0.08475348, 0.15876989], dtype=float32), array([0.3561793 , 0.48692638, 0.15689437], dtype=float32), array([0.7373685 , 0.13611832, 0.12651314], dtype=float32), array([0.8755356 , 0.07165778, 0.05280656], dtype=float32), array([0.69881046, 0.19510192, 0.1060876 ], dtype=float32), array([0.81785065, 0.10018694, 0.08196247], dtype=float32), array([3.5109860e-03, 9.9581200e-01, 6.7704194e-04], dtype=float32), array([0.51065284, 0.15681036, 0.3325368 ], dtype=float32), array([0.99421644, 0.00262229, 0.00316129], dtype=float32), array([0.6773756 , 0.14465995, 0.1779645 ], dtype=float32), array([0.27450377, 0.67143553, 0.05406074], dtype=float32), array([0.8277677 , 0.13822463, 0.03400763], dtype=float32), array([0.39013928, 0.04636547, 0.5634952 ], dtype=float32), array([0.07142107, 0.22837092, 0.70020807], dtype=float32), array([0.72546405, 0.08655883, 0.18797715], dtype=float32), array([0.598439  , 0.12903455, 0.27252647], dtype=float32), array([0.2795796 , 0.6115059 , 0.10891451], dtype=float32), array([0.6680579 , 0.13617912, 0.19576304], dtype=float32), array([0.2692851 , 0.6247528 , 0.10596206], dtype=float32), array([3.2470364e-02, 5.1697897e-04, 9.6701258e-01], dtype=float32), array([0.37967098, 0.25986648, 0.3604625 ], dtype=float32), array([0.86699843, 0.05171518, 0.08128639], dtype=float32), array([0.43103805, 0.18659437, 0.3823676 ], dtype=float32), array([0.8308915 , 0.09483467, 0.07427385], dtype=float32), array([0.421908  , 0.15254001, 0.425552  ], dtype=float32), array([0.73276407, 0.07614267, 0.1910932 ], dtype=float32), array([0.62255675, 0.23207611, 0.14536712], dtype=float32), array([0.6442092 , 0.14856467, 0.20722613], dtype=float32), array([0.45672378, 0.17557172, 0.36770454], dtype=float32), array([0.8864415 , 0.04782329, 0.06573525], dtype=float32), array([0.8255477 , 0.12850349, 0.0459488 ], dtype=float32), array([0.49650678, 0.14231053, 0.36118275], dtype=float32), array([0.6564619 , 0.05464972, 0.2888884 ], dtype=float32), array([0.24036035, 0.6332033 , 0.12643637], dtype=float32), array([0.85467404, 0.07054982, 0.07477606], dtype=float32), array([0.7103775 , 0.0973946 , 0.19222791], dtype=float32), array([0.07877379, 0.8834633 , 0.0377629 ], dtype=float32), array([0.00562645, 0.9896897 , 0.00468381], dtype=float32), array([3.8283151e-03, 9.9517703e-01, 9.9460338e-04], dtype=float32), array([0.04273416, 0.9180592 , 0.03920659], dtype=float32), array([0.06512222, 0.90696496, 0.0279128 ], dtype=float32), array([1.1865943e-03, 9.9849677e-01, 3.1668850e-04], dtype=float32), array([2.3935267e-03, 9.9735570e-01, 2.5075191e-04], dtype=float32), array([0.02488616, 0.96580905, 0.00930473], dtype=float32), array([2.4423393e-04, 9.9945146e-01, 3.0435459e-04], dtype=float32), array([0.02035555, 0.960784  , 0.0188604 ], dtype=float32), array([0.22690164, 0.6847671 , 0.08833123], dtype=float32), array([2.9676396e-04, 9.9960560e-01, 9.7646269e-05], dtype=float32), array([0.87953436, 0.06278548, 0.05768022], dtype=float32), array([1.1392751e-03, 9.9831223e-01, 5.4853235e-04], dtype=float32), array([0.00268192, 0.99629825, 0.00101982], dtype=float32), array([0.08021484, 0.7629381 , 0.1568471 ], dtype=float32), array([0.16215077, 0.616649  , 0.22120024], dtype=float32), array([6.564327e-04, 9.987478e-01, 5.956659e-04], dtype=float32), array([0.02234641, 0.95568573, 0.02196787], dtype=float32), array([0.00936339, 0.9827586 , 0.00787802], dtype=float32), array([0.00260326, 0.99486583, 0.0025309 ], dtype=float32), array([0.08783001, 0.8569128 , 0.05525725], dtype=float32), array([0.941175  , 0.04305347, 0.01577149], dtype=float32), array([1.0718314e-03, 9.9869114e-01, 2.3709107e-04], dtype=float32), array([2.9252325e-03, 9.9645942e-01, 6.1538228e-04], dtype=float32), array([2.1312504e-04, 9.9976236e-01, 2.4478553e-05], dtype=float32), array([8.0926274e-04, 9.9876261e-01, 4.2817730e-04], dtype=float32), array([7.3149224e-04, 9.9847502e-01, 7.9345435e-04], dtype=float32), array([2.5354919e-03, 9.9717569e-01, 2.8876282e-04], dtype=float32), array([0.12403776, 0.38412648, 0.4918358 ], dtype=float32), array([0.01108461, 0.9823009 , 0.00661447], dtype=float32), array([0.26889133, 0.39684418, 0.33426452], dtype=float32), array([0.00250909, 0.9963013 , 0.0011896 ], dtype=float32), array([1.7236413e-04, 9.9964142e-01, 1.8617112e-04], dtype=float32), array([9.0013101e-04, 9.9888736e-01, 2.1257024e-04], dtype=float32), array([0.7562085 , 0.12707454, 0.11671697], dtype=float32), array([0.00541734, 0.99214727, 0.00243541], dtype=float32), array([0.00875474, 0.9767766 , 0.01446867], dtype=float32), array([0.99286157, 0.00166852, 0.00546994], dtype=float32), array([0.02616519, 0.93985224, 0.03398254], dtype=float32), array([0.16267398, 0.7324293 , 0.10489673], dtype=float32), array([2.1493726e-03, 9.9725407e-01, 5.9650722e-04], dtype=float32), array([3.8343540e-04, 9.9931717e-01, 2.9943924e-04], dtype=float32), array([0.02071176, 0.9497641 , 0.02952415], dtype=float32), array([0.04800094, 0.83881634, 0.11318269], dtype=float32), array([0.17455328, 0.5902926 , 0.23515415], dtype=float32), array([2.0157469e-03, 9.9722075e-01, 7.6349790e-04], dtype=float32), array([0.02352488, 0.95710236, 0.01937277], dtype=float32), array([0.00325973, 0.9955052 , 0.001235  ], dtype=float32), array([0.00530385, 0.993103  , 0.00159315], dtype=float32), array([2.6882654e-03, 9.0868583e-05, 9.9722087e-01], dtype=float32), array([1.9049057e-03, 9.9775428e-01, 3.4083315e-04], dtype=float32), array([9.4025244e-04, 9.9859291e-01, 4.6682055e-04], dtype=float32), array([3.0271979e-03, 9.9606496e-01, 9.0783474e-04], dtype=float32), array([1.0043574e-03, 9.9807942e-01, 9.1627438e-04], dtype=float32), array([0.10136694, 0.6843479 , 0.21428512], dtype=float32), array([0.00139032, 0.9974438 , 0.00116585], dtype=float32), array([0.08473082, 0.7210323 , 0.19423686], dtype=float32), array([0.00750316, 0.9726283 , 0.0198685 ], dtype=float32), array([2.5366936e-03, 9.9723595e-01, 2.2735877e-04], dtype=float32), array([0.00114242, 0.9978296 , 0.00102794], dtype=float32), array([2.993517e-02, 7.545922e-04, 9.693103e-01], dtype=float32), array([0.35755557, 0.43387702, 0.20856741], dtype=float32), array([0.00170196, 0.99694484, 0.00135321], dtype=float32), array([0.00220512, 0.99159425, 0.00620056], dtype=float32), array([0.00617602, 0.97052675, 0.02329731], dtype=float32), array([6.5462815e-04, 9.9915028e-01, 1.9511304e-04], dtype=float32), array([7.4454932e-04, 9.9805695e-01, 1.1984189e-03], dtype=float32), array([5.8929209e-04, 9.9856216e-01, 8.4855920e-04], dtype=float32), array([1.640578e-03, 9.979638e-01, 3.956818e-04], dtype=float32), array([2.8654581e-03, 9.9626297e-01, 8.7159732e-04], dtype=float32), array([0.00234511, 0.99664634, 0.00100856], dtype=float32), array([5.516390e-04, 9.991775e-01, 2.708609e-04], dtype=float32), array([6.4995553e-04, 9.9911660e-01, 2.3341901e-04], dtype=float32), array([4.0527835e-04, 9.9944180e-01, 1.5295374e-04], dtype=float32), array([0.01537846, 0.97454745, 0.01007414], dtype=float32), array([0.00211302, 0.9966264 , 0.00126058], dtype=float32), array([1.0081978e-03, 9.9859959e-01, 3.9221594e-04], dtype=float32), array([0.02159319, 0.9650711 , 0.01333573], dtype=float32), array([0.00202821, 0.9966813 , 0.00129049], dtype=float32), array([3.4765045e-03, 9.9573141e-01, 7.9204561e-04], dtype=float32), array([2.3948069e-04, 9.9967897e-01, 8.1591024e-05], dtype=float32), array([6.0544857e-03, 9.9296170e-01, 9.8378363e-04], dtype=float32), array([1.9332091e-03, 9.9772507e-01, 3.4173514e-04], dtype=float32), array([1.2830725e-03, 9.9812216e-01, 5.9470086e-04], dtype=float32), array([0.02597279, 0.9533506 , 0.02067664], dtype=float32), array([0.00413659, 0.99423164, 0.00163175], dtype=float32), array([1.5217649e-03, 9.9800211e-01, 4.7613215e-04], dtype=float32), array([0.98552066, 0.00429992, 0.01017949], dtype=float32), array([3.3420073e-03, 9.9602509e-01, 6.3290948e-04], dtype=float32), array([1.5082014e-03, 9.9806887e-01, 4.2289819e-04], dtype=float32), array([1.3770816e-03, 9.9822658e-01, 3.9635110e-04], dtype=float32), array([1.1776719e-03, 9.9858934e-01, 2.3299034e-04], dtype=float32), array([0.01231276, 0.9855928 , 0.00209439], dtype=float32), array([0.7115253 , 0.09763373, 0.19084093], dtype=float32), array([0.0109617 , 0.98344445, 0.00559387], dtype=float32), array([9.0185768e-04, 9.9866784e-01, 4.3034228e-04], dtype=float32), array([1.3891365e-03, 9.9818295e-01, 4.2789639e-04], dtype=float32), array([0.00747389, 0.989735  , 0.00279108], dtype=float32), array([4.4789832e-04, 9.9932444e-01, 2.2772893e-04], dtype=float32), array([0.00765609, 0.99105924, 0.00128467], dtype=float32), array([0.01746092, 0.97995675, 0.00258229], dtype=float32), array([4.9327064e-04, 9.9894279e-01, 5.6398218e-04], dtype=float32), array([2.2306044e-03, 9.9745351e-01, 3.1589274e-04], dtype=float32), array([1.3421571e-03, 9.9789137e-01, 7.6653942e-04], dtype=float32), array([1.7237400e-03, 9.9809867e-01, 1.7756873e-04], dtype=float32), array([5.37850312e-04, 9.99350727e-01, 1.11400805e-04], dtype=float32), array([0.05887948, 0.8429656 , 0.09815492], dtype=float32), array([0.07778496, 0.8982972 , 0.02391788], dtype=float32), array([0.0461492 , 0.8186828 , 0.13516797], dtype=float32), array([2.5268709e-03, 9.9728906e-01, 1.8403436e-04], dtype=float32), array([0.00729443, 0.9888022 , 0.00390336], dtype=float32), array([7.345012e-04, 9.990245e-01, 2.409469e-04], dtype=float32), array([0.00254496, 0.994773  , 0.00268205], dtype=float32), array([0.06258932, 0.92883694, 0.00857374], dtype=float32), array([1.6069718e-03, 9.9801147e-01, 3.8152715e-04], dtype=float32), array([0.01396382, 0.19091903, 0.7951172 ], dtype=float32), array([0.01145073, 0.9871912 , 0.00135807], dtype=float32), array([0.0017518 , 0.99599373, 0.00225446], dtype=float32), array([0.1662291, 0.5534271, 0.2803438], dtype=float32), array([0.00512815, 0.99253476, 0.00233706], dtype=float32), array([3.7347394e-04, 9.9933618e-01, 2.9034246e-04], dtype=float32), array([0.00216028, 0.99555403, 0.00228569], dtype=float32), array([0.00384161, 0.9940006 , 0.0021578 ], dtype=float32), array([2.4207209e-03, 9.9721956e-01, 3.5967256e-04], dtype=float32), array([1.7990209e-03, 9.9796319e-01, 2.3778020e-04], dtype=float32), array([0.00229217, 0.9966581 , 0.0010497 ], dtype=float32), array([0.00606652, 0.9872311 , 0.00670237], dtype=float32), array([2.0725972e-03, 9.9783641e-01, 9.0971858e-05], dtype=float32), array([6.3489506e-04, 9.9811709e-01, 1.2480551e-03], dtype=float32), array([4.7515566e-04, 9.9939096e-01, 1.3389433e-04], dtype=float32), array([1.1311666e-03, 9.9860579e-01, 2.6306493e-04], dtype=float32), array([0.00495637, 0.9925942 , 0.00244945], dtype=float32), array([0.00888928, 0.9854181 , 0.00569264], dtype=float32), array([0.00335258, 0.98842   , 0.00822734], dtype=float32), array([2.0430128e-03, 9.9747902e-01, 4.7798670e-04], dtype=float32), array([0.00359818, 0.9941532 , 0.00224857], dtype=float32), array([0.03168625, 0.58779573, 0.38051805], dtype=float32), array([0.03180849, 0.01352181, 0.95466965], dtype=float32), array([0.02467224, 0.01264536, 0.96268237], dtype=float32), array([0.03305547, 0.00898725, 0.9579573 ], dtype=float32), array([0.12047478, 0.31770024, 0.561825  ], dtype=float32), array([0.06225635, 0.02896073, 0.9087829 ], dtype=float32), array([0.01755806, 0.01101096, 0.971431  ], dtype=float32), array([0.03457379, 0.92440945, 0.04101676], dtype=float32), array([0.04987759, 0.0187251 , 0.9313974 ], dtype=float32), array([0.01699305, 0.00486927, 0.97813773], dtype=float32), array([0.35416725, 0.16708653, 0.4787462 ], dtype=float32), array([0.06203529, 0.8972681 , 0.0406966 ], dtype=float32), array([0.02044044, 0.00777724, 0.97178227], dtype=float32), array([0.22080925, 0.7032652 , 0.07592554], dtype=float32), array([0.11466271, 0.08536419, 0.79997313], dtype=float32), array([0.01997175, 0.00347809, 0.97655016], dtype=float32), array([0.8591696 , 0.03497509, 0.10585532], dtype=float32), array([0.7840547 , 0.0954219 , 0.12052343], dtype=float32), array([2.420322e-03, 7.450511e-04, 9.968346e-01], dtype=float32), array([0.01241313, 0.00258675, 0.985     ], dtype=float32), array([0.02349097, 0.00685931, 0.9696498 ], dtype=float32), array([0.02082696, 0.00611188, 0.9730611 ], dtype=float32), array([1.9221588e-03, 5.0066487e-04, 9.9757725e-01], dtype=float32), array([0.01996074, 0.01041367, 0.9696256 ], dtype=float32), array([0.8608693 , 0.03375605, 0.10537461], dtype=float32), array([0.02134325, 0.00488018, 0.9737766 ], dtype=float32), array([0.0639255 , 0.20865756, 0.7274169 ], dtype=float32), array([0.3699351 , 0.5010407 , 0.12902421], dtype=float32), array([0.00249415, 0.9956566 , 0.00184925], dtype=float32), array([0.03449587, 0.01423934, 0.95126474], dtype=float32), array([0.90004754, 0.03893101, 0.06102142], dtype=float32), array([0.00347428, 0.00113811, 0.99538773], dtype=float32), array([0.09215575, 0.87732023, 0.03052397], dtype=float32), array([0.09031485, 0.01544849, 0.8942367 ], dtype=float32), array([0.00417134, 0.00148514, 0.9943435 ], dtype=float32), array([0.02290389, 0.00605598, 0.9710401 ], dtype=float32), array([0.08887421, 0.27929354, 0.63183224], dtype=float32), array([0.24572589, 0.27172172, 0.4825523 ], dtype=float32), array([0.01290093, 0.0030148 , 0.9840843 ], dtype=float32), array([0.01479249, 0.0040108 , 0.9811967 ], dtype=float32), array([0.08308137, 0.02201121, 0.8949074 ], dtype=float32), array([0.0059207 , 0.00208834, 0.991991  ], dtype=float32), array([0.00387985, 0.00115598, 0.99496424], dtype=float32), array([0.02620162, 0.03981902, 0.93397933], dtype=float32)]\n"
     ]
    }
   ],
   "source": [
    "print(all_labels,\n",
    "all_preds,\n",
    "all_probs)"
   ]
  },
  {
   "cell_type": "code",
   "execution_count": 51,
   "id": "08bcc8e5",
   "metadata": {},
   "outputs": [
    {
     "data": {
      "text/plain": [
       "217"
      ]
     },
     "execution_count": 51,
     "metadata": {},
     "output_type": "execute_result"
    }
   ],
   "source": [
    "len(all_labels)"
   ]
  },
  {
   "cell_type": "code",
   "execution_count": 53,
   "id": "5f827ff2",
   "metadata": {},
   "outputs": [
    {
     "name": "stdout",
     "output_type": "stream",
     "text": [
      "     labels  preds                                     probs  path leg_tag\n",
      "0         0      0      [0.7564766, 0.084753476, 0.15876989]   N10    both\n",
      "1         0      1       [0.3561793, 0.48692638, 0.15689437]   N11    both\n",
      "2         0      0       [0.7373685, 0.13611832, 0.12651314]   N12    both\n",
      "3         0      0      [0.8755356, 0.071657784, 0.05280656]   N13    both\n",
      "4         0      0       [0.69881046, 0.19510192, 0.1060876]   N14    both\n",
      "..      ...    ...                                       ...   ...     ...\n",
      "212       2      2     [0.014792488, 0.004010795, 0.9811967]  OS48   right\n",
      "213       2      2      [0.08308137, 0.022011215, 0.8949074]   OS4    both\n",
      "214       2      2    [0.0059207035, 0.0020883381, 0.991991]   OS5    both\n",
      "215       2      2  [0.0038798463, 0.0011559781, 0.99496424]   OS6    both\n",
      "216       2      2     [0.026201617, 0.03981902, 0.93397933]   OS7    both\n",
      "\n",
      "[217 rows x 5 columns]\n"
     ]
    }
   ],
   "source": [
    "import pandas as pd\n",
    "df_pred = pd.DataFrame({\n",
    "    'labels': all_labels,\n",
    "    'preds': all_preds,\n",
    "    'probs': all_probs,\n",
    "    'path':all_images_path,\n",
    "    'leg_tag':all_image_legs\n",
    "})\n",
    "\n",
    "print(df_pred)"
   ]
  },
  {
   "cell_type": "code",
   "execution_count": 54,
   "id": "3de46ca9",
   "metadata": {},
   "outputs": [
    {
     "data": {
      "text/plain": [
       "Text(0.5, 1.0, 'Confusion Matrix - ')"
      ]
     },
     "execution_count": 54,
     "metadata": {},
     "output_type": "execute_result"
    },
    {
     "data": {
      "image/png": "[encoded data removed]",
      "text/plain": [
       "<Figure size 800x600 with 2 Axes>"
      ]
     },
     "metadata": {},
     "output_type": "display_data"
    }
   ],
   "source": [
    "import numpy as np\n",
    "import matplotlib.pyplot as plt\n",
    "import seaborn as sns\n",
    "from sklearn.metrics import (\n",
    "    confusion_matrix,\n",
    "    classification_report,\n",
    "    roc_auc_score,\n",
    "    precision_score,\n",
    "    recall_score,\n",
    "    f1_score,\n",
    ")\n",
    "# Convert to numpy arrays\n",
    "all_labels_np = np.array(all_labels)\n",
    "all_preds_np = np.array(all_preds)\n",
    "all_probs_np = np.array(all_probs)\n",
    "\n",
    "cm = confusion_matrix(all_labels_np, all_preds_np)\n",
    "class_names = [\"Normal\", \"Osteopenia\", \"Osteoporosis\"]\n",
    "\n",
    "plt.figure(figsize=(8, 6))\n",
    "sns.heatmap(\n",
    "    cm,\n",
    "    annot=True,\n",
    "    fmt=\"d\",\n",
    "    cmap=\"Blues\",\n",
    "    xticklabels=class_names,\n",
    "    yticklabels=class_names,\n",
    ")\n",
    "plt.xlabel(\"Predicted Label\")\n",
    "plt.ylabel(\"True Label\")\n",
    "plt.title(f\"Confusion Matrix - \")\n"
   ]
  },
  {
   "cell_type": "code",
   "execution_count": 55,
   "id": "a36c9cca",
   "metadata": {},
   "outputs": [],
   "source": [
    "test_f1 = f1_score(all_labels_np, all_preds_np, average=\"macro\")\n",
    "test_precision = precision_score(all_labels_np, all_preds_np, average=\"macro\")\n",
    "test_recall = recall_score(all_labels_np, all_preds_np, average=\"macro\")\n",
    "all_labels_one_hot = np.eye(wandb.config.NUM_CLASSES)[all_labels_np]\n",
    "test_auc = roc_auc_score(\n",
    "    all_labels_one_hot, all_probs_np, average=\"macro\", multi_class=\"ovr\"\n",
    ")\n"
   ]
  },
  {
   "cell_type": "code",
   "execution_count": 56,
   "id": "164afe47",
   "metadata": {},
   "outputs": [
    {
     "name": "stdout",
     "output_type": "stream",
     "text": [
      "[Test Loss: 0.5360, Test Accuracy: 0.8571, F1: 0.7998, Precision: 0.7977, Recall: 0.8032, AUC: 0.9228\n"
     ]
    }
   ],
   "source": [
    "auc_str = f\"{test_auc:.4f}\"\n",
    "print(\n",
    "    f\"[Test Loss: {avg_test_loss:.4f}, Test Accuracy: {test_accuracy:.4f}, \"\n",
    "    f\"F1: {test_f1:.4f}, Precision: {test_precision:.4f}, Recall: {test_recall:.4f}, AUC: {auc_str}\"\n",
    ")"
   ]
  },
  {
   "cell_type": "code",
   "execution_count": 1,
   "id": "3ea5a3e9",
   "metadata": {},
   "outputs": [
    {
     "ename": "FileNotFoundError",
     "evalue": "[Errno 2] No such file or directory: 'c:\\\\Users\\\\e0l07sq\\\\Desktop\\\\rnd\\\\osteoporosis_project\\\\data\\\\test_metabolic\\\\patient_details.csv'",
     "output_type": "error",
     "traceback": [
      "\u001b[1;31m---------------------------------------------------------------------------\u001b[0m",
      "\u001b[1;31mFileNotFoundError\u001b[0m                         Traceback (most recent call last)",
      "Cell \u001b[1;32mIn[1], line 6\u001b[0m\n\u001b[0;32m      4\u001b[0m excel_path \u001b[38;5;241m=\u001b[39m \u001b[38;5;124mr\u001b[39m\u001b[38;5;124m\"\u001b[39m\u001b[38;5;124mc:\u001b[39m\u001b[38;5;124m\\\u001b[39m\u001b[38;5;124mUsers\u001b[39m\u001b[38;5;124m\\\u001b[39m\u001b[38;5;124me0l07sq\u001b[39m\u001b[38;5;124m\\\u001b[39m\u001b[38;5;124mDesktop\u001b[39m\u001b[38;5;124m\\\u001b[39m\u001b[38;5;124mrnd\u001b[39m\u001b[38;5;124m\\\u001b[39m\u001b[38;5;124mosteoporosis_project\u001b[39m\u001b[38;5;124m\\\u001b[39m\u001b[38;5;124mdata\u001b[39m\u001b[38;5;124m\\\u001b[39m\u001b[38;5;124mtest_metabolic\u001b[39m\u001b[38;5;124m\\\u001b[39m\u001b[38;5;124mpatient_details.csv\u001b[39m\u001b[38;5;124m\"\u001b[39m\n\u001b[0;32m      5\u001b[0m excel_output_path \u001b[38;5;241m=\u001b[39m \u001b[38;5;124mr\u001b[39m\u001b[38;5;124m\"\u001b[39m\u001b[38;5;124mc:\u001b[39m\u001b[38;5;124m\\\u001b[39m\u001b[38;5;124mUsers\u001b[39m\u001b[38;5;124m\\\u001b[39m\u001b[38;5;124me0l07sq\u001b[39m\u001b[38;5;124m\\\u001b[39m\u001b[38;5;124mDesktop\u001b[39m\u001b[38;5;124m\\\u001b[39m\u001b[38;5;124mrnd\u001b[39m\u001b[38;5;124m\\\u001b[39m\u001b[38;5;124mosteoporosis_project\u001b[39m\u001b[38;5;124m\\\u001b[39m\u001b[38;5;124mdata\u001b[39m\u001b[38;5;124m\\\u001b[39m\u001b[38;5;124mtest_metabolic\u001b[39m\u001b[38;5;124m\\\u001b[39m\u001b[38;5;124mpatient_details_with_probs_output.csv\u001b[39m\u001b[38;5;124m\"\u001b[39m\n\u001b[1;32m----> 6\u001b[0m df \u001b[38;5;241m=\u001b[39m \u001b[43mpd\u001b[49m\u001b[38;5;241;43m.\u001b[39;49m\u001b[43mread_csv\u001b[49m\u001b[43m(\u001b[49m\u001b[43mexcel_path\u001b[49m\u001b[43m)\u001b[49m\n\u001b[0;32m      8\u001b[0m \u001b[38;5;66;03m# Ensure the DataFrame has the necessary structure\u001b[39;00m\n\u001b[0;32m      9\u001b[0m \u001b[38;5;28;01mif\u001b[39;00m \u001b[38;5;124m'\u001b[39m\u001b[38;5;124mprobs\u001b[39m\u001b[38;5;124m'\u001b[39m \u001b[38;5;129;01mnot\u001b[39;00m \u001b[38;5;129;01min\u001b[39;00m df\u001b[38;5;241m.\u001b[39mcolumns:\n",
      "File \u001b[1;32mc:\\Users\\e0l07sq\\Anaconda3\\envs\\osteo_gpu\\lib\\site-packages\\pandas\\io\\parsers\\readers.py:1026\u001b[0m, in \u001b[0;36mread_csv\u001b[1;34m(filepath_or_buffer, sep, delimiter, header, names, index_col, usecols, dtype, engine, converters, true_values, false_values, skipinitialspace, skiprows, skipfooter, nrows, na_values, keep_default_na, na_filter, verbose, skip_blank_lines, parse_dates, infer_datetime_format, keep_date_col, date_parser, date_format, dayfirst, cache_dates, iterator, chunksize, compression, thousands, decimal, lineterminator, quotechar, quoting, doublequote, escapechar, comment, encoding, encoding_errors, dialect, on_bad_lines, delim_whitespace, low_memory, memory_map, float_precision, storage_options, dtype_backend)\u001b[0m\n\u001b[0;32m   1013\u001b[0m kwds_defaults \u001b[38;5;241m=\u001b[39m _refine_defaults_read(\n\u001b[0;32m   1014\u001b[0m     dialect,\n\u001b[0;32m   1015\u001b[0m     delimiter,\n\u001b[1;32m   (...)\u001b[0m\n\u001b[0;32m   1022\u001b[0m     dtype_backend\u001b[38;5;241m=\u001b[39mdtype_backend,\n\u001b[0;32m   1023\u001b[0m )\n\u001b[0;32m   1024\u001b[0m kwds\u001b[38;5;241m.\u001b[39mupdate(kwds_defaults)\n\u001b[1;32m-> 1026\u001b[0m \u001b[38;5;28;01mreturn\u001b[39;00m \u001b[43m_read\u001b[49m\u001b[43m(\u001b[49m\u001b[43mfilepath_or_buffer\u001b[49m\u001b[43m,\u001b[49m\u001b[43m \u001b[49m\u001b[43mkwds\u001b[49m\u001b[43m)\u001b[49m\n",
      "File \u001b[1;32mc:\\Users\\e0l07sq\\Anaconda3\\envs\\osteo_gpu\\lib\\site-packages\\pandas\\io\\parsers\\readers.py:620\u001b[0m, in \u001b[0;36m_read\u001b[1;34m(filepath_or_buffer, kwds)\u001b[0m\n\u001b[0;32m    617\u001b[0m _validate_names(kwds\u001b[38;5;241m.\u001b[39mget(\u001b[38;5;124m\"\u001b[39m\u001b[38;5;124mnames\u001b[39m\u001b[38;5;124m\"\u001b[39m, \u001b[38;5;28;01mNone\u001b[39;00m))\n\u001b[0;32m    619\u001b[0m \u001b[38;5;66;03m# Create the parser.\u001b[39;00m\n\u001b[1;32m--> 620\u001b[0m parser \u001b[38;5;241m=\u001b[39m TextFileReader(filepath_or_buffer, \u001b[38;5;241m*\u001b[39m\u001b[38;5;241m*\u001b[39mkwds)\n\u001b[0;32m    622\u001b[0m \u001b[38;5;28;01mif\u001b[39;00m chunksize \u001b[38;5;129;01mor\u001b[39;00m iterator:\n\u001b[0;32m    623\u001b[0m     \u001b[38;5;28;01mreturn\u001b[39;00m parser\n",
      "File \u001b[1;32mc:\\Users\\e0l07sq\\Anaconda3\\envs\\osteo_gpu\\lib\\site-packages\\pandas\\io\\parsers\\readers.py:1620\u001b[0m, in \u001b[0;36mTextFileReader.__init__\u001b[1;34m(self, f, engine, **kwds)\u001b[0m\n\u001b[0;32m   1617\u001b[0m     \u001b[38;5;28mself\u001b[39m\u001b[38;5;241m.\u001b[39moptions[\u001b[38;5;124m\"\u001b[39m\u001b[38;5;124mhas_index_names\u001b[39m\u001b[38;5;124m\"\u001b[39m] \u001b[38;5;241m=\u001b[39m kwds[\u001b[38;5;124m\"\u001b[39m\u001b[38;5;124mhas_index_names\u001b[39m\u001b[38;5;124m\"\u001b[39m]\n\u001b[0;32m   1619\u001b[0m \u001b[38;5;28mself\u001b[39m\u001b[38;5;241m.\u001b[39mhandles: IOHandles \u001b[38;5;241m|\u001b[39m \u001b[38;5;28;01mNone\u001b[39;00m \u001b[38;5;241m=\u001b[39m \u001b[38;5;28;01mNone\u001b[39;00m\n\u001b[1;32m-> 1620\u001b[0m \u001b[38;5;28mself\u001b[39m\u001b[38;5;241m.\u001b[39m_engine \u001b[38;5;241m=\u001b[39m \u001b[38;5;28;43mself\u001b[39;49m\u001b[38;5;241;43m.\u001b[39;49m\u001b[43m_make_engine\u001b[49m\u001b[43m(\u001b[49m\u001b[43mf\u001b[49m\u001b[43m,\u001b[49m\u001b[43m \u001b[49m\u001b[38;5;28;43mself\u001b[39;49m\u001b[38;5;241;43m.\u001b[39;49m\u001b[43mengine\u001b[49m\u001b[43m)\u001b[49m\n",
      "File \u001b[1;32mc:\\Users\\e0l07sq\\Anaconda3\\envs\\osteo_gpu\\lib\\site-packages\\pandas\\io\\parsers\\readers.py:1880\u001b[0m, in \u001b[0;36mTextFileReader._make_engine\u001b[1;34m(self, f, engine)\u001b[0m\n\u001b[0;32m   1878\u001b[0m     \u001b[38;5;28;01mif\u001b[39;00m \u001b[38;5;124m\"\u001b[39m\u001b[38;5;124mb\u001b[39m\u001b[38;5;124m\"\u001b[39m \u001b[38;5;129;01mnot\u001b[39;00m \u001b[38;5;129;01min\u001b[39;00m mode:\n\u001b[0;32m   1879\u001b[0m         mode \u001b[38;5;241m+\u001b[39m\u001b[38;5;241m=\u001b[39m \u001b[38;5;124m\"\u001b[39m\u001b[38;5;124mb\u001b[39m\u001b[38;5;124m\"\u001b[39m\n\u001b[1;32m-> 1880\u001b[0m \u001b[38;5;28mself\u001b[39m\u001b[38;5;241m.\u001b[39mhandles \u001b[38;5;241m=\u001b[39m \u001b[43mget_handle\u001b[49m\u001b[43m(\u001b[49m\n\u001b[0;32m   1881\u001b[0m \u001b[43m    \u001b[49m\u001b[43mf\u001b[49m\u001b[43m,\u001b[49m\n\u001b[0;32m   1882\u001b[0m \u001b[43m    \u001b[49m\u001b[43mmode\u001b[49m\u001b[43m,\u001b[49m\n\u001b[0;32m   1883\u001b[0m \u001b[43m    \u001b[49m\u001b[43mencoding\u001b[49m\u001b[38;5;241;43m=\u001b[39;49m\u001b[38;5;28;43mself\u001b[39;49m\u001b[38;5;241;43m.\u001b[39;49m\u001b[43moptions\u001b[49m\u001b[38;5;241;43m.\u001b[39;49m\u001b[43mget\u001b[49m\u001b[43m(\u001b[49m\u001b[38;5;124;43m\"\u001b[39;49m\u001b[38;5;124;43mencoding\u001b[39;49m\u001b[38;5;124;43m\"\u001b[39;49m\u001b[43m,\u001b[49m\u001b[43m \u001b[49m\u001b[38;5;28;43;01mNone\u001b[39;49;00m\u001b[43m)\u001b[49m\u001b[43m,\u001b[49m\n\u001b[0;32m   1884\u001b[0m \u001b[43m    \u001b[49m\u001b[43mcompression\u001b[49m\u001b[38;5;241;43m=\u001b[39;49m\u001b[38;5;28;43mself\u001b[39;49m\u001b[38;5;241;43m.\u001b[39;49m\u001b[43moptions\u001b[49m\u001b[38;5;241;43m.\u001b[39;49m\u001b[43mget\u001b[49m\u001b[43m(\u001b[49m\u001b[38;5;124;43m\"\u001b[39;49m\u001b[38;5;124;43mcompression\u001b[39;49m\u001b[38;5;124;43m\"\u001b[39;49m\u001b[43m,\u001b[49m\u001b[43m \u001b[49m\u001b[38;5;28;43;01mNone\u001b[39;49;00m\u001b[43m)\u001b[49m\u001b[43m,\u001b[49m\n\u001b[0;32m   1885\u001b[0m \u001b[43m    \u001b[49m\u001b[43mmemory_map\u001b[49m\u001b[38;5;241;43m=\u001b[39;49m\u001b[38;5;28;43mself\u001b[39;49m\u001b[38;5;241;43m.\u001b[39;49m\u001b[43moptions\u001b[49m\u001b[38;5;241;43m.\u001b[39;49m\u001b[43mget\u001b[49m\u001b[43m(\u001b[49m\u001b[38;5;124;43m\"\u001b[39;49m\u001b[38;5;124;43mmemory_map\u001b[39;49m\u001b[38;5;124;43m\"\u001b[39;49m\u001b[43m,\u001b[49m\u001b[43m \u001b[49m\u001b[38;5;28;43;01mFalse\u001b[39;49;00m\u001b[43m)\u001b[49m\u001b[43m,\u001b[49m\n\u001b[0;32m   1886\u001b[0m \u001b[43m    \u001b[49m\u001b[43mis_text\u001b[49m\u001b[38;5;241;43m=\u001b[39;49m\u001b[43mis_text\u001b[49m\u001b[43m,\u001b[49m\n\u001b[0;32m   1887\u001b[0m \u001b[43m    \u001b[49m\u001b[43merrors\u001b[49m\u001b[38;5;241;43m=\u001b[39;49m\u001b[38;5;28;43mself\u001b[39;49m\u001b[38;5;241;43m.\u001b[39;49m\u001b[43moptions\u001b[49m\u001b[38;5;241;43m.\u001b[39;49m\u001b[43mget\u001b[49m\u001b[43m(\u001b[49m\u001b[38;5;124;43m\"\u001b[39;49m\u001b[38;5;124;43mencoding_errors\u001b[39;49m\u001b[38;5;124;43m\"\u001b[39;49m\u001b[43m,\u001b[49m\u001b[43m \u001b[49m\u001b[38;5;124;43m\"\u001b[39;49m\u001b[38;5;124;43mstrict\u001b[39;49m\u001b[38;5;124;43m\"\u001b[39;49m\u001b[43m)\u001b[49m\u001b[43m,\u001b[49m\n\u001b[0;32m   1888\u001b[0m \u001b[43m    \u001b[49m\u001b[43mstorage_options\u001b[49m\u001b[38;5;241;43m=\u001b[39;49m\u001b[38;5;28;43mself\u001b[39;49m\u001b[38;5;241;43m.\u001b[39;49m\u001b[43moptions\u001b[49m\u001b[38;5;241;43m.\u001b[39;49m\u001b[43mget\u001b[49m\u001b[43m(\u001b[49m\u001b[38;5;124;43m\"\u001b[39;49m\u001b[38;5;124;43mstorage_options\u001b[39;49m\u001b[38;5;124;43m\"\u001b[39;49m\u001b[43m,\u001b[49m\u001b[43m \u001b[49m\u001b[38;5;28;43;01mNone\u001b[39;49;00m\u001b[43m)\u001b[49m\u001b[43m,\u001b[49m\n\u001b[0;32m   1889\u001b[0m \u001b[43m\u001b[49m\u001b[43m)\u001b[49m\n\u001b[0;32m   1890\u001b[0m \u001b[38;5;28;01massert\u001b[39;00m \u001b[38;5;28mself\u001b[39m\u001b[38;5;241m.\u001b[39mhandles \u001b[38;5;129;01mis\u001b[39;00m \u001b[38;5;129;01mnot\u001b[39;00m \u001b[38;5;28;01mNone\u001b[39;00m\n\u001b[0;32m   1891\u001b[0m f \u001b[38;5;241m=\u001b[39m \u001b[38;5;28mself\u001b[39m\u001b[38;5;241m.\u001b[39mhandles\u001b[38;5;241m.\u001b[39mhandle\n",
      "File \u001b[1;32mc:\\Users\\e0l07sq\\Anaconda3\\envs\\osteo_gpu\\lib\\site-packages\\pandas\\io\\common.py:873\u001b[0m, in \u001b[0;36mget_handle\u001b[1;34m(path_or_buf, mode, encoding, compression, memory_map, is_text, errors, storage_options)\u001b[0m\n\u001b[0;32m    868\u001b[0m \u001b[38;5;28;01melif\u001b[39;00m \u001b[38;5;28misinstance\u001b[39m(handle, \u001b[38;5;28mstr\u001b[39m):\n\u001b[0;32m    869\u001b[0m     \u001b[38;5;66;03m# Check whether the filename is to be opened in binary mode.\u001b[39;00m\n\u001b[0;32m    870\u001b[0m     \u001b[38;5;66;03m# Binary mode does not support 'encoding' and 'newline'.\u001b[39;00m\n\u001b[0;32m    871\u001b[0m     \u001b[38;5;28;01mif\u001b[39;00m ioargs\u001b[38;5;241m.\u001b[39mencoding \u001b[38;5;129;01mand\u001b[39;00m \u001b[38;5;124m\"\u001b[39m\u001b[38;5;124mb\u001b[39m\u001b[38;5;124m\"\u001b[39m \u001b[38;5;129;01mnot\u001b[39;00m \u001b[38;5;129;01min\u001b[39;00m ioargs\u001b[38;5;241m.\u001b[39mmode:\n\u001b[0;32m    872\u001b[0m         \u001b[38;5;66;03m# Encoding\u001b[39;00m\n\u001b[1;32m--> 873\u001b[0m         handle \u001b[38;5;241m=\u001b[39m \u001b[38;5;28;43mopen\u001b[39;49m\u001b[43m(\u001b[49m\n\u001b[0;32m    874\u001b[0m \u001b[43m            \u001b[49m\u001b[43mhandle\u001b[49m\u001b[43m,\u001b[49m\n\u001b[0;32m    875\u001b[0m \u001b[43m            \u001b[49m\u001b[43mioargs\u001b[49m\u001b[38;5;241;43m.\u001b[39;49m\u001b[43mmode\u001b[49m\u001b[43m,\u001b[49m\n\u001b[0;32m    876\u001b[0m \u001b[43m            \u001b[49m\u001b[43mencoding\u001b[49m\u001b[38;5;241;43m=\u001b[39;49m\u001b[43mioargs\u001b[49m\u001b[38;5;241;43m.\u001b[39;49m\u001b[43mencoding\u001b[49m\u001b[43m,\u001b[49m\n\u001b[0;32m    877\u001b[0m \u001b[43m            \u001b[49m\u001b[43merrors\u001b[49m\u001b[38;5;241;43m=\u001b[39;49m\u001b[43merrors\u001b[49m\u001b[43m,\u001b[49m\n\u001b[0;32m    878\u001b[0m \u001b[43m            \u001b[49m\u001b[43mnewline\u001b[49m\u001b[38;5;241;43m=\u001b[39;49m\u001b[38;5;124;43m\"\u001b[39;49m\u001b[38;5;124;43m\"\u001b[39;49m\u001b[43m,\u001b[49m\n\u001b[0;32m    879\u001b[0m \u001b[43m        \u001b[49m\u001b[43m)\u001b[49m\n\u001b[0;32m    880\u001b[0m     \u001b[38;5;28;01melse\u001b[39;00m:\n\u001b[0;32m    881\u001b[0m         \u001b[38;5;66;03m# Binary mode\u001b[39;00m\n\u001b[0;32m    882\u001b[0m         handle \u001b[38;5;241m=\u001b[39m \u001b[38;5;28mopen\u001b[39m(handle, ioargs\u001b[38;5;241m.\u001b[39mmode)\n",
      "\u001b[1;31mFileNotFoundError\u001b[0m: [Errno 2] No such file or directory: 'c:\\\\Users\\\\e0l07sq\\\\Desktop\\\\rnd\\\\osteoporosis_project\\\\data\\\\test_metabolic\\\\patient_details.csv'"
     ]
    }
   ],
   "source": [
    "import pandas as pd\n",
    "\n",
    "# Load the copied Excel file\n",
    "excel_path = r\"c:\\Users\\e0l07sq\\Desktop\\rnd\\osteoporosis_project\\data\\test_metabolic\\patient_details.csv\"\n",
    "excel_output_path = r\"c:\\Users\\e0l07sq\\Desktop\\rnd\\osteoporosis_project\\data\\test_metabolic\\patient_details_with_probs_output.csv\"\n",
    "df = pd.read_csv(excel_path)\n",
    "\n",
    "# Ensure the DataFrame has the necessary structure\n",
    "if 'probs' not in df.columns:\n",
    "    df['probs_class_0'] = None\n",
    "    df['probs_class_1'] = None\n",
    "    df['probs_class_2'] = None\n",
    "\n",
    "df_merged = df.reset_index().merge(df_pred, left_on='Patient Id', right_on='path')\n",
    "df_merged[['probs_class_0', 'probs_class_1', 'probs_class_2']] = pd.DataFrame(df_merged['probs'].tolist(), index=df_merged.index)\n",
    "\n",
    "\n",
    "df_merged.to_csv(excel_output_path, index=False)\n",
    "\n",
    "# Save the updated DataFrame back to the Excel file\n",
    "print(f\"Updated Excel file saved at: {excel_output_path}\")"
   ]
  },
  {
   "cell_type": "code",
   "execution_count": 80,
   "id": "f17379b2",
   "metadata": {},
   "outputs": [
    {
     "data": {
      "text/html": [
       "<div>\n",
       "<style scoped>\n",
       "    .dataframe tbody tr th:only-of-type {\n",
       "        vertical-align: middle;\n",
       "    }\n",
       "\n",
       "    .dataframe tbody tr th {\n",
       "        vertical-align: top;\n",
       "    }\n",
       "\n",
       "    .dataframe thead th {\n",
       "        text-align: right;\n",
       "    }\n",
       "</style>\n",
       "<table border=\"1\" class=\"dataframe\">\n",
       "  <thead>\n",
       "    <tr style=\"text-align: right;\">\n",
       "      <th></th>\n",
       "      <th>level_0</th>\n",
       "      <th>index</th>\n",
       "      <th>S.No</th>\n",
       "      <th>Patient Id</th>\n",
       "      <th>Joint Pain:</th>\n",
       "      <th>Gender</th>\n",
       "      <th>Age</th>\n",
       "      <th>Menopause Age</th>\n",
       "      <th>height  (meter)</th>\n",
       "      <th>Weight (KG)</th>\n",
       "      <th>...</th>\n",
       "      <th>Obesity</th>\n",
       "      <th>Diagnosis</th>\n",
       "      <th>probs_class_0</th>\n",
       "      <th>probs_class_1</th>\n",
       "      <th>probs_class_2</th>\n",
       "      <th>labels</th>\n",
       "      <th>preds</th>\n",
       "      <th>probs</th>\n",
       "      <th>path</th>\n",
       "      <th>leg_tag</th>\n",
       "    </tr>\n",
       "  </thead>\n",
       "  <tbody>\n",
       "    <tr>\n",
       "      <th>0</th>\n",
       "      <td>0</td>\n",
       "      <td>0</td>\n",
       "      <td>1</td>\n",
       "      <td>OP1</td>\n",
       "      <td>yes</td>\n",
       "      <td>male</td>\n",
       "      <td>65</td>\n",
       "      <td>NaN</td>\n",
       "      <td>1.64592</td>\n",
       "      <td>65</td>\n",
       "      <td>...</td>\n",
       "      <td>normal weight</td>\n",
       "      <td>osteopenia</td>\n",
       "      <td>0.101367</td>\n",
       "      <td>0.684348</td>\n",
       "      <td>0.214285</td>\n",
       "      <td>1</td>\n",
       "      <td>1</td>\n",
       "      <td>[0.10136694, 0.6843479, 0.21428512]</td>\n",
       "      <td>OP1</td>\n",
       "      <td>both</td>\n",
       "    </tr>\n",
       "    <tr>\n",
       "      <th>1</th>\n",
       "      <td>1</td>\n",
       "      <td>1</td>\n",
       "      <td>2</td>\n",
       "      <td>OP2</td>\n",
       "      <td>yes</td>\n",
       "      <td>female</td>\n",
       "      <td>54</td>\n",
       "      <td>46.0</td>\n",
       "      <td>1.67640</td>\n",
       "      <td>78</td>\n",
       "      <td>...</td>\n",
       "      <td>over weight</td>\n",
       "      <td>osteopenia</td>\n",
       "      <td>0.001702</td>\n",
       "      <td>0.996945</td>\n",
       "      <td>0.001353</td>\n",
       "      <td>1</td>\n",
       "      <td>1</td>\n",
       "      <td>[0.001701962, 0.99694484, 0.0013532082]</td>\n",
       "      <td>OP2</td>\n",
       "      <td>both</td>\n",
       "    </tr>\n",
       "    <tr>\n",
       "      <th>2</th>\n",
       "      <td>2</td>\n",
       "      <td>2</td>\n",
       "      <td>3</td>\n",
       "      <td>OP3</td>\n",
       "      <td>yes</td>\n",
       "      <td>female</td>\n",
       "      <td>49</td>\n",
       "      <td>43.0</td>\n",
       "      <td>1.37160</td>\n",
       "      <td>59</td>\n",
       "      <td>...</td>\n",
       "      <td>obesity</td>\n",
       "      <td>osteopenia</td>\n",
       "      <td>0.000405</td>\n",
       "      <td>0.999442</td>\n",
       "      <td>0.000153</td>\n",
       "      <td>1</td>\n",
       "      <td>1</td>\n",
       "      <td>[0.00040527835, 0.9994418, 0.00015295374]</td>\n",
       "      <td>OP3</td>\n",
       "      <td>both</td>\n",
       "    </tr>\n",
       "    <tr>\n",
       "      <th>3</th>\n",
       "      <td>3</td>\n",
       "      <td>3</td>\n",
       "      <td>4</td>\n",
       "      <td>OP4</td>\n",
       "      <td>yes</td>\n",
       "      <td>female</td>\n",
       "      <td>57</td>\n",
       "      <td>40.0</td>\n",
       "      <td>1.52400</td>\n",
       "      <td>72</td>\n",
       "      <td>...</td>\n",
       "      <td>obesity</td>\n",
       "      <td>osteopenia</td>\n",
       "      <td>0.025973</td>\n",
       "      <td>0.953351</td>\n",
       "      <td>0.020677</td>\n",
       "      <td>1</td>\n",
       "      <td>1</td>\n",
       "      <td>[0.025972787, 0.9533506, 0.020676639]</td>\n",
       "      <td>OP4</td>\n",
       "      <td>both</td>\n",
       "    </tr>\n",
       "    <tr>\n",
       "      <th>4</th>\n",
       "      <td>4</td>\n",
       "      <td>4</td>\n",
       "      <td>5</td>\n",
       "      <td>OP5</td>\n",
       "      <td>yes</td>\n",
       "      <td>female</td>\n",
       "      <td>40</td>\n",
       "      <td>NaN</td>\n",
       "      <td>1.49352</td>\n",
       "      <td>54</td>\n",
       "      <td>...</td>\n",
       "      <td>normal weight</td>\n",
       "      <td>osteopenia</td>\n",
       "      <td>0.000902</td>\n",
       "      <td>0.998668</td>\n",
       "      <td>0.000430</td>\n",
       "      <td>1</td>\n",
       "      <td>1</td>\n",
       "      <td>[0.0009018577, 0.99866784, 0.00043034228]</td>\n",
       "      <td>OP5</td>\n",
       "      <td>both</td>\n",
       "    </tr>\n",
       "    <tr>\n",
       "      <th>...</th>\n",
       "      <td>...</td>\n",
       "      <td>...</td>\n",
       "      <td>...</td>\n",
       "      <td>...</td>\n",
       "      <td>...</td>\n",
       "      <td>...</td>\n",
       "      <td>...</td>\n",
       "      <td>...</td>\n",
       "      <td>...</td>\n",
       "      <td>...</td>\n",
       "      <td>...</td>\n",
       "      <td>...</td>\n",
       "      <td>...</td>\n",
       "      <td>...</td>\n",
       "      <td>...</td>\n",
       "      <td>...</td>\n",
       "      <td>...</td>\n",
       "      <td>...</td>\n",
       "      <td>...</td>\n",
       "      <td>...</td>\n",
       "      <td>...</td>\n",
       "    </tr>\n",
       "    <tr>\n",
       "      <th>212</th>\n",
       "      <td>212</td>\n",
       "      <td>233</td>\n",
       "      <td>234</td>\n",
       "      <td>OP150</td>\n",
       "      <td>yes</td>\n",
       "      <td>female</td>\n",
       "      <td>47</td>\n",
       "      <td>41.0</td>\n",
       "      <td>1.48000</td>\n",
       "      <td>78</td>\n",
       "      <td>...</td>\n",
       "      <td>obesity</td>\n",
       "      <td>osteopenia</td>\n",
       "      <td>0.174553</td>\n",
       "      <td>0.590293</td>\n",
       "      <td>0.235154</td>\n",
       "      <td>1</td>\n",
       "      <td>1</td>\n",
       "      <td>[0.17455328, 0.5902926, 0.23515415]</td>\n",
       "      <td>OP150</td>\n",
       "      <td>right</td>\n",
       "    </tr>\n",
       "    <tr>\n",
       "      <th>213</th>\n",
       "      <td>213</td>\n",
       "      <td>234</td>\n",
       "      <td>235</td>\n",
       "      <td>OP151</td>\n",
       "      <td>yes</td>\n",
       "      <td>male</td>\n",
       "      <td>54</td>\n",
       "      <td>NaN</td>\n",
       "      <td>1.69000</td>\n",
       "      <td>68</td>\n",
       "      <td>...</td>\n",
       "      <td>normal weight</td>\n",
       "      <td>osteopenia</td>\n",
       "      <td>0.002016</td>\n",
       "      <td>0.997221</td>\n",
       "      <td>0.000763</td>\n",
       "      <td>1</td>\n",
       "      <td>1</td>\n",
       "      <td>[0.002015747, 0.99722075, 0.0007634979]</td>\n",
       "      <td>OP151</td>\n",
       "      <td>right</td>\n",
       "    </tr>\n",
       "    <tr>\n",
       "      <th>214</th>\n",
       "      <td>214</td>\n",
       "      <td>235</td>\n",
       "      <td>236</td>\n",
       "      <td>OP152</td>\n",
       "      <td>yes</td>\n",
       "      <td>female</td>\n",
       "      <td>56</td>\n",
       "      <td>NaN</td>\n",
       "      <td>1.54000</td>\n",
       "      <td>80</td>\n",
       "      <td>...</td>\n",
       "      <td>obesity</td>\n",
       "      <td>osteopenia</td>\n",
       "      <td>0.023525</td>\n",
       "      <td>0.957102</td>\n",
       "      <td>0.019373</td>\n",
       "      <td>1</td>\n",
       "      <td>1</td>\n",
       "      <td>[0.023524877, 0.95710236, 0.019372767]</td>\n",
       "      <td>OP152</td>\n",
       "      <td>right</td>\n",
       "    </tr>\n",
       "    <tr>\n",
       "      <th>215</th>\n",
       "      <td>215</td>\n",
       "      <td>237</td>\n",
       "      <td>238</td>\n",
       "      <td>OP153</td>\n",
       "      <td>yes</td>\n",
       "      <td>male</td>\n",
       "      <td>49</td>\n",
       "      <td>NaN</td>\n",
       "      <td>1.67000</td>\n",
       "      <td>88</td>\n",
       "      <td>...</td>\n",
       "      <td>obesity</td>\n",
       "      <td>osteopenia</td>\n",
       "      <td>0.003260</td>\n",
       "      <td>0.995505</td>\n",
       "      <td>0.001235</td>\n",
       "      <td>1</td>\n",
       "      <td>1</td>\n",
       "      <td>[0.003259726, 0.9955052, 0.0012349997]</td>\n",
       "      <td>OP153</td>\n",
       "      <td>right</td>\n",
       "    </tr>\n",
       "    <tr>\n",
       "      <th>216</th>\n",
       "      <td>216</td>\n",
       "      <td>238</td>\n",
       "      <td>239</td>\n",
       "      <td>OP154</td>\n",
       "      <td>yes</td>\n",
       "      <td>female</td>\n",
       "      <td>56</td>\n",
       "      <td>48.0</td>\n",
       "      <td>1.52000</td>\n",
       "      <td>68</td>\n",
       "      <td>...</td>\n",
       "      <td>overweight</td>\n",
       "      <td>osteopenia</td>\n",
       "      <td>0.005304</td>\n",
       "      <td>0.993103</td>\n",
       "      <td>0.001593</td>\n",
       "      <td>1</td>\n",
       "      <td>1</td>\n",
       "      <td>[0.005303848, 0.993103, 0.0015931458]</td>\n",
       "      <td>OP154</td>\n",
       "      <td>right</td>\n",
       "    </tr>\n",
       "  </tbody>\n",
       "</table>\n",
       "<p>217 rows × 38 columns</p>\n",
       "</div>"
      ],
      "text/plain": [
       "     level_0  index  S.No Patient Id Joint Pain:  Gender  Age  Menopause Age  \\\n",
       "0          0      0     1        OP1         yes    male   65            NaN   \n",
       "1          1      1     2        OP2         yes  female   54           46.0   \n",
       "2          2      2     3        OP3         yes  female   49           43.0   \n",
       "3          3      3     4        OP4         yes  female   57           40.0   \n",
       "4          4      4     5        OP5         yes  female   40            NaN   \n",
       "..       ...    ...   ...        ...         ...     ...  ...            ...   \n",
       "212      212    233   234      OP150         yes  female   47           41.0   \n",
       "213      213    234   235      OP151         yes    male   54            NaN   \n",
       "214      214    235   236      OP152         yes  female   56            NaN   \n",
       "215      215    237   238      OP153         yes    male   49            NaN   \n",
       "216      216    238   239      OP154         yes  female   56           48.0   \n",
       "\n",
       "     height  (meter)  Weight (KG)   ...        Obesity   Diagnosis  \\\n",
       "0            1.64592            65  ...  normal weight  osteopenia   \n",
       "1            1.67640            78  ...    over weight  osteopenia   \n",
       "2            1.37160            59  ...       obesity   osteopenia   \n",
       "3            1.52400            72  ...       obesity   osteopenia   \n",
       "4            1.49352            54  ...  normal weight  osteopenia   \n",
       "..               ...           ...  ...            ...         ...   \n",
       "212          1.48000            78  ...       obesity   osteopenia   \n",
       "213          1.69000            68  ...  normal weight  osteopenia   \n",
       "214          1.54000            80  ...       obesity   osteopenia   \n",
       "215          1.67000            88  ...       obesity   osteopenia   \n",
       "216          1.52000            68  ...     overweight  osteopenia   \n",
       "\n",
       "    probs_class_0 probs_class_1  probs_class_2 labels preds  \\\n",
       "0        0.101367      0.684348       0.214285      1     1   \n",
       "1        0.001702      0.996945       0.001353      1     1   \n",
       "2        0.000405      0.999442       0.000153      1     1   \n",
       "3        0.025973      0.953351       0.020677      1     1   \n",
       "4        0.000902      0.998668       0.000430      1     1   \n",
       "..            ...           ...            ...    ...   ...   \n",
       "212      0.174553      0.590293       0.235154      1     1   \n",
       "213      0.002016      0.997221       0.000763      1     1   \n",
       "214      0.023525      0.957102       0.019373      1     1   \n",
       "215      0.003260      0.995505       0.001235      1     1   \n",
       "216      0.005304      0.993103       0.001593      1     1   \n",
       "\n",
       "                                         probs   path leg_tag  \n",
       "0          [0.10136694, 0.6843479, 0.21428512]    OP1    both  \n",
       "1      [0.001701962, 0.99694484, 0.0013532082]    OP2    both  \n",
       "2    [0.00040527835, 0.9994418, 0.00015295374]    OP3    both  \n",
       "3        [0.025972787, 0.9533506, 0.020676639]    OP4    both  \n",
       "4    [0.0009018577, 0.99866784, 0.00043034228]    OP5    both  \n",
       "..                                         ...    ...     ...  \n",
       "212        [0.17455328, 0.5902926, 0.23515415]  OP150   right  \n",
       "213    [0.002015747, 0.99722075, 0.0007634979]  OP151   right  \n",
       "214     [0.023524877, 0.95710236, 0.019372767]  OP152   right  \n",
       "215     [0.003259726, 0.9955052, 0.0012349997]  OP153   right  \n",
       "216      [0.005303848, 0.993103, 0.0015931458]  OP154   right  \n",
       "\n",
       "[217 rows x 38 columns]"
      ]
     },
     "execution_count": 80,
     "metadata": {},
     "output_type": "execute_result"
    }
   ],
   "source": [
    "df_merged"
   ]
  },
  {
   "cell_type": "code",
   "execution_count": null,
   "id": "b719e85b",
   "metadata": {},
   "outputs": [],
   "source": []
  }
 ],
 "metadata": {
  "kernelspec": {
   "display_name": "osteo_gpu",
   "language": "python",
   "name": "python3"
  },
  "language_info": {
   "codemirror_mode": {
    "name": "ipython",
    "version": 3
   },
   "file_extension": ".py",
   "mimetype": "text/x-python",
   "name": "python",
   "nbconvert_exporter": "python",
   "pygments_lexer": "ipython3",
   "version": "3.9.21"
  }
 },
 "nbformat": 4,
 "nbformat_minor": 5
}
