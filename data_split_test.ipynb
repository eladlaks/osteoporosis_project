{
 "cells": [
  {
   "cell_type": "code",
   "execution_count": null,
   "id": "efbac567",
   "metadata": {},
   "outputs": [],
   "source": []
  },
  {
   "cell_type": "code",
   "execution_count": 1,
   "id": "f3a790e3",
   "metadata": {},
   "outputs": [
    {
     "name": "stdout",
     "output_type": "stream",
     "text": [
      "Normal: 159 train, 39 test\n",
      "Osteopenia: 186 train, 46 test\n",
      "Osteoporosis: 114 train, 28 test\n"
     ]
    }
   ],
   "source": [
    "import os\n",
    "import shutil\n",
    "import random\n",
    "from pathlib import Path\n",
    "\n",
    "def split_dataset(src_dir, train_dir, test_dir, test_ratio=0.2, seed=42):\n",
    "    random.seed(seed)\n",
    "    src_dir = Path(src_dir)\n",
    "    train_dir = Path(train_dir)\n",
    "    test_dir = Path(test_dir)\n",
    "\n",
    "    train_dir.mkdir(parents=True, exist_ok=True)\n",
    "    test_dir.mkdir(parents=True, exist_ok=True)\n",
    "\n",
    "    for class_folder in os.listdir(src_dir):\n",
    "        class_path = src_dir / class_folder\n",
    "        if not class_path.is_dir():\n",
    "            continue\n",
    "\n",
    "        images = list(class_path.glob(\"*\"))\n",
    "        if not images:\n",
    "            continue\n",
    "\n",
    "        random.shuffle(images)\n",
    "        num_test = int(len(images) * test_ratio)\n",
    "\n",
    "        test_images = images[:num_test]\n",
    "        train_images = images[num_test:]\n",
    "\n",
    "        # Create target folders\n",
    "        train_class_dir = train_dir / class_folder\n",
    "        test_class_dir = test_dir / class_folder\n",
    "        train_class_dir.mkdir(parents=True, exist_ok=True)\n",
    "        test_class_dir.mkdir(parents=True, exist_ok=True)\n",
    "\n",
    "        # Move images\n",
    "        for img_path in train_images:\n",
    "            shutil.copy2(str(img_path), str(train_class_dir / img_path.name))\n",
    "\n",
    "        for img_path in test_images:\n",
    "            shutil.copy2(str(img_path), str(test_class_dir / img_path.name))\n",
    "\n",
    "        print(f\"{class_folder}: {len(train_images)} train, {len(test_images)} test\")\n",
    "\n",
    "# Example usage\n",
    "split_dataset(\"final_data\", \"train_data\", \"test_data\", test_ratio=0.2)\n"
   ]
  },
  {
   "cell_type": "code",
   "execution_count": null,
   "id": "0aaa7713",
   "metadata": {},
   "outputs": [],
   "source": []
  },
  {
   "cell_type": "markdown",
   "id": "9ce41ef9",
   "metadata": {},
   "source": []
  }
 ],
 "metadata": {
  "kernelspec": {
   "display_name": "osteo_gpu",
   "language": "python",
   "name": "python3"
  },
  "language_info": {
   "codemirror_mode": {
    "name": "ipython",
    "version": 3
   },
   "file_extension": ".py",
   "mimetype": "text/x-python",
   "name": "python",
   "nbconvert_exporter": "python",
   "pygments_lexer": "ipython3",
   "version": "3.9.21"
  }
 },
 "nbformat": 4,
 "nbformat_minor": 5
}
