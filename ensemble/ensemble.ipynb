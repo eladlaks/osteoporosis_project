{
 "cells": [
  {
   "cell_type": "code",
   "execution_count": null,
   "id": "8f77ed0a",
   "metadata": {},
   "outputs": [
    {
     "ename": "ImportError",
     "evalue": "attempted relative import with no known parent package",
     "output_type": "error",
     "traceback": [
      "\u001b[31m---------------------------------------------------------------------------\u001b[39m",
      "\u001b[31mImportError\u001b[39m                               Traceback (most recent call last)",
      "\u001b[36mCell\u001b[39m\u001b[36m \u001b[39m\u001b[32mIn[5]\u001b[39m\u001b[32m, line 10\u001b[39m\n\u001b[32m      8\u001b[39m \u001b[38;5;28;01mfrom\u001b[39;00m \u001b[34;01mtorch\u001b[39;00m\u001b[34;01m.\u001b[39;00m\u001b[34;01mutils\u001b[39;00m\u001b[34;01m.\u001b[39;00m\u001b[34;01mdata\u001b[39;00m \u001b[38;5;28;01mimport\u001b[39;00m DataLoader\n\u001b[32m      9\u001b[39m \u001b[38;5;28;01mimport\u001b[39;00m \u001b[34;01mwandb\u001b[39;00m\n\u001b[32m---> \u001b[39m\u001b[32m10\u001b[39m \u001b[38;5;28;01mfrom\u001b[39;00m \u001b[34;01m.\u001b[39;00m\u001b[34;01mmodels\u001b[39;00m\u001b[34;01m.\u001b[39;00m\u001b[34;01mvgg19_model\u001b[39;00m \u001b[38;5;28;01mimport\u001b[39;00m get_vgg19_model\n\u001b[32m     11\u001b[39m \u001b[38;5;28;01mfrom\u001b[39;00m \u001b[34;01mmodels\u001b[39;00m\u001b[34;01m.\u001b[39;00m\u001b[34;01mvit_model\u001b[39;00m \u001b[38;5;28;01mimport\u001b[39;00m get_vit_model\n\u001b[32m     12\u001b[39m \u001b[38;5;28;01mfrom\u001b[39;00m \u001b[34;01mmodels\u001b[39;00m\u001b[34;01m.\u001b[39;00m\u001b[34;01malexnet_model\u001b[39;00m \u001b[38;5;28;01mimport\u001b[39;00m get_alexnet_model\n",
      "\u001b[31mImportError\u001b[39m: attempted relative import with no known parent package"
     ]
    }
   ],
   "source": [
    "from torch.utils.data import DataLoader, WeightedRandomSampler\n",
    "import os\n",
    "import torch\n",
    "import torch.nn as nn\n",
    "import torch.optim as optim\n",
    "from torch.optim.lr_scheduler import ReduceLROnPlateau\n",
    "\n",
    "from torch.utils.data import DataLoader\n",
    "import wandb\n",
    "from models.vgg19_model import get_vgg19_model\n",
    "from models.vit_model import get_vit_model\n",
    "from models.alexnet_model import get_alexnet_model\n",
    "from models.gideon_alex_net import get_gideon_alexnet_model\n",
    "from models.resnet_model import get_resnet_model\n",
    "from models.resnet_model import get_timm_model\n",
    "from models.dino_model import get_dinov2_model\n",
    "from torchvision import transforms\n",
    "from preprocessing.clahe import CLAHETransform\n",
    "from utils.logger import init_wandb\n",
    "from collections import Counter\n",
    "import torch\n",
    "from torch.utils.data import DataLoader, WeightedRandomSampler\n",
    "from sklearn.metrics import (\n",
    "    confusion_matrix,\n",
    "    classification_report,\n",
    "    roc_auc_score,\n",
    "    precision_score,\n",
    "    recall_score,\n",
    "    f1_score,\n",
    ")\n",
    "import seaborn as sns\n",
    "import matplotlib.pyplot as plt\n",
    "import numpy as np\n",
    "import pandas as pd\n",
    "from losses.label_smoothing import LabelSmoothingCrossEntropy\n",
    "from losses.confidence_weighted_loss import ConfidenceWeightedCrossEntropy\n",
    "from losses.combined_loss import CombinedLabelSmoothingConfidenceWeightedLoss\n",
    "\n",
    "from utils.hard_sampling import get_low_confidence_samples\n",
    "from utils.saver import save_test_outputs\n",
    "import random\n",
    "import numpy as np\n",
    "import torch\n",
    "from torch.utils.data import DataLoader, Subset\n",
    "from torchvision import transforms\n",
    "from sklearn.model_selection import KFold\n",
    "import os\n",
    "import torch\n",
    "import numpy as np\n",
    "import pandas as pd\n",
    "import matplotlib.pyplot as plt\n",
    "import seaborn as sns\n",
    "import torch.nn.functional as F\n",
    "\n",
    "from sklearn.metrics import confusion_matrix\n",
    "from torch.utils.data import DataLoader, Subset\n",
    "from torchvision import transforms\n",
    "from sklearn.model_selection import KFold\n",
    "from dataset_handler.dataset import ImageDataset\n",
    "from preprocessing.clahe import CLAHETransform\n",
    "import tqdm"
   ]
  },
  {
   "cell_type": "code",
   "execution_count": null,
   "id": "c754b746",
   "metadata": {},
   "outputs": [],
   "source": [
    "def ensemble_test_predictions(models, test_dataset):\n",
    "    loader = DataLoader(test_dataset, batch_size=32)\n",
    "    all_probs = []\n",
    "    true_labels = []\n",
    "    filenames = []\n",
    "\n",
    "    for images, labels, paths in loader:\n",
    "        images = images.to(\"cuda\")\n",
    "        batch_probs = []\n",
    "\n",
    "        for model in models:\n",
    "            model.eval()\n",
    "            with torch.no_grad():\n",
    "                logits = model(images)\n",
    "                probs = F.softmax(logits, dim=1)\n",
    "                batch_probs.append(probs.cpu())\n",
    "\n",
    "        avg_probs = torch.stack(batch_probs).mean(dim=0)\n",
    "        all_probs.append(avg_probs)\n",
    "        true_labels.extend(labels.numpy())\n",
    "        filenames.extend(paths)\n",
    "\n",
    "    all_probs = torch.cat(all_probs).numpy()\n",
    "    predicted_labels = np.argmax(all_probs, axis=1)\n",
    "    return filenames, true_labels, predicted_labels, all_probs"
   ]
  },
  {
   "cell_type": "code",
   "execution_count": null,
   "id": "e4e97dab",
   "metadata": {},
   "outputs": [],
   "source": []
  }
 ],
 "metadata": {
  "kernelspec": {
   "display_name": "base",
   "language": "python",
   "name": "python3"
  },
  "language_info": {
   "codemirror_mode": {
    "name": "ipython",
    "version": 3
   },
   "file_extension": ".py",
   "mimetype": "text/x-python",
   "name": "python",
   "nbconvert_exporter": "python",
   "pygments_lexer": "ipython3",
   "version": "3.12.9"
  }
 },
 "nbformat": 4,
 "nbformat_minor": 5
}
