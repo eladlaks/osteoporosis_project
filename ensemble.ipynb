{
 "cells": [
  {
   "cell_type": "code",
   "execution_count": 125,
   "id": "8f77ed0a",
   "metadata": {},
   "outputs": [],
   "source": [
    "from torch.utils.data import DataLoader, WeightedRandomSampler\n",
    "import os\n",
    "import torch\n",
    "import torch.nn as nn\n",
    "import torch.optim as optim\n",
    "from torch.optim.lr_scheduler import ReduceLROnPlateau\n",
    "\n",
    "from torch.utils.data import DataLoader\n",
    "import wandb\n",
    "from models.vgg19_model import get_vgg19_model\n",
    "from models.vit_model import get_vit_model\n",
    "from models.alexnet_model import get_alexnet_model\n",
    "from models.gideon_alex_net import get_gideon_alexnet_model\n",
    "from models.resnet_model import get_resnet_model, get_timm_model\n",
    "from models.resnet_model import get_timm_model\n",
    "from models.dino_model import get_dinov2_model\n",
    "from torchvision import transforms\n",
    "from preprocessing.clahe import CLAHETransform\n",
    "from utils.logger import init_wandb\n",
    "from collections import Counter\n",
    "import torch\n",
    "from torch.utils.data import DataLoader, WeightedRandomSampler\n",
    "from sklearn.metrics import (\n",
    "    confusion_matrix,\n",
    "    classification_report,\n",
    "    roc_auc_score,\n",
    "    precision_score,\n",
    "    recall_score,\n",
    "    f1_score,\n",
    ")\n",
    "import seaborn as sns\n",
    "import matplotlib.pyplot as plt\n",
    "import numpy as np\n",
    "import pandas as pd\n",
    "from losses.label_smoothing import LabelSmoothingCrossEntropy\n",
    "from losses.confidence_weighted_loss import ConfidenceWeightedCrossEntropy\n",
    "from losses.combined_loss import CombinedLabelSmoothingConfidenceWeightedLoss\n",
    "\n",
    "from utils.hard_sampling import get_low_confidence_samples\n",
    "from utils.saver import save_test_outputs\n",
    "import random\n",
    "import numpy as np\n",
    "import torch\n",
    "from torch.utils.data import DataLoader, Subset\n",
    "from torchvision import transforms\n",
    "from sklearn.model_selection import KFold\n",
    "import os\n",
    "import torch\n",
    "import numpy as np\n",
    "import pandas as pd\n",
    "import matplotlib.pyplot as plt\n",
    "import seaborn as sns\n",
    "import torch.nn.functional as F\n",
    "\n",
    "from sklearn.metrics import confusion_matrix\n",
    "from torch.utils.data import DataLoader, Subset\n",
    "from torchvision import transforms\n",
    "from sklearn.model_selection import KFold\n",
    "from dataset_handler.dataset import ImageDataset\n",
    "from preprocessing.clahe import CLAHETransform\n",
    "import tqdm"
   ]
  },
  {
   "cell_type": "code",
   "execution_count": 126,
   "id": "fd37269b",
   "metadata": {},
   "outputs": [],
   "source": [
    "import torch\n",
    "import torch.nn as nn\n",
    "from torchvision import models\n",
    "import wandb\n",
    "from collections import OrderedDict\n",
    "import timm  # pip install timm\n",
    "\n",
    "\n",
    "def get_timm_model(weights_path=None, name=None):\n",
    "    \"\"\"\n",
    "    Returns model, feature_dim.\n",
    "    name ∈ {\"resnet34\",\"resnet50\",\"densenet121\",\"efficientnet_b0\"}\n",
    "    \"\"\"\n",
    "\n",
    "    num_classes = wandb.config.NUM_CLASSES\n",
    "    dropout = wandb.config.DROPOUT\n",
    "    if name == None:\n",
    "        name = wandb.config.MODEL_NAME\n",
    "    if name == \"resnet34\":\n",
    "        # Freeze all parameters initially\n",
    "        model = models.resnet34(weights=\"ResNet34_Weights.DEFAULT\")\n",
    "        for param in model.parameters():\n",
    "            param.requires_grad = False\n",
    "\n",
    "        # Unfreeze layers in the last ResNet block (layer4) and the fully connected layers\n",
    "        for param in model.layer4.parameters():\n",
    "            param.requires_grad = True  \n",
    "        num_ftrs = model.fc.in_features\n",
    "        model.fc = nn.Sequential(\n",
    "            OrderedDict(\n",
    "                [\n",
    "                    (\"fc1\", nn.Linear(num_ftrs, 512)),\n",
    "                    (\"bn1\", nn.BatchNorm1d(512)),\n",
    "                    (\"relu1\", nn.ReLU()),\n",
    "                    (\"dropout1\", nn.Dropout(dropout)),\n",
    "                    (\"fc2\", nn.Linear(512, num_classes)),\n",
    "                ]\n",
    "            )\n",
    "        )\n",
    "        \n",
    "    elif name == \"resnet50\":\n",
    "        model = models.resnet50(weights=\"ResNet50_Weights.DEFAULT\")\n",
    "        num_ftrs = model.fc.in_features\n",
    "        for param in model.parameters():\n",
    "            param.requires_grad = False\n",
    "\n",
    "        # Unfreeze layers in the last ResNet block (layer4) and the fully connected layers\n",
    "        for param in model.layer4.parameters():\n",
    "            param.requires_grad = True \n",
    "        model.fc = nn.Sequential(\n",
    "            OrderedDict(\n",
    "                [\n",
    "                    (\"fc1\", nn.Linear(num_ftrs, 1024)),\n",
    "                    (\"bn1\", nn.BatchNorm1d(1024)),\n",
    "                    (\"relu1\", nn.ReLU()),\n",
    "                    (\"dropout1\", nn.Dropout(dropout)),\n",
    "                    (\"fc2\", nn.Linear(1024, 512)),\n",
    "                    (\"bn2\", nn.BatchNorm1d(512)),\n",
    "                    (\"relu2\", nn.ReLU()),\n",
    "                    (\"dropout2\", nn.Dropout(dropout)),\n",
    "                    (\"fc3\", nn.Linear(512, num_classes)),\n",
    "                ]\n",
    "            )\n",
    "        )\n",
    "\n",
    "    elif name == \"densenet121\":\n",
    "        model = models.densenet121(weights=\"DenseNet121_Weights.DEFAULT\")\n",
    "        num_ftrs = model.classifier.in_features\n",
    "        model.classifier = nn.Sequential(\n",
    "            OrderedDict(\n",
    "                [\n",
    "                    (\"fc1\", nn.Linear(num_ftrs, 512)),\n",
    "                    (\"bn1\", nn.BatchNorm1d(512)),\n",
    "                    (\"relu1\", nn.ReLU()),\n",
    "                    (\"dropout1\", nn.Dropout(dropout)),\n",
    "                    (\"fc2\", nn.Linear(512, num_classes)),\n",
    "                ]\n",
    "            )\n",
    "        )\n",
    "\n",
    "    elif name == \"efficientnet_b0\" or name == \"efficientnet\":\n",
    "        model = timm.create_model(\n",
    "            \"efficientnet_b0\", pretrained=True, num_classes=num_classes\n",
    "        )\n",
    "\n",
    "    else:\n",
    "        raise ValueError(\"Unknown backbone\")\n",
    "\n",
    "    return model\n",
    "\n",
    "\n",
    "def get_resnet_model(weights_path=None):\n",
    "\n",
    "    model = models.resnet50(weights=\"ResNet50_Weights.DEFAULT\")\n",
    "\n",
    "    # Freeze all parameters initially\n",
    "    for parameter in model.parameters():\n",
    "        parameter.requires_grad = False\n",
    "\n",
    "    num_ftrs = model.fc.in_features\n",
    "    classifier = nn.Sequential(\n",
    "        OrderedDict(\n",
    "            [\n",
    "                (\"fc1\", nn.Linear(num_ftrs, 1024)),\n",
    "                (\"bn1\", nn.BatchNorm1d(1024)),\n",
    "                (\"relu1\", nn.ReLU()),\n",
    "                (\"dropout1\", nn.Dropout(wandb.config.DROPOUT)),\n",
    "                (\"fc2\", nn.Linear(1024, 512)),\n",
    "                (\"bn2\", nn.BatchNorm1d(512)),\n",
    "                (\"relu2\", nn.ReLU()),\n",
    "                (\"dropout2\", nn.Dropout(wandb.config.DROPOUT)),\n",
    "                (\"fc3\", nn.Linear(512, wandb.config.NUM_CLASSES)),\n",
    "            ]\n",
    "        )\n",
    "    )\n",
    "    model.fc = classifier\n",
    "\n",
    "    for name, param in model.named_parameters():\n",
    "        # Unfreeze layer4 and the classifier\n",
    "        param.requires_grad = False\n",
    "        for layer in wandb.config.RESNET_LAYERS_TO_TRAIN:\n",
    "            if layer in name:\n",
    "                param.requires_grad = True\n",
    "    if weights_path:\n",
    "        state_dict = torch.load(\n",
    "            weights_path, map_location=wandb.config.DEVICE\n",
    "        )  # or \"cuda\" if using GPU\n",
    "        model.load_state_dict(state_dict)\n",
    "\n",
    "    return model\n"
   ]
  },
  {
   "cell_type": "code",
   "execution_count": 127,
   "id": "c754b746",
   "metadata": {},
   "outputs": [],
   "source": [
    "def ensemble_test_predictions(models, test_dataset):\n",
    "    loader = DataLoader(test_dataset, batch_size=32)\n",
    "    all_probs = []\n",
    "    true_labels = []\n",
    "    filenames = []\n",
    "\n",
    "    for images, labels, paths in loader:\n",
    "        images = images.to(\"cuda\")\n",
    "        batch_probs = []\n",
    "\n",
    "        for model in models:\n",
    "            model.eval()\n",
    "            with torch.no_grad():\n",
    "                logits = model(images)\n",
    "                probs = F.softmax(logits, dim=1)\n",
    "                batch_probs.append(probs.cpu())\n",
    "\n",
    "        avg_probs = torch.stack(batch_probs).mean(dim=0)\n",
    "        all_probs.append(avg_probs)\n",
    "        true_labels.extend(labels.numpy())\n",
    "        filenames.extend(paths)\n",
    "\n",
    "    all_probs = torch.cat(all_probs).numpy()\n",
    "    predicted_labels = np.argmax(all_probs, axis=1)\n",
    "    return filenames, true_labels, predicted_labels, all_probs\n",
    "\n",
    "\n",
    "def ensemble_weighted_probs(models, weights, test_dataset):\n",
    "    assert len(models) == len(weights), \"Number of weights must match number of models\"\n",
    "    loader = DataLoader(test_dataset, batch_size=32)\n",
    "    all_probs = []\n",
    "    true_labels = []\n",
    "    filenames = []\n",
    "\n",
    "    weights = torch.tensor(weights).view(-1, 1, 1)  # shape: (num_models, 1, 1)\n",
    "\n",
    "    for images, labels, paths in loader:\n",
    "        images = images.to(\"cuda\")\n",
    "        batch_probs = []\n",
    "\n",
    "        for model in models:\n",
    "            model.eval()\n",
    "            with torch.no_grad():\n",
    "                logits = model(images)\n",
    "                probs = F.softmax(logits, dim=1)\n",
    "                batch_probs.append(probs.cpu())\n",
    "\n",
    "        # Weighted average of probabilities\n",
    "        batch_probs = torch.stack(batch_probs)  # shape: (num_models, batch_size, num_classes)\n",
    "        weighted_avg_probs = (batch_probs * weights).sum(dim=0) / weights.sum()\n",
    "        \n",
    "        all_probs.append(weighted_avg_probs)\n",
    "        true_labels.extend(labels.numpy())\n",
    "        filenames.extend(paths)\n",
    "\n",
    "    all_probs = torch.cat(all_probs).numpy()\n",
    "    predicted_labels = np.argmax(all_probs, axis=1)\n",
    "    return filenames, true_labels, predicted_labels, all_probs\n",
    "\n",
    "\n",
    "from collections import Counter\n",
    "\n",
    "def ensemble_majority_vote(models, test_dataset):\n",
    "    loader = DataLoader(test_dataset, batch_size=32)\n",
    "    all_votes = []\n",
    "    true_labels = []\n",
    "    filenames = []\n",
    "\n",
    "    for images, labels, paths in loader:\n",
    "        images = images.to(\"cuda\")\n",
    "        batch_votes = []\n",
    "\n",
    "        for model in models:\n",
    "            model.eval()\n",
    "            with torch.no_grad():\n",
    "                logits = model(images)\n",
    "                preds = torch.argmax(logits, dim=1)\n",
    "                batch_votes.append(preds.cpu().numpy())\n",
    "\n",
    "        # Majority vote for each sample\n",
    "        batch_votes = np.stack(batch_votes, axis=1)  # shape: (batch_size, num_models)\n",
    "        voted_preds = [Counter(row).most_common(1)[0][0] for row in batch_votes]\n",
    "\n",
    "        all_votes.extend(voted_preds)\n",
    "        true_labels.extend(labels.numpy())\n",
    "        filenames.extend(paths)\n",
    "    predicted_labels = np.argmax(all_votes, axis=1)\n",
    "    return filenames, true_labels, predicted_labels, all_votes\n",
    "\n"
   ]
  },
  {
   "cell_type": "code",
   "execution_count": 128,
   "id": "e4e97dab",
   "metadata": {},
   "outputs": [],
   "source": [
    "import torch\n",
    "import torch.nn.functional as F\n",
    "from torch.utils.data import DataLoader\n",
    "import os\n",
    "import numpy as np\n",
    "\n",
    "# Your ensemble_test_predictions function goes here (already provided)\n",
    "\n",
    "# Example model class — replace with your actual one\n",
    "from torchvision.models import resnet50\n",
    "from torch.nn import Linear\n",
    "\n",
    "def create_model(num_classes):\n",
    "    model = resnet50(pretrained=False)\n",
    "    model.fc = Linear(model.fc.in_features, num_classes)\n",
    "    return model\n",
    "\n",
    "def load_models_from_folder(folder_path, num_classes, device=\"cuda\"):\n",
    "    model_paths = [os.path.join(folder_path, f) for f in os.listdir(folder_path) if f.endswith(\".pth\")]\n",
    "    models = []\n",
    "\n",
    "    for path in model_paths:\n",
    "        print(path)\n",
    "        model_class_name = os.path.split(path)[-1].split(\"_\")[:1][0]\n",
    "        if model_class_name==\"ResNet50\":\n",
    "            model = get_resnet_model(path)\n",
    "        else:\n",
    "            model = get_timm_model(path,model_class_name)\n",
    "\n",
    "        # model = create_model(num_classes)\n",
    "        state_dict = torch.load(\n",
    "            path, map_location=wandb.config.DEVICE\n",
    "        )  # or \"cuda\" if using GPU\n",
    "        model.load_state_dict(state_dict)\n",
    "\n",
    "        # model.load_state_dict(torch.load(path, map_location=device))\n",
    "        model.to(device)\n",
    "        models.append(model)\n",
    "\n",
    "    return models\n"
   ]
  },
  {
   "cell_type": "code",
   "execution_count": 129,
   "id": "63aa3fa2",
   "metadata": {},
   "outputs": [
    {
     "data": {
      "text/html": [
       "Finishing previous runs because reinit is set to True."
      ],
      "text/plain": [
       "<IPython.core.display.HTML object>"
      ]
     },
     "metadata": {},
     "output_type": "display_data"
    },
    {
     "name": "stderr",
     "output_type": "stream",
     "text": [
      "\u001b[34m\u001b[1mwandb\u001b[0m: \u001b[32m\u001b[41mERROR\u001b[0m The nbformat package was not found. It is required to save notebook history.\n"
     ]
    },
    {
     "data": {
      "text/html": [],
      "text/plain": [
       "<IPython.core.display.HTML object>"
      ]
     },
     "metadata": {},
     "output_type": "display_data"
    },
    {
     "data": {
      "text/html": [
       "<br>    <style><br>        .wandb-row {<br>            display: flex;<br>            flex-direction: row;<br>            flex-wrap: wrap;<br>            justify-content: flex-start;<br>            width: 100%;<br>        }<br>        .wandb-col {<br>            display: flex;<br>            flex-direction: column;<br>            flex-basis: 100%;<br>            flex: 1;<br>            padding: 10px;<br>        }<br>    </style><br><div class=\"wandb-row\"><div class=\"wandb-col\"><h3>Run history:</h3><br/><table class=\"wandb\"><tr><td>ensemble_0_f1-score</td><td>▁</td></tr><tr><td>ensemble_0_precision</td><td>▁</td></tr><tr><td>ensemble_0_recall</td><td>▁</td></tr><tr><td>ensemble_0_support</td><td>▁</td></tr><tr><td>ensemble_1_f1-score</td><td>▁</td></tr><tr><td>ensemble_1_precision</td><td>▁</td></tr><tr><td>ensemble_1_recall</td><td>▁</td></tr><tr><td>ensemble_1_support</td><td>▁</td></tr><tr><td>ensemble_2_f1-score</td><td>▁</td></tr><tr><td>ensemble_2_precision</td><td>▁</td></tr><tr><td>ensemble_2_recall</td><td>▁</td></tr><tr><td>ensemble_2_support</td><td>▁</td></tr><tr><td>ensemble_macro avg_f1-score</td><td>▁</td></tr><tr><td>ensemble_macro avg_precision</td><td>▁</td></tr><tr><td>ensemble_macro avg_recall</td><td>▁</td></tr><tr><td>ensemble_macro avg_support</td><td>▁</td></tr><tr><td>ensemble_test_acc</td><td>▁</td></tr><tr><td>ensemble_test_auc</td><td>▁</td></tr><tr><td>ensemble_test_f1</td><td>▁</td></tr><tr><td>ensemble_test_precision</td><td>▁</td></tr><tr><td>ensemble_test_recall</td><td>▁</td></tr><tr><td>ensemble_weighted avg_f1-score</td><td>▁</td></tr><tr><td>ensemble_weighted avg_precision</td><td>▁</td></tr><tr><td>ensemble_weighted avg_recall</td><td>▁</td></tr><tr><td>ensemble_weighted avg_support</td><td>▁</td></tr><tr><td>test_acc</td><td>▁</td></tr><tr><td>test_auc</td><td>▁</td></tr><tr><td>test_f1</td><td>▁</td></tr></table><br/></div><div class=\"wandb-col\"><h3>Run summary:</h3><br/><table class=\"wandb\"><tr><td>ensemble_0_f1-score</td><td>0.60377</td></tr><tr><td>ensemble_0_precision</td><td>0.8</td></tr><tr><td>ensemble_0_recall</td><td>0.48485</td></tr><tr><td>ensemble_0_support</td><td>33</td></tr><tr><td>ensemble_1_f1-score</td><td>0.73171</td></tr><tr><td>ensemble_1_precision</td><td>0.625</td></tr><tr><td>ensemble_1_recall</td><td>0.88235</td></tr><tr><td>ensemble_1_support</td><td>17</td></tr><tr><td>ensemble_2_f1-score</td><td>0.63333</td></tr><tr><td>ensemble_2_precision</td><td>0.57576</td></tr><tr><td>ensemble_2_recall</td><td>0.7037</td></tr><tr><td>ensemble_2_support</td><td>27</td></tr><tr><td>ensemble_macro avg_f1-score</td><td>0.65627</td></tr><tr><td>ensemble_macro avg_precision</td><td>0.66692</td></tr><tr><td>ensemble_macro avg_recall</td><td>0.6903</td></tr><tr><td>ensemble_macro avg_support</td><td>77</td></tr><tr><td>ensemble_test_acc</td><td>0.64935</td></tr><tr><td>ensemble_test_auc</td><td>0.85932</td></tr><tr><td>ensemble_test_f1</td><td>0.65627</td></tr><tr><td>ensemble_test_precision</td><td>0.66692</td></tr><tr><td>ensemble_test_recall</td><td>0.6903</td></tr><tr><td>ensemble_weighted avg_f1-score</td><td>0.64238</td></tr><tr><td>ensemble_weighted avg_precision</td><td>0.68273</td></tr><tr><td>ensemble_weighted avg_recall</td><td>0.64935</td></tr><tr><td>ensemble_weighted avg_support</td><td>77</td></tr><tr><td>test_acc</td><td>0.66234</td></tr><tr><td>test_auc</td><td>0.86269</td></tr><tr><td>test_f1</td><td>0.6612</td></tr></table><br/></div></div>"
      ],
      "text/plain": [
       "<IPython.core.display.HTML object>"
      ]
     },
     "metadata": {},
     "output_type": "display_data"
    },
    {
     "data": {
      "text/html": [
       " View run <strong style=\"color:#cdcd00\">lr_7_bs_32_ResNet50_xpm82g</strong> at: <a href='https://wandb.ai/eladlaks-herzlia-reichman-university/models_for_ensemble/runs/9my9uq4h' target=\"_blank\">https://wandb.ai/eladlaks-herzlia-reichman-university/models_for_ensemble/runs/9my9uq4h</a><br> View project at: <a href='https://wandb.ai/eladlaks-herzlia-reichman-university/models_for_ensemble' target=\"_blank\">https://wandb.ai/eladlaks-herzlia-reichman-university/models_for_ensemble</a><br>Synced 5 W&B file(s), 2 media file(s), 0 artifact file(s) and 0 other file(s)"
      ],
      "text/plain": [
       "<IPython.core.display.HTML object>"
      ]
     },
     "metadata": {},
     "output_type": "display_data"
    },
    {
     "data": {
      "text/html": [
       "Find logs at: <code>./wandb/run-20250818_131842-9my9uq4h/logs</code>"
      ],
      "text/plain": [
       "<IPython.core.display.HTML object>"
      ]
     },
     "metadata": {},
     "output_type": "display_data"
    },
    {
     "data": {
      "text/html": [
       "Tracking run with wandb version 0.19.10"
      ],
      "text/plain": [
       "<IPython.core.display.HTML object>"
      ]
     },
     "metadata": {},
     "output_type": "display_data"
    },
    {
     "data": {
      "text/html": [
       "Run data is saved locally in <code>/workspace/osteoporosis_project/wandb/run-20250818_131933-3lcqytzg</code>"
      ],
      "text/plain": [
       "<IPython.core.display.HTML object>"
      ]
     },
     "metadata": {},
     "output_type": "display_data"
    },
    {
     "data": {
      "text/html": [
       "Syncing run <strong><a href='https://wandb.ai/eladlaks-herzlia-reichman-university/models_for_ensemble/runs/3lcqytzg' target=\"_blank\">lr_7_bs_32_ResNet50_xfgavk</a></strong> to <a href='https://wandb.ai/eladlaks-herzlia-reichman-university/models_for_ensemble' target=\"_blank\">Weights & Biases</a> (<a href='https://wandb.me/developer-guide' target=\"_blank\">docs</a>)<br>"
      ],
      "text/plain": [
       "<IPython.core.display.HTML object>"
      ]
     },
     "metadata": {},
     "output_type": "display_data"
    },
    {
     "data": {
      "text/html": [
       " View project at <a href='https://wandb.ai/eladlaks-herzlia-reichman-university/models_for_ensemble' target=\"_blank\">https://wandb.ai/eladlaks-herzlia-reichman-university/models_for_ensemble</a>"
      ],
      "text/plain": [
       "<IPython.core.display.HTML object>"
      ]
     },
     "metadata": {},
     "output_type": "display_data"
    },
    {
     "data": {
      "text/html": [
       " View run at <a href='https://wandb.ai/eladlaks-herzlia-reichman-university/models_for_ensemble/runs/3lcqytzg' target=\"_blank\">https://wandb.ai/eladlaks-herzlia-reichman-university/models_for_ensemble/runs/3lcqytzg</a>"
      ],
      "text/plain": [
       "<IPython.core.display.HTML object>"
      ]
     },
     "metadata": {},
     "output_type": "display_data"
    },
    {
     "name": "stdout",
     "output_type": "stream",
     "text": [
      "Wandb configuration:\n",
      "DATA_DIR: /data/final_version/train_data/cropped_by_yolo\n",
      "TEST_DATA_DIR: data/final_version/test_data/cropped_by_yolo\n",
      "DUPLICATE_THRESHOLD: 0.99\n",
      "YOLO_WEIGHTS_PATH: /workspace/osteoporosis_project/pretrained/yolo_weights.pt\n",
      "DEVICE: cuda\n",
      "BATCH_SIZE: 32\n",
      "NUM_EPOCHS: 20\n",
      "LEARNING_RATE: 7\n",
      "ALEX_FREEZE_FEATURES: True\n",
      "USE_TRANSFORM_AUGMENTATION_IN_TRAINING: True\n",
      "USE_CLAHE: False\n",
      "MODEL_NAME: ResNet50\n",
      "USE_OSTEOPENIA: True\n",
      "SKIP_DUP_DATA: False\n",
      "TRAIN_WEIGHTED_RANDOM_SAMPLER: True\n",
      "NUM_WORKERS: 1\n",
      "USE_TEST_DATA_DIR: True\n",
      "USE_SCHEDULER: True\n",
      "USE_LABEL_SMOOTHING: True\n",
      "USE_CONFIDENCE_WEIGHTED_LOSS: False\n",
      "USE_HARD_SAMPLING: False\n",
      "CONFIDENCE_THRESHOLD: 0.85\n",
      "CONFIDENCE_PENALTY_WEIGHT: 2.0\n",
      "LABEL_SMOOTHING_EPSILON: 0.1\n",
      "RESNET_LAYERS_TO_TRAIN: ['fc', 'layer2', 'layer3', 'layer4']\n",
      "DROPOUT: 0.5\n",
      "USE_METABOLIC_FOR_TEST: False\n",
      "USE_K_FOLD: False\n",
      "K_FOLDS: 5\n",
      "NUM_CLASSES: 3\n",
      "FINE_TUNE_LR_MULTIPLIER: 1.0\n",
      "Run name: lr_7_bs_32_ResNet50_xfgavk\n"
     ]
    }
   ],
   "source": [
    "from argparse import Namespace\n",
    "\n",
    "\n",
    "size = (512, 512) \n",
    "args = Namespace(LEARNING_RATE=7, BATCH_SIZE=32,NUM_CLASSES=3, NUM_EPOCHS=20, USE_CLAHE=False, MODEL_NAME='ResNet50', USE_OSTEOPENIA=True, USE_TEST_DATA_DIR=True, USE_SCHEDULER=True, TRAIN_WEIGHTED_RANDOM_SAMPLER=True, NUM_WORKERS=1, DATA_DIR='/data/final_version/train_data/cropped_by_yolo', TEST_DATA_DIR='data/final_version/test_data/cropped_by_yolo', USE_LABEL_SMOOTHING=True, USE_HARD_SAMPLING=False, USE_CONFIDENCE_WEIGHTED_LOSS=False, CONFIDENCE_PENALTY_WEIGHT=2.0, CONFIDENCE_THRESHOLD=0.85, LABEL_SMOOTHING_EPSILON=0.1, USE_TRANSFORM_AUGMENTATION_IN_TRAINING=True, FINE_TUNE_LR_MULTIPLIER=1.0, DROPOUT=0.5, RESNET_LAYERS_TO_TRAIN=['fc', 'layer2', 'layer3', 'layer4'])\n",
    "init_wandb(project_name=\"models_for_ensemble\", args=args)\n",
    "prepare_to_network_transforms = [\n",
    "    transforms.Resize(size),\n",
    "    transforms.ToTensor(),\n",
    "    transforms.Normalize(mean=[0.485, 0.456, 0.406], std=[0.229, 0.224, 0.225]),\n",
    "]\n",
    "\n",
    "\n",
    "augmentation_transform = [\n",
    "    transforms.RandomResizedCrop(224),\n",
    "    transforms.RandomRotation(degrees=10),  # Small random rotation\n",
    "    transforms.RandomHorizontalFlip(p=0.5),  # 50% chance to flip\n",
    "    transforms.RandomAffine(degrees=0, translate=(0.1, 0.1)),  # Small shifts\n",
    "    transforms.ColorJitter(brightness=0.2, \n",
    "                        contrast=0.2, \n",
    "                        saturation=0.2, \n",
    "                        hue=0.1),  # Adjust contrast\n",
    "]\n",
    "\n",
    "all_transformation = []\n",
    "train_transformations = []\n",
    "train_transformations += augmentation_transform\n",
    "\n",
    "all_transformation += prepare_to_network_transforms\n",
    "train_transformations += all_transformation\n",
    "eval_transform = transforms.Compose(all_transformation)\n",
    "\n",
    "train_transform = transforms.Compose(train_transformations)\n",
    "\n",
    "\n",
    "\n",
    "test_dataset = ImageDataset(wandb.config.TEST_DATA_DIR)\n",
    "test_dataset.transform = eval_transform\n"
   ]
  },
  {
   "cell_type": "code",
   "execution_count": null,
   "id": "77f7bf78",
   "metadata": {},
   "outputs": [],
   "source": []
  },
  {
   "cell_type": "code",
   "execution_count": 130,
   "id": "fb79f24c",
   "metadata": {},
   "outputs": [
    {
     "name": "stdout",
     "output_type": "stream",
     "text": [
      "saved_models/ensembel_models/densenet121_best.pth\n"
     ]
    },
    {
     "name": "stderr",
     "output_type": "stream",
     "text": [
      "/tmp/ipykernel_44108/1219512222.py:31: FutureWarning: You are using `torch.load` with `weights_only=False` (the current default value), which uses the default pickle module implicitly. It is possible to construct malicious pickle data which will execute arbitrary code during unpickling (See https://github.com/pytorch/pytorch/blob/main/SECURITY.md#untrusted-models for more details). In a future release, the default value for `weights_only` will be flipped to `True`. This limits the functions that could be executed during unpickling. Arbitrary objects will no longer be allowed to be loaded via this mode unless they are explicitly allowlisted by the user via `torch.serialization.add_safe_globals`. We recommend you start setting `weights_only=True` for any use case where you don't have full control of the loaded file. Please open an issue on GitHub for any issues related to this experimental feature.\n",
      "  state_dict = torch.load(\n"
     ]
    },
    {
     "name": "stdout",
     "output_type": "stream",
     "text": [
      "saved_models/ensembel_models/resnet50_best.pth\n",
      "saved_models/ensembel_models/resnet34_best.pth\n"
     ]
    }
   ],
   "source": [
    "\n",
    "num_classes = 3  # Or whatever is relevant\n",
    "\n",
    "# Load models\n",
    "folder_path = r\"saved_models/ensembel_models\"\n",
    "models = load_models_from_folder(folder_path, num_classes)\n",
    "\n",
    "# Get ensemble predictions\n",
    "filenames, true_labels, predicted_labels, all_probs = ensemble_test_predictions(models, test_dataset)\n"
   ]
  },
  {
   "cell_type": "code",
   "execution_count": 131,
   "id": "e91b9adc",
   "metadata": {},
   "outputs": [],
   "source": [
    "def ensemble_test_predictions_majority(models, test_dataset):\n",
    "    loader = DataLoader(test_dataset, batch_size=32)\n",
    "    all_probs = []\n",
    "    all_preds = []\n",
    "    true_labels = []\n",
    "    filenames = []\n",
    "\n",
    "    for images, labels, paths in loader:\n",
    "        images = images.to(\"cuda\")\n",
    "        batch_preds = []\n",
    "        batch_probs = []\n",
    "\n",
    "        for model in models:\n",
    "            model.eval()\n",
    "            with torch.no_grad():\n",
    "                logits = model(images)\n",
    "                probs = F.softmax(logits, dim=1)\n",
    "                preds = torch.argmax(probs, dim=1)\n",
    "                batch_preds.append(preds.cpu())\n",
    "                batch_probs.append(probs.cpu())\n",
    "\n",
    "        # Majority vote for predictions\n",
    "        stacked_preds = torch.stack(batch_preds)   # [num_models, batch_size]\n",
    "        majority_preds = torch.mode(stacked_preds, dim=0).values  # [batch_size]\n",
    "\n",
    "        # Keep averaged probs for compatibility\n",
    "        avg_probs = torch.stack(batch_probs).mean(dim=0)\n",
    "\n",
    "        all_preds.append(majority_preds)\n",
    "        all_probs.append(avg_probs)\n",
    "        true_labels.extend(labels.numpy())\n",
    "        filenames.extend(paths)\n",
    "\n",
    "    all_probs = torch.cat(all_probs).numpy()\n",
    "    predicted_labels = torch.cat(all_preds).numpy()\n",
    "    return filenames, true_labels, predicted_labels, all_probs\n"
   ]
  },
  {
   "cell_type": "code",
   "execution_count": 132,
   "id": "1ac1a23e",
   "metadata": {},
   "outputs": [],
   "source": [
    "\n",
    "filenames, true_labels, predicted_labels, all_probs = ensemble_test_predictions_majority(models, test_dataset)"
   ]
  },
  {
   "cell_type": "code",
   "execution_count": 133,
   "id": "c8a34256",
   "metadata": {},
   "outputs": [
    {
     "data": {
      "text/plain": [
       "3"
      ]
     },
     "execution_count": 133,
     "metadata": {},
     "output_type": "execute_result"
    }
   ],
   "source": [
    "len(models)"
   ]
  },
  {
   "cell_type": "code",
   "execution_count": 134,
   "id": "6b95c27c",
   "metadata": {},
   "outputs": [
    {
     "data": {
      "text/plain": [
       "77"
      ]
     },
     "execution_count": 134,
     "metadata": {},
     "output_type": "execute_result"
    }
   ],
   "source": [
    "len(predicted_labels)"
   ]
  },
  {
   "cell_type": "code",
   "execution_count": 135,
   "id": "268986a7",
   "metadata": {},
   "outputs": [
    {
     "data": {
      "text/plain": [
       "77"
      ]
     },
     "execution_count": 135,
     "metadata": {},
     "output_type": "execute_result"
    }
   ],
   "source": [
    "len(test_dataset)"
   ]
  },
  {
   "cell_type": "code",
   "execution_count": 136,
   "id": "effd6822",
   "metadata": {},
   "outputs": [
    {
     "name": "stdout",
     "output_type": "stream",
     "text": [
      "Number of files (including subfolders): 77\n"
     ]
    }
   ],
   "source": [
    "import os\n",
    "\n",
    "path = r\"data/final_version/test_data/cropped_by_yolo\"\n",
    "\n",
    "file_count = sum(len(files) for _, _, files in os.walk(path))\n",
    "print(f\"Number of files (including subfolders): {file_count}\")"
   ]
  },
  {
   "cell_type": "code",
   "execution_count": 137,
   "id": "c90e3c9e",
   "metadata": {},
   "outputs": [],
   "source": [
    "from sklearn.metrics import (\n",
    "    confusion_matrix, classification_report, accuracy_score, f1_score,\n",
    "    roc_auc_score, roc_curve\n",
    ")\n",
    "import matplotlib.pyplot as plt\n",
    "import seaborn as sns\n",
    "import numpy as np"
   ]
  },
  {
   "cell_type": "code",
   "execution_count": 138,
   "id": "f4ffccb3",
   "metadata": {},
   "outputs": [],
   "source": [
    "def evaluate_predictions(true_labels, predicted_labels, all_probs, class_names):\n",
    "    # Accuracy\n",
    "    acc = accuracy_score(true_labels, predicted_labels)\n",
    "    \n",
    "    # F1 Score (macro for multi-class)\n",
    "    f1 = f1_score(true_labels, predicted_labels, average='macro')\n",
    "    \n",
    "    # Confusion Matrix\n",
    "    cm = confusion_matrix(true_labels, predicted_labels)\n",
    "    \n",
    "    # AUC (One-vs-Rest strategy)\n",
    "    try:\n",
    "        auc = roc_auc_score(true_labels, all_probs, multi_class='ovr')\n",
    "    except ValueError:\n",
    "        auc = None  # Sometimes fails if only one class in y_true\n",
    "\n",
    "    print(f\"Accuracy: {acc:.4f}\")\n",
    "    print(f\"F1 Score (macro): {f1:.4f}\")\n",
    "    if auc is not None:\n",
    "        print(f\"AUC (OvR): {auc:.4f}\")\n",
    "    \n",
    "    print(\"\\nClassification Report:\")\n",
    "    print(classification_report(true_labels, predicted_labels, target_names=class_names))\n",
    "\n",
    "    # Plot confusion matrix\n",
    "    plt.figure(figsize=(8, 6))\n",
    "    sns.heatmap(cm, annot=True, fmt='d', cmap='Blues',\n",
    "                xticklabels=class_names,\n",
    "                yticklabels=class_names)\n",
    "    plt.xlabel(\"Predicted\")\n",
    "    plt.ylabel(\"True\")\n",
    "    plt.title(\"Confusion Matrix\")\n",
    "    plt.tight_layout()\n",
    "    plt.show()\n",
    "    return auc,f1,acc,cm\n"
   ]
  },
  {
   "cell_type": "code",
   "execution_count": 139,
   "id": "44484202",
   "metadata": {},
   "outputs": [],
   "source": [
    "class_names = [\"normal\", \"osteopenia\", \"osteoporosis\"]\n"
   ]
  },
  {
   "cell_type": "code",
   "execution_count": 140,
   "id": "23057d26",
   "metadata": {},
   "outputs": [
    {
     "name": "stdout",
     "output_type": "stream",
     "text": [
      "Accuracy: 0.6623\n",
      "F1 Score (macro): 0.6577\n",
      "AUC (OvR): 0.8627\n",
      "\n",
      "Classification Report:\n",
      "              precision    recall  f1-score   support\n",
      "\n",
      "      normal       0.60      0.79      0.68        33\n",
      "  osteopenia       0.69      0.65      0.67        17\n",
      "osteoporosis       0.78      0.52      0.62        27\n",
      "\n",
      "    accuracy                           0.66        77\n",
      "   macro avg       0.69      0.65      0.66        77\n",
      "weighted avg       0.68      0.66      0.66        77\n",
      "\n"
     ]
    },
    {
     "data": {
      "image/png": "[encoded data removed]",
      "text/plain": [
       "<Figure size 800x600 with 2 Axes>"
      ]
     },
     "metadata": {},
     "output_type": "display_data"
    }
   ],
   "source": [
    "auc,f1,acc,cm = evaluate_predictions(true_labels, predicted_labels, all_probs, class_names)\n"
   ]
  },
  {
   "cell_type": "code",
   "execution_count": 141,
   "id": "76eea6ed",
   "metadata": {},
   "outputs": [],
   "source": [
    "wandb.log(\n",
    "        {\n",
    "            f\"test_acc\": acc,\n",
    "            f\"test_f1\": f1,\n",
    "            f\"test_auc\": auc if auc is not None else 0.0,\n",
    "        }\n",
    "    )\n",
    "\n",
    "plt.figure(figsize=(8, 6))\n",
    "sns.heatmap(\n",
    "    cm,\n",
    "    annot=True,\n",
    "    fmt=\"d\",\n",
    "    cmap=\"Blues\",\n",
    "    xticklabels=class_names,\n",
    "    yticklabels=class_names,\n",
    ")\n",
    "plt.xlabel(\"Predicted Label\")\n",
    "plt.ylabel(\"True Label\")\n",
    "plt.title(f\"Confusion Matrix - enseble\")\n",
    "wandb.log({f\"enseble_confusion_matrix\": wandb.Image(plt)})\n",
    "plt.close()\n",
    "\n",
    "# # Classification Report + Per-Class Metrics\n",
    "# report = classification_report(\n",
    "#     all_labels_np, all_preds_np, output_dict=True, zero_division=0\n",
    "# )\n",
    "# wandb.log(\n",
    "#     {f\"{model_name}_classification_report\": report}\n",
    "# )  # Log per-class metrics (optional)\n",
    "# for label, metrics in report.items():\n",
    "#     if isinstance(metrics, dict):\n",
    "#         for metric_name, value in metrics.items():\n",
    "#             wandb.log({f\"{model_name}_{label}_{metric_name}\": value})\n"
   ]
  },
  {
   "cell_type": "code",
   "execution_count": 142,
   "id": "ec60d1ff",
   "metadata": {},
   "outputs": [],
   "source": [
    "from train.train import use_best_model_gideon\n",
    "test_loader = DataLoader(\n",
    "    test_dataset,\n",
    "    batch_size=wandb.config.BATCH_SIZE,\n",
    "    shuffle=False,\n",
    "    num_workers=wandb.config.NUM_WORKERS,\n",
    ")\n",
    "\n",
    "\n",
    "# use_best_model_gideon(\n",
    "#     models[0], \"try\", \"saved_models/ens/dense/densenet121_best (1).pth\", test_loader, criterion = nn.CrossEntropyLoss()\n",
    "\n",
    "# )"
   ]
  },
  {
   "cell_type": "code",
   "execution_count": 143,
   "id": "af9e2de3",
   "metadata": {},
   "outputs": [],
   "source": [
    "import os\n",
    "import torch\n",
    "import numpy as np\n",
    "import pandas as pd\n",
    "import matplotlib.pyplot as plt\n",
    "import seaborn as sns\n",
    "\n",
    "from pathlib import Path\n",
    "from collections import OrderedDict\n",
    "from sklearn.metrics import (\n",
    "    f1_score, precision_score, recall_score, roc_auc_score,\n",
    "    confusion_matrix, classification_report\n",
    ")\n",
    "import wandb\n",
    "\n",
    "def use_best_models_ensemble_gideon(\n",
    "    models_list,  # list of tuples: [(model_obj, model_name, best_model_path), ...]\n",
    "    test_loader,\n",
    "    criterion\n",
    "):\n",
    "    # Load each model's best weights\n",
    "    for model, model_name, best_model_path in models_list:\n",
    "        artifact = wandb.Artifact(f\"best_model_{model_name}\", type=\"model\")\n",
    "        artifact.add_file(best_model_path)\n",
    "        wandb.log_artifact(artifact)\n",
    "\n",
    "        model.load_state_dict(torch.load(best_model_path, weights_only=False))\n",
    "        model.eval()\n",
    "\n",
    "    # Storage for evaluation\n",
    "    all_labels = []\n",
    "    all_probs_ensemble = []\n",
    "    all_preds_ensemble = []\n",
    "    all_images_path = []\n",
    "    all_image_legs = []\n",
    "\n",
    "    # remove previous logits file for ensemble\n",
    "    run_tag = \"ensemble_best\"\n",
    "    pt_prev = Path(\"saved_models\") / f\"{run_tag}_val_logits.pt\"\n",
    "    csv_prev = pt_prev.with_suffix(\".csv\")\n",
    "    if pt_prev.exists():\n",
    "        pt_prev.unlink()\n",
    "    if csv_prev.exists():\n",
    "        csv_prev.unlink()\n",
    "\n",
    "    with torch.no_grad():\n",
    "        for images, labels, images_path in test_loader:\n",
    "            images = images.to(wandb.config.DEVICE)\n",
    "            labels = labels.to(wandb.config.DEVICE)\n",
    "\n",
    "            # --- Get predictions from all models ---\n",
    "            probs_sum = None\n",
    "            for model, _, _ in models_list:\n",
    "                outputs = model(images)\n",
    "                probs = torch.softmax(outputs, dim=1)\n",
    "\n",
    "                if probs_sum is None:\n",
    "                    probs_sum = probs\n",
    "                else:\n",
    "                    probs_sum += probs\n",
    "\n",
    "            # Average probabilities\n",
    "            probs_avg = probs_sum / len(models_list)\n",
    "            _, predicted = torch.max(probs_avg.data, 1)\n",
    "\n",
    "            # Track results\n",
    "            all_labels.extend(labels.cpu().numpy())\n",
    "            all_probs_ensemble.extend(probs_avg.cpu().numpy())\n",
    "            all_preds_ensemble.extend(predicted.cpu().numpy())\n",
    "            all_images_path.extend(\n",
    "                [\n",
    "                    os.path.splitext(os.path.basename(p))[0].split(\"_\")[0]\n",
    "                    for p in images_path\n",
    "                ]\n",
    "            )\n",
    "            try:\n",
    "                all_image_legs.extend(\n",
    "                    [\n",
    "                        os.path.splitext(os.path.basename(p))[0].split(\"_\")[1]\n",
    "                        for p in images_path\n",
    "                    ]\n",
    "                )\n",
    "            except:\n",
    "                all_image_legs.extend([\"no_crop\" for p in images_path])\n",
    "\n",
    "    # Convert to numpy arrays\n",
    "    all_labels_np = np.array(all_labels)\n",
    "    all_preds_np = np.array(all_preds_ensemble)\n",
    "    all_probs_np = np.array(all_probs_ensemble)\n",
    "\n",
    "    # --- Metrics ---\n",
    "    avg_test_loss = None  # Not averaging losses in ensemble mode\n",
    "    test_accuracy = (all_preds_np == all_labels_np).mean()\n",
    "    test_f1 = f1_score(all_labels_np, all_preds_np, average=\"macro\")\n",
    "    test_precision = precision_score(all_labels_np, all_preds_np, average=\"macro\")\n",
    "    test_recall = recall_score(all_labels_np, all_preds_np, average=\"macro\")\n",
    "    try:\n",
    "        all_labels_one_hot = np.eye(wandb.config.NUM_CLASSES)[all_labels_np]\n",
    "        test_auc = roc_auc_score(\n",
    "            all_labels_one_hot, all_probs_np, average=\"macro\", multi_class=\"ovr\"\n",
    "        )\n",
    "    except Exception as e:\n",
    "        print(f\"AUC computation failed: {e}\")\n",
    "        test_auc = None\n",
    "\n",
    "    # --- Print summary ---\n",
    "    print(\n",
    "        f\"[ENSEMBLE] Test Accuracy: {test_accuracy:.4f}, \"\n",
    "        f\"F1: {test_f1:.4f}, Precision: {test_precision:.4f}, \"\n",
    "        f\"Recall: {test_recall:.4f}, AUC: {test_auc if test_auc else 'N/A'}\"\n",
    "    )\n",
    "\n",
    "    # --- Log to W&B ---\n",
    "    wandb.log(\n",
    "        {\n",
    "            \"ensemble_test_acc\": test_accuracy,\n",
    "            \"ensemble_test_f1\": test_f1,\n",
    "            \"ensemble_test_precision\": test_precision,\n",
    "            \"ensemble_test_recall\": test_recall,\n",
    "            \"ensemble_test_auc\": test_auc if test_auc else 0.0,\n",
    "        }\n",
    "    )\n",
    "\n",
    "    # --- Confusion Matrix ---\n",
    "    if wandb.config.NUM_CLASSES == 2:\n",
    "        class_names = [\"Normal\", \"Osteoporosis\"]\n",
    "    else:\n",
    "        class_names = [\"Normal\", \"Osteopenia\", \"Osteoporosis\"]\n",
    "\n",
    "    cm = confusion_matrix(all_labels_np, all_preds_np)\n",
    "    plt.figure(figsize=(8, 6))\n",
    "    sns.heatmap(\n",
    "        cm, annot=True, fmt=\"d\", cmap=\"Blues\",\n",
    "        xticklabels=class_names, yticklabels=class_names\n",
    "    )\n",
    "    plt.xlabel(\"Predicted Label\")\n",
    "    plt.ylabel(\"True Label\")\n",
    "    plt.title(\"Confusion Matrix - ENSEMBLE\")\n",
    "    wandb.log({\"ensemble_confusion_matrix\": wandb.Image(plt)})\n",
    "    plt.show()\n",
    "\n",
    "\n",
    "    # --- Classification Report ---\n",
    "    report = classification_report(\n",
    "        all_labels_np, all_preds_np, output_dict=True, zero_division=0\n",
    "    )\n",
    "    wandb.log({\"ensemble_classification_report\": report})\n",
    "    for label, metrics in report.items():\n",
    "        if isinstance(metrics, dict):\n",
    "            for metric_name, value in metrics.items():\n",
    "                wandb.log({f\"ensemble_{label}_{metric_name}\": value})\n",
    "\n",
    "    # --- Optional: Merge with patient details ---\n",
    "    if wandb.config.USE_METABOLIC_FOR_TEST:\n",
    "        try:\n",
    "            df_pred = pd.DataFrame(\n",
    "                {\n",
    "                    \"labels\": all_labels,\n",
    "                    \"preds\": all_preds_ensemble,\n",
    "                    \"probs\": all_probs_ensemble,\n",
    "                    \"path\": all_images_path,\n",
    "                    \"leg_tag\": all_image_legs,\n",
    "                }\n",
    "            )\n",
    "            patient_details_path = \"data/new_data/patient_details.csv\"\n",
    "            if os.path.exists(patient_details_path):\n",
    "                df_patient = pd.read_csv(patient_details_path)\n",
    "            else:\n",
    "                print(\"Warning: Patient details file not found\")\n",
    "                df_patient = None\n",
    "\n",
    "            if df_patient is not None:\n",
    "                if \"probs_class_0\" not in df_patient.columns:\n",
    "                    for c in range(wandb.config.NUM_CLASSES):\n",
    "                        df_patient[f\"probs_class_{c}\"] = None\n",
    "\n",
    "                df_merged = df_patient.reset_index().merge(\n",
    "                    df_pred, left_on=\"Patient Id\", right_on=\"path\"\n",
    "                )\n",
    "                df_merged[\n",
    "                    [f\"probs_class_{i}\" for i in range(wandb.config.NUM_CLASSES)]\n",
    "                ] = pd.DataFrame(df_merged[\"probs\"].tolist(), index=df_merged.index)\n",
    "\n",
    "                output_csv_path = f\"patient_details_with_probs_output_ensemble.csv\"\n",
    "                df_merged.to_csv(output_csv_path, index=False)\n",
    "\n",
    "                artifact = wandb.Artifact(\"test_metabolic_ensemble\", type=\"csv\")\n",
    "                artifact.add_file(output_csv_path)\n",
    "                wandb.log_artifact(artifact)\n",
    "\n",
    "        except Exception as e:\n",
    "            print(f\"Error processing patient details: {e}\")\n"
   ]
  },
  {
   "cell_type": "code",
   "execution_count": 144,
   "id": "d8b74d6f",
   "metadata": {},
   "outputs": [],
   "source": [
    "models_re=[\n",
    "    # [models[0], \"try\", r\"saved_models/ens/dense/densenet121_best (1).pth\"],\n",
    "    # [models[1], \"try\", r\"saved_models/ens/dense/densenet121_best (2).pth\"],\n",
    "    [models[0], \"try\", r\"saved_models/res/densenet121_best.pth\"],\n",
    "\n",
    "    [models[1], \"try\", r\"saved_models/res/ResNet50_best (6).pth\"]\n",
    "           ]"
   ]
  },
  {
   "cell_type": "code",
   "execution_count": 145,
   "id": "350fc043",
   "metadata": {},
   "outputs": [
    {
     "name": "stdout",
     "output_type": "stream",
     "text": [
      "[ENSEMBLE] Test Accuracy: 0.6494, F1: 0.6563, Precision: 0.6669, Recall: 0.6903, AUC: 0.8593168764291758\n"
     ]
    },
    {
     "data": {
      "image/png": "[encoded data removed]",
      "text/plain": [
       "<Figure size 800x600 with 2 Axes>"
      ]
     },
     "metadata": {},
     "output_type": "display_data"
    }
   ],
   "source": [
    "use_best_models_ensemble_gideon(\n",
    "    models_re, test_loader, criterion = nn.CrossEntropyLoss()\n",
    "\n",
    ")"
   ]
  },
  {
   "cell_type": "code",
   "execution_count": 146,
   "id": "6935d275",
   "metadata": {},
   "outputs": [
    {
     "data": {
      "image/png": "[encoded data removed]",
      "text/plain": [
       "<Figure size 600x600 with 2 Axes>"
      ]
     },
     "metadata": {},
     "output_type": "display_data"
    }
   ],
   "source": [
    "import torch\n",
    "import torch.nn as nn\n",
    "from sklearn.metrics import confusion_matrix, ConfusionMatrixDisplay\n",
    "import matplotlib.pyplot as plt\n",
    "import numpy as np\n",
    "\n",
    "def plot_confusion_matrix(model, dataloader, device, class_names):\n",
    "    model.eval()\n",
    "    model.to(device)\n",
    "\n",
    "    all_preds = []\n",
    "    all_labels = []\n",
    "\n",
    "    with torch.no_grad():\n",
    "        for batch in dataloader:\n",
    "            inputs = batch[0].to(device)  # first element: images\n",
    "            labels = batch[1].to(device)  # second element: labels\n",
    "\n",
    "            outputs = model(inputs)\n",
    "            _, preds = torch.max(outputs, 1)\n",
    "\n",
    "            all_preds.extend(preds.cpu().numpy())\n",
    "            all_labels.extend(labels.cpu().numpy())\n",
    "\n",
    "    # Compute confusion matrix\n",
    "    cm = confusion_matrix(all_labels, all_preds)\n",
    "    disp = ConfusionMatrixDisplay(confusion_matrix=cm, display_labels=class_names)\n",
    "\n",
    "    fig, ax = plt.subplots(figsize=(6, 6))\n",
    "    disp.plot(ax=ax, cmap=plt.cm.Blues, colorbar=True)\n",
    "    plt.title(\"Confusion Matrix\")\n",
    "    plt.show()\n",
    "\n",
    "    return cm\n",
    "\n",
    "# Example usage:\n",
    "# Assuming your model is `model` and test dataloader is `test_loader`\n",
    "# class_names = ['data-normal', 'osteopenia', 'osteoporosis']\n",
    "device = torch.device(\"cuda\" if torch.cuda.is_available() else \"cpu\")\n",
    "cm = plot_confusion_matrix(models[0], test_loader, device, class_names)\n"
   ]
  },
  {
   "cell_type": "code",
   "execution_count": 147,
   "id": "4d175708",
   "metadata": {},
   "outputs": [
    {
     "data": {
      "text/plain": [
       "['normal', 'osteopenia', 'osteoporosis']"
      ]
     },
     "execution_count": 147,
     "metadata": {},
     "output_type": "execute_result"
    }
   ],
   "source": [
    "class_names"
   ]
  },
  {
   "cell_type": "code",
   "execution_count": null,
   "id": "d53a0be1",
   "metadata": {},
   "outputs": [],
   "source": []
  }
 ],
 "metadata": {
  "kernelspec": {
   "display_name": "base",
   "language": "python",
   "name": "python3"
  },
  "language_info": {
   "codemirror_mode": {
    "name": "ipython",
    "version": 3
   },
   "file_extension": ".py",
   "mimetype": "text/x-python",
   "name": "python",
   "nbconvert_exporter": "python",
   "pygments_lexer": "ipython3",
   "version": "3.12.9"
  }
 },
 "nbformat": 4,
 "nbformat_minor": 5
}
