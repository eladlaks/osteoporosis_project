{
 "cells": [
  {
   "cell_type": "code",
   "execution_count": 1,
   "metadata": {
    "_cell_guid": "c836de08-5834-44ed-b8ea-c9afdfc59b0c",
    "_uuid": "a158fe1f-b7cb-460c-a9e9-cfca5bf1e10b",
    "collapsed": false,
    "execution": {
     "iopub.execute_input": "2023-11-12T07:30:04.006063Z",
     "iopub.status.busy": "2023-11-12T07:30:04.005136Z",
     "iopub.status.idle": "2023-11-12T07:30:04.311971Z",
     "shell.execute_reply": "2023-11-12T07:30:04.310883Z",
     "shell.execute_reply.started": "2023-11-12T07:30:04.006026Z"
    },
    "jupyter": {
     "outputs_hidden": false
    },
    "trusted": true
   },
   "outputs": [],
   "source": [
    "import os\n",
    "for dirname, _, filenames in os.walk('OS_Collected_Data'):\n",
    "    for filename in filenames:\n",
    "        os.path.join(dirname, filename)"
   ]
  },
  {
   "cell_type": "code",
   "execution_count": 2,
   "metadata": {
    "execution": {
     "iopub.execute_input": "2023-11-12T07:30:04.487096Z",
     "iopub.status.busy": "2023-11-12T07:30:04.486655Z",
     "iopub.status.idle": "2023-11-12T07:30:16.727260Z",
     "shell.execute_reply": "2023-11-12T07:30:16.726311Z",
     "shell.execute_reply.started": "2023-11-12T07:30:04.487059Z"
    },
    "trusted": true
   },
   "outputs": [],
   "source": [
    "import pandas as pd\n",
    "import numpy as np\n",
    "import keras\n",
    "import warnings\n",
    "warnings.filterwarnings(action=\"ignore\")\n",
    "import matplotlib.pyplot as plt\n",
    "%matplotlib inline\n",
    "\n",
    "from keras.models import Sequential\n",
    "from keras.layers import Dense, Dropout, Flatten\n",
    "from keras.layers import Conv2D, MaxPooling2D\n",
    "from keras import backend as K\n",
    "\n",
    "from sklearn.preprocessing import StandardScaler\n",
    "from sklearn.model_selection import train_test_split\n",
    "from sklearn.metrics import classification_report\n",
    "import tensorflow as tf\n",
    "from tensorflow import keras\n",
    "from tensorflow.keras.models import Sequential\n",
    "from tensorflow.keras.layers import Conv2D, MaxPooling2D, Flatten, Dense\n",
    "from tensorflow.keras.applications.vgg19 import VGG19\n",
    "from tensorflow.keras.optimizers import Adam\n",
    "from tensorflow.keras.losses import SparseCategoricalCrossentropy\n",
    "from keras.preprocessing.image import ImageDataGenerator\n",
    "from tensorflow.keras.callbacks import TensorBoard,EarlyStopping\n",
    "\n",
    "import sklearn.metrics as metrics\n",
    "from keras.callbacks import LearningRateScheduler\n",
    "from keras.preprocessing.image import ImageDataGenerator\n",
    "annealer = LearningRateScheduler(lambda x: 1e-3 * 0.95 ** x, verbose=0)"
   ]
  },
  {
   "cell_type": "code",
   "execution_count": 3,
   "metadata": {
    "execution": {
     "iopub.execute_input": "2023-11-12T07:30:16.729951Z",
     "iopub.status.busy": "2023-11-12T07:30:16.729272Z",
     "iopub.status.idle": "2023-11-12T07:30:16.784068Z",
     "shell.execute_reply": "2023-11-12T07:30:16.783036Z",
     "shell.execute_reply.started": "2023-11-12T07:30:16.729915Z"
    },
    "trusted": true
   },
   "outputs": [
    {
     "name": "stdout",
     "output_type": "stream",
     "text": [
      "                                           filepaths   labels\n",
      "0  /kaggle/input/osteoporosis-database/Osteoporos...  Healthy\n",
      "1  /kaggle/input/osteoporosis-database/Osteoporos...  Healthy\n",
      "2  /kaggle/input/osteoporosis-database/Osteoporos...  Healthy\n",
      "3  /kaggle/input/osteoporosis-database/Osteoporos...  Healthy\n",
      "4  /kaggle/input/osteoporosis-database/Osteoporos...  Healthy\n",
      "labels\n",
      "Osteoporosis    793\n",
      "Healthy         780\n",
      "Name: count, dtype: int64\n"
     ]
    }
   ],
   "source": [
    "import os\n",
    "import pandas as pd\n",
    "\n",
    "healthy_dirs = [\n",
    "    r'/kaggle/input/osteoporosis-database/Osteoporosis Knee X-ray/normal',\n",
    "    r'/kaggle/input/osteoporosis-knee-xray-dataset/normal/normal',\n",
    "    r'/kaggle/input/osteoporosis-knee-dataset-preprocessed128x256/Osteoporosis Knee Dataset/Normal',\n",
    "    r'/kaggle/input/osteoporosis/osteoporosis/normal'\n",
    "]\n",
    "\n",
    "\n",
    "osteoporosis_dirs = [\n",
    "    r'/kaggle/input/osteoporosis-database/Osteoporosis Knee X-ray/osteoporosis',\n",
    "    r'/kaggle/input/osteoporosis-knee-xray-dataset/osteoporosis/osteoporosis',\n",
    "    r'/kaggle/input/osteoporosis-knee-dataset-preprocessed128x256/Osteoporosis Knee Dataset/Osteoporosis',\n",
    "    r'/kaggle/input/osteoporosis/osteoporosis/osteoporosis'\n",
    "]\n",
    "\n",
    "filepaths = []\n",
    "labels = []\n",
    "dict_lists = [healthy_dirs, osteoporosis_dirs]\n",
    "class_labels = ['Healthy', 'Osteoporosis']\n",
    "\n",
    "for i, dir_list in enumerate(dict_lists):\n",
    "    for j in dir_list:\n",
    "        flist = os.listdir(j)\n",
    "        for f in flist:\n",
    "            fpath = os.path.join(j, f)\n",
    "            filepaths.append(fpath)\n",
    "            labels.append(class_labels[i])\n",
    "\n",
    "Fseries = pd.Series(filepaths, name=\"filepaths\")\n",
    "Lseries = pd.Series(labels, name=\"labels\")\n",
    "knee_osteoporosis_data = pd.concat([Fseries, Lseries], axis=1)\n",
    "knee_osteoporosis_df = pd.DataFrame(knee_osteoporosis_data)\n",
    "print(knee_osteoporosis_df.head())\n",
    "print(knee_osteoporosis_df[\"labels\"].value_counts())\n"
   ]
  },
  {
   "cell_type": "code",
   "execution_count": 4,
   "metadata": {
    "execution": {
     "iopub.execute_input": "2023-11-12T07:30:16.785726Z",
     "iopub.status.busy": "2023-11-12T07:30:16.785372Z",
     "iopub.status.idle": "2023-11-12T07:30:16.793456Z",
     "shell.execute_reply": "2023-11-12T07:30:16.792521Z",
     "shell.execute_reply.started": "2023-11-12T07:30:16.785699Z"
    },
    "trusted": true
   },
   "outputs": [
    {
     "data": {
      "text/plain": [
       "(1573, 2)"
      ]
     },
     "execution_count": 4,
     "metadata": {},
     "output_type": "execute_result"
    }
   ],
   "source": [
    "knee_osteoporosis_df.shape"
   ]
  },
  {
   "cell_type": "code",
   "execution_count": 5,
   "metadata": {
    "execution": {
     "iopub.execute_input": "2023-11-12T07:30:26.477197Z",
     "iopub.status.busy": "2023-11-12T07:30:26.476835Z",
     "iopub.status.idle": "2023-11-12T07:30:26.486095Z",
     "shell.execute_reply": "2023-11-12T07:30:26.485269Z",
     "shell.execute_reply.started": "2023-11-12T07:30:26.477167Z"
    },
    "trusted": true
   },
   "outputs": [],
   "source": [
    "train_images, test_images = train_test_split(knee_osteoporosis_df, test_size=0.3, random_state=42)\n",
    "train_set, val_set = train_test_split(knee_osteoporosis_df, test_size=0.2, random_state=42)"
   ]
  },
  {
   "cell_type": "code",
   "execution_count": 6,
   "metadata": {
    "execution": {
     "iopub.execute_input": "2023-11-12T07:30:26.949325Z",
     "iopub.status.busy": "2023-11-12T07:30:26.948916Z",
     "iopub.status.idle": "2023-11-12T07:30:26.955012Z",
     "shell.execute_reply": "2023-11-12T07:30:26.954029Z",
     "shell.execute_reply.started": "2023-11-12T07:30:26.949271Z"
    },
    "trusted": true
   },
   "outputs": [
    {
     "name": "stdout",
     "output_type": "stream",
     "text": [
      "(1258, 2)\n",
      "(472, 2)\n",
      "(315, 2)\n",
      "(1101, 2)\n"
     ]
    }
   ],
   "source": [
    "print(train_set.shape)\n",
    "print(test_images.shape)\n",
    "print(val_set.shape)\n",
    "print(train_images.shape)"
   ]
  },
  {
   "cell_type": "code",
   "execution_count": 7,
   "metadata": {
    "execution": {
     "iopub.execute_input": "2023-11-12T07:30:27.359867Z",
     "iopub.status.busy": "2023-11-12T07:30:27.359507Z",
     "iopub.status.idle": "2023-11-12T07:30:28.437477Z",
     "shell.execute_reply": "2023-11-12T07:30:28.436653Z",
     "shell.execute_reply.started": "2023-11-12T07:30:27.359832Z"
    },
    "trusted": true
   },
   "outputs": [
    {
     "name": "stdout",
     "output_type": "stream",
     "text": [
      "Found 1258 validated image filenames belonging to 2 classes.\n",
      "Found 472 validated image filenames belonging to 2 classes.\n",
      "Found 315 validated image filenames belonging to 2 classes.\n"
     ]
    }
   ],
   "source": [
    "image_gen = ImageDataGenerator(preprocessing_function= tf.keras.applications.mobilenet_v2.preprocess_input)\n",
    "train = image_gen.flow_from_dataframe(dataframe= train_set,x_col=\"filepaths\",y_col=\"labels\",\n",
    "                                      target_size=(244,244),\n",
    "                                      color_mode='rgb',\n",
    "                                      class_mode=\"categorical\", #used for Sequential Model\n",
    "                                      batch_size=4,\n",
    "                                      shuffle=False            #do not shuffle data\n",
    "                                     )\n",
    "test = image_gen.flow_from_dataframe(dataframe= test_images,x_col=\"filepaths\", y_col=\"labels\",\n",
    "                                     target_size=(244,244),\n",
    "                                     color_mode='rgb',\n",
    "                                     class_mode=\"categorical\",\n",
    "                                     batch_size=4,\n",
    "                                     shuffle= False\n",
    "                                    )\n",
    "val = image_gen.flow_from_dataframe(dataframe= val_set,x_col=\"filepaths\", y_col=\"labels\",\n",
    "                                    target_size=(244,244),\n",
    "                                    color_mode= 'rgb',\n",
    "                                    class_mode=\"categorical\",\n",
    "                                    batch_size=4,\n",
    "                                    shuffle=False\n",
    "                                   )"
   ]
  },
  {
   "cell_type": "code",
   "execution_count": 8,
   "metadata": {
    "execution": {
     "iopub.execute_input": "2023-11-12T07:30:28.439454Z",
     "iopub.status.busy": "2023-11-12T07:30:28.439036Z",
     "iopub.status.idle": "2023-11-12T07:30:28.444633Z",
     "shell.execute_reply": "2023-11-12T07:30:28.443696Z",
     "shell.execute_reply.started": "2023-11-12T07:30:28.439420Z"
    },
    "trusted": true
   },
   "outputs": [
    {
     "name": "stdout",
     "output_type": "stream",
     "text": [
      "['Healthy', 'Osteoporosis']\n"
     ]
    }
   ],
   "source": [
    "classes=list(train.class_indices.keys())\n",
    "print (classes)"
   ]
  },
  {
   "cell_type": "code",
   "execution_count": 9,
   "metadata": {
    "execution": {
     "iopub.execute_input": "2023-11-12T07:30:28.533951Z",
     "iopub.status.busy": "2023-11-12T07:30:28.533132Z",
     "iopub.status.idle": "2023-11-12T07:30:28.540738Z",
     "shell.execute_reply": "2023-11-12T07:30:28.539734Z",
     "shell.execute_reply.started": "2023-11-12T07:30:28.533917Z"
    },
    "trusted": true
   },
   "outputs": [],
   "source": [
    "def show_knee_images(image_gen):\n",
    "    test_dict = test.class_indices\n",
    "    classes = list(test_dict.keys())\n",
    "    images, labels=next(image_gen) # get a sample batch from the generator\n",
    "    plt.figure(figsize=(20,20))\n",
    "    length = len(labels)\n",
    "    if length<25:\n",
    "        r=length\n",
    "    else:\n",
    "        r=25\n",
    "    for i in range(r):\n",
    "        plt.subplot(5,5,i+1)\n",
    "        image=(images[i]+1)/2 #scale images between 0 and 1\n",
    "        plt.imshow(image)\n",
    "        index=np.argmax(labels[i])\n",
    "        class_name=classes[index]\n",
    "        plt.title(class_name, color=\"green\",fontsize=16)\n",
    "        plt.axis('off')\n",
    "    plt.show()"
   ]
  },
  {
   "cell_type": "code",
   "execution_count": 10,
   "metadata": {
    "execution": {
     "iopub.execute_input": "2023-11-12T07:30:29.212862Z",
     "iopub.status.busy": "2023-11-12T07:30:29.212480Z",
     "iopub.status.idle": "2023-11-12T07:30:29.734928Z",
     "shell.execute_reply": "2023-11-12T07:30:29.733943Z",
     "shell.execute_reply.started": "2023-11-12T07:30:29.212827Z"
    },
    "trusted": true
   },
   "outputs": [
    {
     "data": {
      "image/png": "[encoded data removed]",
      "text/plain": [
       "<Figure size 2000x2000 with 4 Axes>"
      ]
     },
     "metadata": {},
     "output_type": "display_data"
    }
   ],
   "source": [
    "show_knee_images(train)"
   ]
  },
  {
   "cell_type": "code",
   "execution_count": 11,
   "metadata": {
    "execution": {
     "iopub.execute_input": "2023-11-12T07:30:42.469181Z",
     "iopub.status.busy": "2023-11-12T07:30:42.468828Z",
     "iopub.status.idle": "2023-11-12T07:30:46.644475Z",
     "shell.execute_reply": "2023-11-12T07:30:46.643535Z",
     "shell.execute_reply.started": "2023-11-12T07:30:42.469155Z"
    },
    "trusted": true
   },
   "outputs": [
    {
     "name": "stdout",
     "output_type": "stream",
     "text": [
      "Downloading data from https://storage.googleapis.com/tensorflow/keras-applications/vgg19/vgg19_weights_tf_dim_ordering_tf_kernels_notop.h5\n",
      "80134624/80134624 [==============================] - 0s 0us/step\n",
      "Model: \"model\"\n",
      "_________________________________________________________________\n",
      " Layer (type)                Output Shape              Param #   \n",
      "=================================================================\n",
      " input_1 (InputLayer)        [(None, 224, 224, 3)]     0         \n",
      "                                                                 \n",
      " block1_conv1 (Conv2D)       (None, 224, 224, 64)      1792      \n",
      "                                                                 \n",
      " block1_conv2 (Conv2D)       (None, 224, 224, 64)      36928     \n",
      "                                                                 \n",
      " block1_pool (MaxPooling2D)  (None, 112, 112, 64)      0         \n",
      "                                                                 \n",
      " block2_conv1 (Conv2D)       (None, 112, 112, 128)     73856     \n",
      "                                                                 \n",
      " block2_conv2 (Conv2D)       (None, 112, 112, 128)     147584    \n",
      "                                                                 \n",
      " block2_pool (MaxPooling2D)  (None, 56, 56, 128)       0         \n",
      "                                                                 \n",
      " block3_conv1 (Conv2D)       (None, 56, 56, 256)       295168    \n",
      "                                                                 \n",
      " block3_conv2 (Conv2D)       (None, 56, 56, 256)       590080    \n",
      "                                                                 \n",
      " block3_conv3 (Conv2D)       (None, 56, 56, 256)       590080    \n",
      "                                                                 \n",
      " block3_conv4 (Conv2D)       (None, 56, 56, 256)       590080    \n",
      "                                                                 \n",
      " block3_pool (MaxPooling2D)  (None, 28, 28, 256)       0         \n",
      "                                                                 \n",
      " block4_conv1 (Conv2D)       (None, 28, 28, 512)       1180160   \n",
      "                                                                 \n",
      " block4_conv2 (Conv2D)       (None, 28, 28, 512)       2359808   \n",
      "                                                                 \n",
      " block4_conv3 (Conv2D)       (None, 28, 28, 512)       2359808   \n",
      "                                                                 \n",
      " block4_conv4 (Conv2D)       (None, 28, 28, 512)       2359808   \n",
      "                                                                 \n",
      " block4_pool (MaxPooling2D)  (None, 14, 14, 512)       0         \n",
      "                                                                 \n",
      " block5_conv1 (Conv2D)       (None, 14, 14, 512)       2359808   \n",
      "                                                                 \n",
      " block5_conv2 (Conv2D)       (None, 14, 14, 512)       2359808   \n",
      "                                                                 \n",
      " block5_conv3 (Conv2D)       (None, 14, 14, 512)       2359808   \n",
      "                                                                 \n",
      " block5_conv4 (Conv2D)       (None, 14, 14, 512)       2359808   \n",
      "                                                                 \n",
      " block5_pool (MaxPooling2D)  (None, 7, 7, 512)         0         \n",
      "                                                                 \n",
      " conv2d (Conv2D)             (None, 7, 7, 64)          294976    \n",
      "                                                                 \n",
      " conv2d_1 (Conv2D)           (None, 7, 7, 64)          36928     \n",
      "                                                                 \n",
      " max_pooling2d (MaxPooling2  (None, 4, 4, 64)          0         \n",
      " D)                                                              \n",
      "                                                                 \n",
      " conv2d_2 (Conv2D)           (None, 4, 4, 128)         73856     \n",
      "                                                                 \n",
      " conv2d_3 (Conv2D)           (None, 4, 4, 128)         147584    \n",
      "                                                                 \n",
      " max_pooling2d_1 (MaxPoolin  (None, 2, 2, 128)         0         \n",
      " g2D)                                                            \n",
      "                                                                 \n",
      " conv2d_4 (Conv2D)           (None, 2, 2, 256)         295168    \n",
      "                                                                 \n",
      " conv2d_5 (Conv2D)           (None, 2, 2, 256)         590080    \n",
      "                                                                 \n",
      " conv2d_6 (Conv2D)           (None, 2, 2, 256)         590080    \n",
      "                                                                 \n",
      " max_pooling2d_2 (MaxPoolin  (None, 1, 1, 256)         0         \n",
      " g2D)                                                            \n",
      "                                                                 \n",
      " conv2d_7 (Conv2D)           (None, 1, 1, 512)         1180160   \n",
      "                                                                 \n",
      " conv2d_8 (Conv2D)           (None, 1, 1, 512)         2359808   \n",
      "                                                                 \n",
      " conv2d_9 (Conv2D)           (None, 1, 1, 512)         2359808   \n",
      "                                                                 \n",
      " max_pooling2d_3 (MaxPoolin  (None, 1, 1, 512)         0         \n",
      " g2D)                                                            \n",
      "                                                                 \n",
      " conv2d_10 (Conv2D)          (None, 1, 1, 512)         2359808   \n",
      "                                                                 \n",
      " dropout (Dropout)           (None, 1, 1, 512)         0         \n",
      "                                                                 \n",
      " conv2d_11 (Conv2D)          (None, 1, 1, 512)         2359808   \n",
      "                                                                 \n",
      " dropout_1 (Dropout)         (None, 1, 1, 512)         0         \n",
      "                                                                 \n",
      " conv2d_12 (Conv2D)          (None, 1, 1, 512)         2359808   \n",
      "                                                                 \n",
      " max_pooling2d_4 (MaxPoolin  (None, 1, 1, 512)         0         \n",
      " g2D)                                                            \n",
      "                                                                 \n",
      " flatten (Flatten)           (None, 512)               0         \n",
      "                                                                 \n",
      " dense (Dense)               (None, 4096)              2101248   \n",
      "                                                                 \n",
      " dense_1 (Dense)             (None, 4096)              16781312  \n",
      "                                                                 \n",
      " dense_2 (Dense)             (None, 4096)              16781312  \n",
      "                                                                 \n",
      " dense_3 (Dense)             (None, 2)                 8194      \n",
      "                                                                 \n",
      "=================================================================\n",
      "Total params: 70704322 (269.72 MB)\n",
      "Trainable params: 70704322 (269.72 MB)\n",
      "Non-trainable params: 0 (0.00 Byte)\n",
      "_________________________________________________________________\n"
     ]
    }
   ],
   "source": [
    "from keras.layers import Conv2D, MaxPooling2D, Flatten, Dense, Input\n",
    "from keras.models import Model\n",
    "from keras.applications.vgg19 import VGG19\n",
    "import tensorflow as tf\n",
    "\n",
    "vgg19_weights = '/kaggle/input/vgg19/vgg19_weights_tf_dim_ordering_tf_kernels.h5'\n",
    "vgg19_model = VGG19(weights='imagenet', include_top=False, input_shape=(224, 224, 3))\n",
    "\n",
    "# Create the custom model by adding layers\n",
    "x = vgg19_model.output\n",
    "\n",
    "# Add your custom layers according to your specified architecture\n",
    "x = Conv2D(64, (3, 3), activation=\"relu\", padding=\"same\")(x)\n",
    "x = Conv2D(64, (3, 3), activation=\"relu\", padding=\"same\")(x)\n",
    "x = MaxPooling2D((2, 2), padding=\"same\")(x)\n",
    "\n",
    "x = Conv2D(128, (3, 3), activation=\"relu\", padding=\"same\")(x)\n",
    "x = Conv2D(128, (3, 3), activation=\"relu\", padding=\"same\")(x)\n",
    "x = MaxPooling2D((2, 2), padding=\"same\")(x)\n",
    "\n",
    "x = Conv2D(256, (3, 3), activation=\"relu\", padding=\"same\")(x)\n",
    "x = Conv2D(256, (3, 3), activation=\"relu\", padding=\"same\")(x)\n",
    "x = Conv2D(256, (3, 3), activation=\"relu\", padding=\"same\")(x)\n",
    "x = MaxPooling2D((2, 2), padding=\"same\")(x)\n",
    "\n",
    "x = Conv2D(512, (3, 3), activation=\"relu\", padding=\"same\")(x)\n",
    "x = Conv2D(512, (3, 3), activation=\"relu\", padding=\"same\")(x)\n",
    "x = Conv2D(512, (3, 3), activation=\"relu\", padding=\"same\")(x)\n",
    "x = MaxPooling2D((2, 2), padding=\"same\")(x)\n",
    "\n",
    "x = Conv2D(512, (3, 3), activation=\"relu\", padding=\"same\")(x)\n",
    "x = Dropout(0.5)(x) \n",
    "x = Conv2D(512, (3, 3), activation=\"relu\", padding=\"same\")(x)\n",
    "x = Dropout(0.5)(x) \n",
    "x = Conv2D(512, (3, 3), activation=\"relu\", padding=\"same\")(x)\n",
    "x = MaxPooling2D((2, 2), padding=\"same\")(x)\n",
    "\n",
    "x = Flatten()(x)\n",
    "\n",
    "x = Dense(4096, activation=\"relu\")(x)\n",
    "x = Dense(4096, activation=\"relu\")(x)\n",
    "x = Dense(4096, activation=\"relu\")(x)\n",
    "\n",
    "output = Dense(2, activation=\"sigmoid\")(x)\n",
    "\n",
    "# Create the custom model\n",
    "model = Model(inputs=vgg19_model.input, outputs=output)\n",
    "\n",
    "# Compile the model\n",
    "model.compile(\n",
    "    loss='categorical_crossentropy',\n",
    "    optimizer=tf.optimizers.SGD(learning_rate=0.001),\n",
    "    metrics=['accuracy']\n",
    ")\n",
    "\n",
    "model.summary()\n"
   ]
  },
  {
   "cell_type": "code",
   "execution_count": 12,
   "metadata": {
    "execution": {
     "iopub.execute_input": "2023-11-12T07:30:52.774474Z",
     "iopub.status.busy": "2023-11-12T07:30:52.774056Z",
     "iopub.status.idle": "2023-11-12T07:35:53.073783Z",
     "shell.execute_reply": "2023-11-12T07:35:53.072934Z",
     "shell.execute_reply.started": "2023-11-12T07:30:52.774442Z"
    },
    "trusted": true
   },
   "outputs": [
    {
     "name": "stdout",
     "output_type": "stream",
     "text": [
      "Epoch 1/10\n"
     ]
    },
    {
     "name": "stderr",
     "output_type": "stream",
     "text": [
      "2023-11-12 07:30:55.220590: E tensorflow/core/grappler/optimizers/meta_optimizer.cc:954] layout failed: INVALID_ARGUMENT: Size of values 0 does not match size of permutation 4 @ fanin shape inmodel/dropout/dropout/SelectV2-2-TransposeNHWCToNCHW-LayoutOptimizer\n"
     ]
    },
    {
     "name": "stdout",
     "output_type": "stream",
     "text": [
      "315/315 [==============================] - 46s 105ms/step - loss: 0.6933 - accuracy: 0.5008 - val_loss: 0.7306 - val_accuracy: 0.4667\n",
      "Epoch 2/10\n",
      "315/315 [==============================] - 28s 90ms/step - loss: 0.6930 - accuracy: 0.5111 - val_loss: 0.7289 - val_accuracy: 0.4667\n",
      "Epoch 3/10\n",
      "315/315 [==============================] - 28s 89ms/step - loss: 0.6932 - accuracy: 0.5103 - val_loss: 0.7109 - val_accuracy: 0.4667\n",
      "Epoch 4/10\n",
      "315/315 [==============================] - 28s 89ms/step - loss: 0.6929 - accuracy: 0.5111 - val_loss: 0.6971 - val_accuracy: 0.4698\n",
      "Epoch 5/10\n",
      "315/315 [==============================] - 28s 90ms/step - loss: 0.6930 - accuracy: 0.5111 - val_loss: 0.6918 - val_accuracy: 0.4730\n",
      "Epoch 6/10\n",
      "315/315 [==============================] - 28s 90ms/step - loss: 0.6927 - accuracy: 0.5111 - val_loss: 0.6888 - val_accuracy: 0.4762\n",
      "Epoch 7/10\n",
      "315/315 [==============================] - 28s 89ms/step - loss: 0.6926 - accuracy: 0.5111 - val_loss: 0.6883 - val_accuracy: 0.4762\n",
      "Epoch 8/10\n",
      "315/315 [==============================] - 28s 89ms/step - loss: 0.6918 - accuracy: 0.5111 - val_loss: 0.6882 - val_accuracy: 0.4762\n",
      "Epoch 9/10\n",
      "315/315 [==============================] - 28s 89ms/step - loss: 0.6921 - accuracy: 0.5111 - val_loss: 0.6877 - val_accuracy: 0.4762\n",
      "Epoch 10/10\n",
      "315/315 [==============================] - 28s 89ms/step - loss: 0.6911 - accuracy: 0.5111 - val_loss: 0.6872 - val_accuracy: 0.4762\n"
     ]
    }
   ],
   "source": [
    "history = model.fit(train, epochs=10, validation_data=val, verbose=1)"
   ]
  },
  {
   "cell_type": "code",
   "execution_count": 13,
   "metadata": {
    "execution": {
     "iopub.execute_input": "2023-11-12T07:37:08.099948Z",
     "iopub.status.busy": "2023-11-12T07:37:08.098860Z",
     "iopub.status.idle": "2023-11-12T07:41:49.729729Z",
     "shell.execute_reply": "2023-11-12T07:41:49.728732Z",
     "shell.execute_reply.started": "2023-11-12T07:37:08.099909Z"
    },
    "trusted": true
   },
   "outputs": [
    {
     "name": "stdout",
     "output_type": "stream",
     "text": [
      "Epoch 1/10\n",
      "315/315 [==============================] - 28s 89ms/step - loss: 0.6903 - accuracy: 0.5111 - val_loss: 0.6859 - val_accuracy: 0.4762\n",
      "Epoch 2/10\n",
      "315/315 [==============================] - 28s 89ms/step - loss: 0.6884 - accuracy: 0.5111 - val_loss: 0.6840 - val_accuracy: 0.4762\n",
      "Epoch 3/10\n",
      "315/315 [==============================] - 28s 89ms/step - loss: 0.6851 - accuracy: 0.5127 - val_loss: 0.6799 - val_accuracy: 0.6317\n",
      "Epoch 4/10\n",
      "315/315 [==============================] - 28s 89ms/step - loss: 0.6796 - accuracy: 0.5390 - val_loss: 0.6753 - val_accuracy: 0.5873\n",
      "Epoch 5/10\n",
      "315/315 [==============================] - 28s 89ms/step - loss: 0.6663 - accuracy: 0.5922 - val_loss: 0.6648 - val_accuracy: 0.6254\n",
      "Epoch 6/10\n",
      "315/315 [==============================] - 28s 89ms/step - loss: 0.6500 - accuracy: 0.6574 - val_loss: 0.6650 - val_accuracy: 0.6095\n",
      "Epoch 7/10\n",
      "315/315 [==============================] - 28s 89ms/step - loss: 0.6353 - accuracy: 0.7035 - val_loss: 0.6480 - val_accuracy: 0.6825\n",
      "Epoch 8/10\n",
      "315/315 [==============================] - 28s 89ms/step - loss: 0.6226 - accuracy: 0.7154 - val_loss: 0.6483 - val_accuracy: 0.6381\n",
      "Epoch 9/10\n",
      "315/315 [==============================] - 28s 90ms/step - loss: 0.6114 - accuracy: 0.7329 - val_loss: 0.6322 - val_accuracy: 0.6825\n",
      "Epoch 10/10\n",
      "315/315 [==============================] - 28s 90ms/step - loss: 0.5968 - accuracy: 0.7329 - val_loss: 0.6053 - val_accuracy: 0.7429\n"
     ]
    }
   ],
   "source": [
    "history1 = model.fit(train, epochs=10, validation_data=val, verbose=1)"
   ]
  },
  {
   "cell_type": "code",
   "execution_count": 14,
   "metadata": {
    "execution": {
     "iopub.execute_input": "2023-11-12T07:42:02.161328Z",
     "iopub.status.busy": "2023-11-12T07:42:02.160930Z",
     "iopub.status.idle": "2023-11-12T07:42:08.317535Z",
     "shell.execute_reply": "2023-11-12T07:42:08.316581Z",
     "shell.execute_reply.started": "2023-11-12T07:42:02.161294Z"
    },
    "trusted": true
   },
   "outputs": [
    {
     "name": "stdout",
     "output_type": "stream",
     "text": [
      "118/118 [==============================] - 6s 50ms/step - loss: 0.5904 - accuracy: 0.7606\n"
     ]
    },
    {
     "data": {
      "text/plain": [
       "[0.5903506278991699, 0.7605932354927063]"
      ]
     },
     "execution_count": 14,
     "metadata": {},
     "output_type": "execute_result"
    }
   ],
   "source": [
    "model.evaluate(test, verbose=1)"
   ]
  },
  {
   "cell_type": "code",
   "execution_count": 15,
   "metadata": {
    "execution": {
     "iopub.execute_input": "2023-11-12T07:42:19.088136Z",
     "iopub.status.busy": "2023-11-12T07:42:19.087435Z",
     "iopub.status.idle": "2023-11-12T07:47:13.700854Z",
     "shell.execute_reply": "2023-11-12T07:47:13.699858Z",
     "shell.execute_reply.started": "2023-11-12T07:42:19.088101Z"
    },
    "trusted": true
   },
   "outputs": [
    {
     "name": "stdout",
     "output_type": "stream",
     "text": [
      "Epoch 1/10\n",
      "315/315 [==============================] - 28s 90ms/step - loss: 0.5848 - accuracy: 0.7528 - val_loss: 0.6095 - val_accuracy: 0.6889\n",
      "Epoch 2/10\n",
      "315/315 [==============================] - 28s 89ms/step - loss: 0.5714 - accuracy: 0.7464 - val_loss: 0.5856 - val_accuracy: 0.7238\n",
      "Epoch 3/10\n",
      "315/315 [==============================] - 28s 89ms/step - loss: 0.5546 - accuracy: 0.7583 - val_loss: 0.5694 - val_accuracy: 0.7460\n",
      "Epoch 4/10\n",
      "315/315 [==============================] - 28s 89ms/step - loss: 0.5538 - accuracy: 0.7591 - val_loss: 0.7586 - val_accuracy: 0.5365\n",
      "Epoch 5/10\n",
      "315/315 [==============================] - 28s 89ms/step - loss: 0.5494 - accuracy: 0.7711 - val_loss: 0.5560 - val_accuracy: 0.7587\n",
      "Epoch 6/10\n",
      "315/315 [==============================] - 28s 90ms/step - loss: 0.5331 - accuracy: 0.7695 - val_loss: 0.5559 - val_accuracy: 0.7270\n",
      "Epoch 7/10\n",
      "315/315 [==============================] - 28s 89ms/step - loss: 0.5218 - accuracy: 0.7742 - val_loss: 0.5382 - val_accuracy: 0.7714\n",
      "Epoch 8/10\n",
      "315/315 [==============================] - 28s 89ms/step - loss: 0.5138 - accuracy: 0.7766 - val_loss: 0.5495 - val_accuracy: 0.7683\n",
      "Epoch 9/10\n",
      "315/315 [==============================] - 28s 89ms/step - loss: 0.5031 - accuracy: 0.7878 - val_loss: 0.5159 - val_accuracy: 0.7873\n",
      "Epoch 10/10\n",
      "315/315 [==============================] - 28s 89ms/step - loss: 0.5046 - accuracy: 0.7822 - val_loss: 0.5262 - val_accuracy: 0.7587\n"
     ]
    }
   ],
   "source": [
    "history2 = model.fit(train, epochs=10, validation_data=val, verbose=1)"
   ]
  },
  {
   "cell_type": "code",
   "execution_count": 16,
   "metadata": {
    "execution": {
     "iopub.execute_input": "2023-11-12T07:47:44.215447Z",
     "iopub.status.busy": "2023-11-12T07:47:44.215048Z",
     "iopub.status.idle": "2023-11-12T07:47:50.469674Z",
     "shell.execute_reply": "2023-11-12T07:47:50.468595Z",
     "shell.execute_reply.started": "2023-11-12T07:47:44.215413Z"
    },
    "trusted": true
   },
   "outputs": [
    {
     "name": "stdout",
     "output_type": "stream",
     "text": [
      "118/118 [==============================] - 6s 51ms/step - loss: 0.4885 - accuracy: 0.7860\n"
     ]
    },
    {
     "data": {
      "text/plain": [
       "[0.48853787779808044, 0.7860169410705566]"
      ]
     },
     "execution_count": 16,
     "metadata": {},
     "output_type": "execute_result"
    }
   ],
   "source": [
    "model.evaluate(test, verbose=1)"
   ]
  },
  {
   "cell_type": "code",
   "execution_count": 17,
   "metadata": {
    "execution": {
     "iopub.execute_input": "2023-11-12T07:48:05.417891Z",
     "iopub.status.busy": "2023-11-12T07:48:05.417102Z",
     "iopub.status.idle": "2023-11-12T07:52:46.562458Z",
     "shell.execute_reply": "2023-11-12T07:52:46.561465Z",
     "shell.execute_reply.started": "2023-11-12T07:48:05.417857Z"
    },
    "trusted": true
   },
   "outputs": [
    {
     "name": "stdout",
     "output_type": "stream",
     "text": [
      "Epoch 1/10\n",
      "315/315 [==============================] - 28s 89ms/step - loss: 0.4888 - accuracy: 0.7742 - val_loss: 0.5415 - val_accuracy: 0.7619\n",
      "Epoch 2/10\n",
      "315/315 [==============================] - 28s 89ms/step - loss: 0.4802 - accuracy: 0.7941 - val_loss: 0.6316 - val_accuracy: 0.7238\n",
      "Epoch 3/10\n",
      "315/315 [==============================] - 28s 89ms/step - loss: 0.4667 - accuracy: 0.7957 - val_loss: 0.5332 - val_accuracy: 0.7460\n",
      "Epoch 4/10\n",
      "315/315 [==============================] - 28s 89ms/step - loss: 0.4735 - accuracy: 0.7989 - val_loss: 0.5039 - val_accuracy: 0.7587\n",
      "Epoch 5/10\n",
      "315/315 [==============================] - 28s 89ms/step - loss: 0.4471 - accuracy: 0.8219 - val_loss: 0.4802 - val_accuracy: 0.7746\n",
      "Epoch 6/10\n",
      "315/315 [==============================] - 28s 89ms/step - loss: 0.4390 - accuracy: 0.8140 - val_loss: 0.4561 - val_accuracy: 0.7905\n",
      "Epoch 7/10\n",
      "315/315 [==============================] - 28s 89ms/step - loss: 0.4445 - accuracy: 0.8148 - val_loss: 0.5142 - val_accuracy: 0.7746\n",
      "Epoch 8/10\n",
      "315/315 [==============================] - 28s 89ms/step - loss: 0.4322 - accuracy: 0.8203 - val_loss: 0.4521 - val_accuracy: 0.8063\n",
      "Epoch 9/10\n",
      "315/315 [==============================] - 28s 89ms/step - loss: 0.4310 - accuracy: 0.8219 - val_loss: 0.4555 - val_accuracy: 0.7778\n",
      "Epoch 10/10\n",
      "315/315 [==============================] - 28s 89ms/step - loss: 0.3998 - accuracy: 0.8402 - val_loss: 0.4533 - val_accuracy: 0.7937\n"
     ]
    }
   ],
   "source": [
    "history3 = model.fit(train, epochs=10, validation_data=val, verbose=1)"
   ]
  },
  {
   "cell_type": "code",
   "execution_count": 18,
   "metadata": {
    "execution": {
     "iopub.execute_input": "2023-11-12T07:53:00.646617Z",
     "iopub.status.busy": "2023-11-12T07:53:00.645875Z",
     "iopub.status.idle": "2023-11-12T07:53:06.755025Z",
     "shell.execute_reply": "2023-11-12T07:53:06.754185Z",
     "shell.execute_reply.started": "2023-11-12T07:53:00.646584Z"
    },
    "trusted": true
   },
   "outputs": [
    {
     "name": "stdout",
     "output_type": "stream",
     "text": [
      "118/118 [==============================] - 6s 50ms/step - loss: 0.4288 - accuracy: 0.8157\n"
     ]
    },
    {
     "data": {
      "text/plain": [
       "[0.42875394225120544, 0.8156779408454895]"
      ]
     },
     "execution_count": 18,
     "metadata": {},
     "output_type": "execute_result"
    }
   ],
   "source": [
    "model.evaluate(test, verbose=1)"
   ]
  },
  {
   "cell_type": "code",
   "execution_count": 19,
   "metadata": {
    "execution": {
     "iopub.execute_input": "2023-11-12T07:53:20.897098Z",
     "iopub.status.busy": "2023-11-12T07:53:20.896732Z",
     "iopub.status.idle": "2023-11-12T07:58:14.581634Z",
     "shell.execute_reply": "2023-11-12T07:58:14.580698Z",
     "shell.execute_reply.started": "2023-11-12T07:53:20.897068Z"
    },
    "trusted": true
   },
   "outputs": [
    {
     "name": "stdout",
     "output_type": "stream",
     "text": [
      "Epoch 1/10\n",
      "315/315 [==============================] - 28s 90ms/step - loss: 0.4056 - accuracy: 0.8275 - val_loss: 0.4582 - val_accuracy: 0.7810\n",
      "Epoch 2/10\n",
      "315/315 [==============================] - 28s 89ms/step - loss: 0.3946 - accuracy: 0.8490 - val_loss: 0.4311 - val_accuracy: 0.8222\n",
      "Epoch 3/10\n",
      "315/315 [==============================] - 28s 89ms/step - loss: 0.3798 - accuracy: 0.8426 - val_loss: 0.5757 - val_accuracy: 0.7397\n",
      "Epoch 4/10\n",
      "315/315 [==============================] - 28s 89ms/step - loss: 0.3827 - accuracy: 0.8529 - val_loss: 0.4032 - val_accuracy: 0.8190\n",
      "Epoch 5/10\n",
      "315/315 [==============================] - 28s 89ms/step - loss: 0.3644 - accuracy: 0.8537 - val_loss: 0.4086 - val_accuracy: 0.8476\n",
      "Epoch 6/10\n",
      "315/315 [==============================] - 28s 89ms/step - loss: 0.3513 - accuracy: 0.8577 - val_loss: 0.3862 - val_accuracy: 0.8476\n",
      "Epoch 7/10\n",
      "315/315 [==============================] - 28s 89ms/step - loss: 0.3469 - accuracy: 0.8609 - val_loss: 0.4925 - val_accuracy: 0.7619\n",
      "Epoch 8/10\n",
      "315/315 [==============================] - 28s 89ms/step - loss: 0.3247 - accuracy: 0.8577 - val_loss: 0.3761 - val_accuracy: 0.8444\n",
      "Epoch 9/10\n",
      "315/315 [==============================] - 28s 89ms/step - loss: 0.3158 - accuracy: 0.8816 - val_loss: 0.3598 - val_accuracy: 0.8317\n",
      "Epoch 10/10\n",
      "315/315 [==============================] - 28s 89ms/step - loss: 0.2992 - accuracy: 0.8975 - val_loss: 0.4308 - val_accuracy: 0.8317\n"
     ]
    }
   ],
   "source": [
    "history4 = model.fit(train, epochs=10, validation_data=val, verbose=1)"
   ]
  },
  {
   "cell_type": "code",
   "execution_count": 20,
   "metadata": {
    "execution": {
     "iopub.execute_input": "2023-11-12T07:58:51.405904Z",
     "iopub.status.busy": "2023-11-12T07:58:51.405543Z",
     "iopub.status.idle": "2023-11-12T07:58:57.525391Z",
     "shell.execute_reply": "2023-11-12T07:58:57.524515Z",
     "shell.execute_reply.started": "2023-11-12T07:58:51.405874Z"
    },
    "trusted": true
   },
   "outputs": [
    {
     "name": "stdout",
     "output_type": "stream",
     "text": [
      "118/118 [==============================] - 6s 50ms/step - loss: 0.3615 - accuracy: 0.8644\n"
     ]
    },
    {
     "data": {
      "text/plain": [
       "[0.36150094866752625, 0.8644067645072937]"
      ]
     },
     "execution_count": 20,
     "metadata": {},
     "output_type": "execute_result"
    }
   ],
   "source": [
    "model.evaluate(test, verbose=1)"
   ]
  },
  {
   "cell_type": "code",
   "execution_count": 21,
   "metadata": {
    "execution": {
     "iopub.execute_input": "2023-11-12T07:59:04.973880Z",
     "iopub.status.busy": "2023-11-12T07:59:04.973519Z",
     "iopub.status.idle": "2023-11-12T08:03:45.684695Z",
     "shell.execute_reply": "2023-11-12T08:03:45.683833Z",
     "shell.execute_reply.started": "2023-11-12T07:59:04.973853Z"
    },
    "trusted": true
   },
   "outputs": [
    {
     "name": "stdout",
     "output_type": "stream",
     "text": [
      "Epoch 1/10\n",
      "315/315 [==============================] - 28s 89ms/step - loss: 0.2973 - accuracy: 0.8871 - val_loss: 0.3885 - val_accuracy: 0.8381\n",
      "Epoch 2/10\n",
      "315/315 [==============================] - 28s 89ms/step - loss: 0.2969 - accuracy: 0.8855 - val_loss: 0.3287 - val_accuracy: 0.8635\n",
      "Epoch 3/10\n",
      "315/315 [==============================] - 28s 89ms/step - loss: 0.2738 - accuracy: 0.8967 - val_loss: 0.3121 - val_accuracy: 0.8794\n",
      "Epoch 4/10\n",
      "315/315 [==============================] - 28s 89ms/step - loss: 0.2529 - accuracy: 0.9126 - val_loss: 0.3441 - val_accuracy: 0.8667\n",
      "Epoch 5/10\n",
      "315/315 [==============================] - 28s 89ms/step - loss: 0.2648 - accuracy: 0.9006 - val_loss: 0.3245 - val_accuracy: 0.8762\n",
      "Epoch 6/10\n",
      "315/315 [==============================] - 28s 89ms/step - loss: 0.2709 - accuracy: 0.9038 - val_loss: 0.2975 - val_accuracy: 0.8984\n",
      "Epoch 7/10\n",
      "315/315 [==============================] - 28s 89ms/step - loss: 0.2539 - accuracy: 0.9062 - val_loss: 0.3901 - val_accuracy: 0.8127\n",
      "Epoch 8/10\n",
      "315/315 [==============================] - 28s 89ms/step - loss: 0.2299 - accuracy: 0.9141 - val_loss: 0.3710 - val_accuracy: 0.8603\n",
      "Epoch 9/10\n",
      "315/315 [==============================] - 28s 89ms/step - loss: 0.2226 - accuracy: 0.9189 - val_loss: 0.2675 - val_accuracy: 0.8889\n",
      "Epoch 10/10\n",
      "315/315 [==============================] - 28s 89ms/step - loss: 0.2167 - accuracy: 0.9213 - val_loss: 0.2683 - val_accuracy: 0.8952\n"
     ]
    }
   ],
   "source": [
    "history5 = model.fit(train, epochs=10, validation_data=val, verbose=1)"
   ]
  },
  {
   "cell_type": "code",
   "execution_count": 22,
   "metadata": {
    "execution": {
     "iopub.execute_input": "2023-11-12T08:04:11.301339Z",
     "iopub.status.busy": "2023-11-12T08:04:11.300938Z",
     "iopub.status.idle": "2023-11-12T08:04:17.284921Z",
     "shell.execute_reply": "2023-11-12T08:04:17.283950Z",
     "shell.execute_reply.started": "2023-11-12T08:04:11.301302Z"
    },
    "trusted": true
   },
   "outputs": [
    {
     "name": "stdout",
     "output_type": "stream",
     "text": [
      "118/118 [==============================] - 6s 49ms/step - loss: 0.2532 - accuracy: 0.8983\n"
     ]
    },
    {
     "data": {
      "text/plain": [
       "[0.253157377243042, 0.8983050584793091]"
      ]
     },
     "execution_count": 22,
     "metadata": {},
     "output_type": "execute_result"
    }
   ],
   "source": [
    "model.evaluate(test, verbose=1)"
   ]
  },
  {
   "cell_type": "code",
   "execution_count": 23,
   "metadata": {
    "execution": {
     "iopub.execute_input": "2023-11-12T08:04:25.658792Z",
     "iopub.status.busy": "2023-11-12T08:04:25.658330Z",
     "iopub.status.idle": "2023-11-12T08:09:05.263412Z",
     "shell.execute_reply": "2023-11-12T08:09:05.262529Z",
     "shell.execute_reply.started": "2023-11-12T08:04:25.658759Z"
    },
    "trusted": true
   },
   "outputs": [
    {
     "name": "stdout",
     "output_type": "stream",
     "text": [
      "Epoch 1/10\n",
      "315/315 [==============================] - 28s 89ms/step - loss: 0.2329 - accuracy: 0.9141 - val_loss: 0.3602 - val_accuracy: 0.8698\n",
      "Epoch 2/10\n",
      "315/315 [==============================] - 28s 89ms/step - loss: 0.2092 - accuracy: 0.9229 - val_loss: 0.2956 - val_accuracy: 0.8984\n",
      "Epoch 3/10\n",
      "315/315 [==============================] - 28s 89ms/step - loss: 0.2146 - accuracy: 0.9213 - val_loss: 0.3499 - val_accuracy: 0.8730\n",
      "Epoch 4/10\n",
      "315/315 [==============================] - 28s 89ms/step - loss: 0.2132 - accuracy: 0.9149 - val_loss: 0.3311 - val_accuracy: 0.8857\n",
      "Epoch 5/10\n",
      "315/315 [==============================] - 28s 88ms/step - loss: 0.2190 - accuracy: 0.9149 - val_loss: 0.2619 - val_accuracy: 0.8984\n",
      "Epoch 6/10\n",
      "315/315 [==============================] - 28s 88ms/step - loss: 0.2011 - accuracy: 0.9253 - val_loss: 0.3221 - val_accuracy: 0.8698\n",
      "Epoch 7/10\n",
      "315/315 [==============================] - 28s 89ms/step - loss: 0.1873 - accuracy: 0.9324 - val_loss: 0.2984 - val_accuracy: 0.8857\n",
      "Epoch 8/10\n",
      "315/315 [==============================] - 28s 88ms/step - loss: 0.1878 - accuracy: 0.9332 - val_loss: 0.3510 - val_accuracy: 0.8603\n",
      "Epoch 9/10\n",
      "315/315 [==============================] - 28s 88ms/step - loss: 0.1865 - accuracy: 0.9332 - val_loss: 0.2699 - val_accuracy: 0.9016\n",
      "Epoch 10/10\n",
      "315/315 [==============================] - 28s 88ms/step - loss: 0.1769 - accuracy: 0.9348 - val_loss: 0.2654 - val_accuracy: 0.8952\n"
     ]
    }
   ],
   "source": [
    "history6 = model.fit(train, epochs=10, validation_data=val, verbose=1)"
   ]
  },
  {
   "cell_type": "code",
   "execution_count": 24,
   "metadata": {
    "execution": {
     "iopub.execute_input": "2023-11-12T08:09:19.345174Z",
     "iopub.status.busy": "2023-11-12T08:09:19.344817Z",
     "iopub.status.idle": "2023-11-12T08:09:25.520577Z",
     "shell.execute_reply": "2023-11-12T08:09:25.519590Z",
     "shell.execute_reply.started": "2023-11-12T08:09:19.345145Z"
    },
    "trusted": true
   },
   "outputs": [
    {
     "name": "stdout",
     "output_type": "stream",
     "text": [
      "118/118 [==============================] - 6s 51ms/step - loss: 0.2456 - accuracy: 0.9047\n"
     ]
    },
    {
     "data": {
      "text/plain": [
       "[0.24555052816867828, 0.9046609997749329]"
      ]
     },
     "execution_count": 24,
     "metadata": {},
     "output_type": "execute_result"
    }
   ],
   "source": [
    "model.evaluate(test, verbose=1)"
   ]
  },
  {
   "cell_type": "code",
   "execution_count": 25,
   "metadata": {
    "execution": {
     "iopub.execute_input": "2023-11-12T08:09:47.600418Z",
     "iopub.status.busy": "2023-11-12T08:09:47.600031Z",
     "iopub.status.idle": "2023-11-12T08:12:07.267536Z",
     "shell.execute_reply": "2023-11-12T08:12:07.266506Z",
     "shell.execute_reply.started": "2023-11-12T08:09:47.600388Z"
    },
    "trusted": true
   },
   "outputs": [
    {
     "name": "stdout",
     "output_type": "stream",
     "text": [
      "Epoch 1/5\n",
      "315/315 [==============================] - 28s 88ms/step - loss: 0.1773 - accuracy: 0.9404 - val_loss: 0.2427 - val_accuracy: 0.9143\n",
      "Epoch 2/5\n",
      "315/315 [==============================] - 28s 89ms/step - loss: 0.1674 - accuracy: 0.9380 - val_loss: 0.2431 - val_accuracy: 0.9048\n",
      "Epoch 3/5\n",
      "315/315 [==============================] - 28s 88ms/step - loss: 0.1575 - accuracy: 0.9444 - val_loss: 0.2838 - val_accuracy: 0.8952\n",
      "Epoch 4/5\n",
      "315/315 [==============================] - 28s 88ms/step - loss: 0.1729 - accuracy: 0.9293 - val_loss: 0.2823 - val_accuracy: 0.8825\n",
      "Epoch 5/5\n",
      "315/315 [==============================] - 28s 89ms/step - loss: 0.1823 - accuracy: 0.9300 - val_loss: 0.3097 - val_accuracy: 0.8952\n"
     ]
    }
   ],
   "source": [
    "history7 = model.fit(train, epochs=5, validation_data=val, verbose=1)"
   ]
  },
  {
   "cell_type": "code",
   "execution_count": 26,
   "metadata": {
    "execution": {
     "iopub.execute_input": "2023-11-12T08:13:13.047330Z",
     "iopub.status.busy": "2023-11-12T08:13:13.046451Z",
     "iopub.status.idle": "2023-11-12T08:13:19.120595Z",
     "shell.execute_reply": "2023-11-12T08:13:19.119777Z",
     "shell.execute_reply.started": "2023-11-12T08:13:13.047295Z"
    },
    "trusted": true
   },
   "outputs": [
    {
     "name": "stdout",
     "output_type": "stream",
     "text": [
      "118/118 [==============================] - 6s 50ms/step - loss: 0.2623 - accuracy: 0.9110\n"
     ]
    },
    {
     "data": {
      "text/plain": [
       "[0.2623412311077118, 0.9110169410705566]"
      ]
     },
     "execution_count": 26,
     "metadata": {},
     "output_type": "execute_result"
    }
   ],
   "source": [
    "model.evaluate(test, verbose=1)"
   ]
  },
  {
   "cell_type": "code",
   "execution_count": 27,
   "metadata": {
    "execution": {
     "iopub.execute_input": "2023-11-12T08:13:21.672825Z",
     "iopub.status.busy": "2023-11-12T08:13:21.672473Z",
     "iopub.status.idle": "2023-11-12T08:15:42.705102Z",
     "shell.execute_reply": "2023-11-12T08:15:42.704313Z",
     "shell.execute_reply.started": "2023-11-12T08:13:21.672796Z"
    },
    "trusted": true
   },
   "outputs": [
    {
     "name": "stdout",
     "output_type": "stream",
     "text": [
      "Epoch 1/5\n",
      "315/315 [==============================] - 28s 89ms/step - loss: 0.1656 - accuracy: 0.9356 - val_loss: 0.2294 - val_accuracy: 0.9111\n",
      "Epoch 2/5\n",
      "315/315 [==============================] - 28s 88ms/step - loss: 0.1417 - accuracy: 0.9491 - val_loss: 0.2133 - val_accuracy: 0.8825\n",
      "Epoch 3/5\n",
      "315/315 [==============================] - 28s 88ms/step - loss: 0.1180 - accuracy: 0.9515 - val_loss: 0.2033 - val_accuracy: 0.9429\n"
     ]
    }
   ],
   "source": [
    "history8 = model.fit(train, epochs=5, validation_data=val, verbose=1)"
   ]
  },
  {
   "cell_type": "code",
   "execution_count": 28,
   "metadata": {
    "execution": {
     "iopub.execute_input": "2023-11-12T08:16:57.351781Z",
     "iopub.status.busy": "2023-11-12T08:16:57.351417Z",
     "iopub.status.idle": "2023-11-12T08:17:03.345131Z",
     "shell.execute_reply": "2023-11-12T08:17:03.344302Z",
     "shell.execute_reply.started": "2023-11-12T08:16:57.351752Z"
    },
    "trusted": true
   },
   "outputs": [
    {
     "name": "stdout",
     "output_type": "stream",
     "text": [
      "118/118 [==============================] - 6s 49ms/step - loss: 0.1814 - accuracy: 0.9513\n"
     ]
    },
    {
     "data": {
      "text/plain": [
       "[0.18135863542556763, 0.9512711763381958]"
      ]
     },
     "execution_count": 28,
     "metadata": {},
     "output_type": "execute_result"
    }
   ],
   "source": [
    "model.evaluate(test, verbose=1)"
   ]
  },
  {
   "cell_type": "code",
   "execution_count": 29,
   "metadata": {
    "execution": {
     "iopub.execute_input": "2023-11-12T08:17:28.666839Z",
     "iopub.status.busy": "2023-11-12T08:17:28.666456Z",
     "iopub.status.idle": "2023-11-12T08:17:29.762644Z",
     "shell.execute_reply": "2023-11-12T08:17:29.761576Z",
     "shell.execute_reply.started": "2023-11-12T08:17:28.666813Z"
    },
    "trusted": true
   },
   "outputs": [],
   "source": [
    "model.save(\"osteoporosisEEEEEEEEEEEEEEbinary-9513-01813.h5\")"
   ]
  },
  {
   "cell_type": "code",
   "execution_count": 30,
   "metadata": {
    "execution": {
     "iopub.execute_input": "2023-11-12T08:18:06.471815Z",
     "iopub.status.busy": "2023-11-12T08:18:06.471479Z",
     "iopub.status.idle": "2023-11-12T08:20:26.101441Z",
     "shell.execute_reply": "2023-11-12T08:20:26.100459Z",
     "shell.execute_reply.started": "2023-11-12T08:18:06.471789Z"
    },
    "trusted": true
   },
   "outputs": [
    {
     "name": "stdout",
     "output_type": "stream",
     "text": [
      "Epoch 1/5\n",
      "315/315 [==============================] - 28s 88ms/step - loss: 0.1250 - accuracy: 0.9475 - val_loss: 0.2066 - val_accuracy: 0.9048\n",
      "Epoch 2/5\n",
      "315/315 [==============================] - 28s 89ms/step - loss: 0.1574 - accuracy: 0.9436 - val_loss: 0.2472 - val_accuracy: 0.8921\n",
      "Epoch 3/5\n",
      "315/315 [==============================] - 28s 88ms/step - loss: 0.1186 - accuracy: 0.9531 - val_loss: 0.1724 - val_accuracy: 0.9175\n",
      "Epoch 4/5\n",
      "315/315 [==============================] - 28s 89ms/step - loss: 0.1090 - accuracy: 0.9634 - val_loss: 0.1574 - val_accuracy: 0.9460\n",
      "Epoch 5/5\n",
      "315/315 [==============================] - 28s 88ms/step - loss: 0.1335 - accuracy: 0.9404 - val_loss: 0.2041 - val_accuracy: 0.9111\n"
     ]
    }
   ],
   "source": [
    "history8 = model.fit(train, epochs=5, validation_data=val, verbose=1)"
   ]
  },
  {
   "cell_type": "code",
   "execution_count": 31,
   "metadata": {
    "execution": {
     "iopub.execute_input": "2023-11-12T08:20:40.361398Z",
     "iopub.status.busy": "2023-11-12T08:20:40.360984Z",
     "iopub.status.idle": "2023-11-12T08:20:46.212019Z",
     "shell.execute_reply": "2023-11-12T08:20:46.211098Z",
     "shell.execute_reply.started": "2023-11-12T08:20:40.361365Z"
    },
    "trusted": true
   },
   "outputs": [
    {
     "name": "stdout",
     "output_type": "stream",
     "text": [
      "118/118 [==============================] - 6s 48ms/step - loss: 0.1662 - accuracy: 0.9301\n"
     ]
    },
    {
     "data": {
      "text/plain": [
       "[0.1661723405122757, 0.930084764957428]"
      ]
     },
     "execution_count": 31,
     "metadata": {},
     "output_type": "execute_result"
    }
   ],
   "source": [
    "model.evaluate(test, verbose=1)"
   ]
  },
  {
   "cell_type": "code",
   "execution_count": 32,
   "metadata": {
    "execution": {
     "iopub.execute_input": "2023-11-12T08:21:15.640677Z",
     "iopub.status.busy": "2023-11-12T08:21:15.639917Z",
     "iopub.status.idle": "2023-11-12T08:23:35.347162Z",
     "shell.execute_reply": "2023-11-12T08:23:35.346253Z",
     "shell.execute_reply.started": "2023-11-12T08:21:15.640642Z"
    },
    "trusted": true
   },
   "outputs": [
    {
     "name": "stdout",
     "output_type": "stream",
     "text": [
      "Epoch 1/5\n",
      "315/315 [==============================] - 28s 89ms/step - loss: 0.1016 - accuracy: 0.9555 - val_loss: 0.6851 - val_accuracy: 0.7587\n",
      "Epoch 2/5\n",
      "315/315 [==============================] - 28s 88ms/step - loss: 0.1128 - accuracy: 0.9515 - val_loss: 0.2496 - val_accuracy: 0.8921\n",
      "Epoch 3/5\n",
      "315/315 [==============================] - 28s 89ms/step - loss: 0.1342 - accuracy: 0.9428 - val_loss: 0.1930 - val_accuracy: 0.9079\n",
      "Epoch 4/5\n",
      "315/315 [==============================] - 28s 88ms/step - loss: 0.0953 - accuracy: 0.9642 - val_loss: 0.1386 - val_accuracy: 0.9524\n",
      "Epoch 5/5\n",
      "315/315 [==============================] - 28s 88ms/step - loss: 0.0885 - accuracy: 0.9610 - val_loss: 0.1607 - val_accuracy: 0.9270\n"
     ]
    }
   ],
   "source": [
    "history9 = model.fit(train, epochs=5, validation_data=val, verbose=1)"
   ]
  },
  {
   "cell_type": "code",
   "execution_count": 33,
   "metadata": {
    "execution": {
     "iopub.execute_input": "2023-11-12T08:25:35.478927Z",
     "iopub.status.busy": "2023-11-12T08:25:35.477990Z",
     "iopub.status.idle": "2023-11-12T08:25:41.393875Z",
     "shell.execute_reply": "2023-11-12T08:25:41.392984Z",
     "shell.execute_reply.started": "2023-11-12T08:25:35.478892Z"
    },
    "trusted": true
   },
   "outputs": [
    {
     "name": "stdout",
     "output_type": "stream",
     "text": [
      "118/118 [==============================] - 6s 48ms/step - loss: 0.1329 - accuracy: 0.9407\n"
     ]
    },
    {
     "data": {
      "text/plain": [
       "[0.13288861513137817, 0.9406779408454895]"
      ]
     },
     "execution_count": 33,
     "metadata": {},
     "output_type": "execute_result"
    }
   ],
   "source": [
    "model.evaluate(test, verbose=1)"
   ]
  },
  {
   "cell_type": "code",
   "execution_count": 34,
   "metadata": {
    "execution": {
     "iopub.execute_input": "2023-11-12T08:26:21.737028Z",
     "iopub.status.busy": "2023-11-12T08:26:21.736228Z",
     "iopub.status.idle": "2023-11-12T08:26:22.718611Z",
     "shell.execute_reply": "2023-11-12T08:26:22.717695Z",
     "shell.execute_reply.started": "2023-11-12T08:26:21.736995Z"
    },
    "trusted": true
   },
   "outputs": [],
   "source": [
    "model.save(\"osteoporosisEEEEEEEEEEEEEEbinary-9406-01328.h5\")"
   ]
  },
  {
   "cell_type": "code",
   "execution_count": 35,
   "metadata": {
    "execution": {
     "iopub.execute_input": "2023-11-12T08:26:44.920612Z",
     "iopub.status.busy": "2023-11-12T08:26:44.919942Z",
     "iopub.status.idle": "2023-11-12T08:29:04.248267Z",
     "shell.execute_reply": "2023-11-12T08:29:04.247538Z",
     "shell.execute_reply.started": "2023-11-12T08:26:44.920579Z"
    },
    "trusted": true
   },
   "outputs": [
    {
     "name": "stdout",
     "output_type": "stream",
     "text": [
      "Epoch 1/5\n",
      "315/315 [==============================] - 28s 89ms/step - loss: 0.0920 - accuracy: 0.9618 - val_loss: 0.1869 - val_accuracy: 0.9175\n",
      "Epoch 2/5\n",
      "315/315 [==============================] - 28s 88ms/step - loss: 0.1132 - accuracy: 0.9555 - val_loss: 0.1380 - val_accuracy: 0.9397\n",
      "Epoch 3/5\n",
      "315/315 [==============================] - 28s 88ms/step - loss: 0.0895 - accuracy: 0.9618 - val_loss: 0.1501 - val_accuracy: 0.9270\n",
      "Epoch 4/5\n",
      "315/315 [==============================] - 28s 88ms/step - loss: 0.0792 - accuracy: 0.9634 - val_loss: 0.1343 - val_accuracy: 0.9429\n",
      "Epoch 5/5\n",
      "315/315 [==============================] - 28s 88ms/step - loss: 0.0726 - accuracy: 0.9642 - val_loss: 0.1344 - val_accuracy: 0.9270\n"
     ]
    }
   ],
   "source": [
    "history10 = model.fit(train, epochs=5, validation_data=val, verbose=1)"
   ]
  },
  {
   "cell_type": "code",
   "execution_count": 36,
   "metadata": {
    "execution": {
     "iopub.execute_input": "2023-11-12T08:29:10.765733Z",
     "iopub.status.busy": "2023-11-12T08:29:10.765397Z",
     "iopub.status.idle": "2023-11-12T08:29:16.564753Z",
     "shell.execute_reply": "2023-11-12T08:29:16.563834Z",
     "shell.execute_reply.started": "2023-11-12T08:29:10.765707Z"
    },
    "trusted": true
   },
   "outputs": [
    {
     "name": "stdout",
     "output_type": "stream",
     "text": [
      "118/118 [==============================] - 6s 48ms/step - loss: 0.1094 - accuracy: 0.9407\n"
     ]
    },
    {
     "data": {
      "text/plain": [
       "[0.10937193036079407, 0.9406779408454895]"
      ]
     },
     "execution_count": 36,
     "metadata": {},
     "output_type": "execute_result"
    }
   ],
   "source": [
    "model.evaluate(test, verbose=1)"
   ]
  },
  {
   "cell_type": "code",
   "execution_count": 37,
   "metadata": {
    "execution": {
     "iopub.execute_input": "2023-11-12T08:29:41.392824Z",
     "iopub.status.busy": "2023-11-12T08:29:41.392467Z",
     "iopub.status.idle": "2023-11-12T08:29:42.373613Z",
     "shell.execute_reply": "2023-11-12T08:29:42.372728Z",
     "shell.execute_reply.started": "2023-11-12T08:29:41.392796Z"
    },
    "trusted": true
   },
   "outputs": [],
   "source": [
    "model.save(\"osteoporosisEEEEEEEEEEEEEEbinary-9406-01093.h5\")"
   ]
  },
  {
   "cell_type": "code",
   "execution_count": 38,
   "metadata": {
    "execution": {
     "iopub.execute_input": "2023-11-12T08:29:46.182163Z",
     "iopub.status.busy": "2023-11-12T08:29:46.181421Z",
     "iopub.status.idle": "2023-11-12T08:32:05.511134Z",
     "shell.execute_reply": "2023-11-12T08:32:05.510137Z",
     "shell.execute_reply.started": "2023-11-12T08:29:46.182133Z"
    },
    "trusted": true
   },
   "outputs": [
    {
     "name": "stdout",
     "output_type": "stream",
     "text": [
      "Epoch 1/5\n",
      "315/315 [==============================] - 28s 88ms/step - loss: 0.0830 - accuracy: 0.9603 - val_loss: 0.1801 - val_accuracy: 0.9079\n",
      "Epoch 2/5\n",
      "315/315 [==============================] - 28s 88ms/step - loss: 0.0812 - accuracy: 0.9579 - val_loss: 0.1959 - val_accuracy: 0.9016\n",
      "Epoch 3/5\n",
      "315/315 [==============================] - 28s 88ms/step - loss: 0.0800 - accuracy: 0.9634 - val_loss: 0.1620 - val_accuracy: 0.9302\n",
      "Epoch 4/5\n",
      "315/315 [==============================] - 28s 88ms/step - loss: 0.0754 - accuracy: 0.9658 - val_loss: 0.1847 - val_accuracy: 0.9143\n",
      "Epoch 5/5\n",
      "315/315 [==============================] - 28s 88ms/step - loss: 0.0637 - accuracy: 0.9674 - val_loss: 0.1396 - val_accuracy: 0.9460\n"
     ]
    }
   ],
   "source": [
    "history11 = model.fit(train, epochs=5, validation_data=val, verbose=1)"
   ]
  },
  {
   "cell_type": "code",
   "execution_count": 39,
   "metadata": {
    "execution": {
     "iopub.execute_input": "2023-11-12T08:32:14.858690Z",
     "iopub.status.busy": "2023-11-12T08:32:14.858272Z",
     "iopub.status.idle": "2023-11-12T08:32:20.673993Z",
     "shell.execute_reply": "2023-11-12T08:32:20.673103Z",
     "shell.execute_reply.started": "2023-11-12T08:32:14.858658Z"
    },
    "trusted": true
   },
   "outputs": [
    {
     "name": "stdout",
     "output_type": "stream",
     "text": [
      "118/118 [==============================] - 6s 48ms/step - loss: 0.1135 - accuracy: 0.9513\n"
     ]
    },
    {
     "data": {
      "text/plain": [
       "[0.11348702758550644, 0.9512711763381958]"
      ]
     },
     "execution_count": 39,
     "metadata": {},
     "output_type": "execute_result"
    }
   ],
   "source": [
    "model.evaluate(test, verbose=1)"
   ]
  },
  {
   "cell_type": "code",
   "execution_count": 40,
   "metadata": {
    "execution": {
     "iopub.execute_input": "2023-11-12T08:33:00.583215Z",
     "iopub.status.busy": "2023-11-12T08:33:00.582341Z",
     "iopub.status.idle": "2023-11-12T08:33:01.559227Z",
     "shell.execute_reply": "2023-11-12T08:33:01.558462Z",
     "shell.execute_reply.started": "2023-11-12T08:33:00.583182Z"
    },
    "trusted": true
   },
   "outputs": [],
   "source": [
    "model.save(\"osteoporosisEEEEEEEEEEEEEEbinary-9510-01134.h5\")"
   ]
  },
  {
   "cell_type": "code",
   "execution_count": 41,
   "metadata": {
    "execution": {
     "iopub.execute_input": "2023-11-12T08:33:11.725671Z",
     "iopub.status.busy": "2023-11-12T08:33:11.724985Z",
     "iopub.status.idle": "2023-11-12T08:35:30.824396Z",
     "shell.execute_reply": "2023-11-12T08:35:30.823453Z",
     "shell.execute_reply.started": "2023-11-12T08:33:11.725636Z"
    },
    "trusted": true
   },
   "outputs": [
    {
     "name": "stdout",
     "output_type": "stream",
     "text": [
      "Epoch 1/5\n",
      "315/315 [==============================] - 28s 89ms/step - loss: 0.0712 - accuracy: 0.9666 - val_loss: 0.1292 - val_accuracy: 0.9492\n",
      "Epoch 2/5\n",
      "315/315 [==============================] - 28s 88ms/step - loss: 0.0658 - accuracy: 0.9690 - val_loss: 0.1377 - val_accuracy: 0.9492\n",
      "Epoch 3/5\n",
      "315/315 [==============================] - 28s 88ms/step - loss: 0.0732 - accuracy: 0.9666 - val_loss: 0.1254 - val_accuracy: 0.9746\n",
      "Epoch 4/5\n",
      "315/315 [==============================] - 28s 88ms/step - loss: 0.0620 - accuracy: 0.9642 - val_loss: 0.1318 - val_accuracy: 0.9397\n",
      "Epoch 5/5\n",
      "315/315 [==============================] - 28s 88ms/step - loss: 0.0619 - accuracy: 0.9690 - val_loss: 0.1325 - val_accuracy: 0.9429\n"
     ]
    }
   ],
   "source": [
    "history12 = model.fit(train, epochs=5, validation_data=val, verbose=1)"
   ]
  },
  {
   "cell_type": "code",
   "execution_count": 42,
   "metadata": {
    "execution": {
     "iopub.execute_input": "2023-11-12T08:35:40.932332Z",
     "iopub.status.busy": "2023-11-12T08:35:40.931584Z",
     "iopub.status.idle": "2023-11-12T08:35:47.036190Z",
     "shell.execute_reply": "2023-11-12T08:35:47.035405Z",
     "shell.execute_reply.started": "2023-11-12T08:35:40.932291Z"
    },
    "trusted": true
   },
   "outputs": [
    {
     "name": "stdout",
     "output_type": "stream",
     "text": [
      "118/118 [==============================] - 6s 50ms/step - loss: 0.1074 - accuracy: 0.9470\n"
     ]
    },
    {
     "data": {
      "text/plain": [
       "[0.10740793496370316, 0.9470338821411133]"
      ]
     },
     "execution_count": 42,
     "metadata": {},
     "output_type": "execute_result"
    }
   ],
   "source": [
    "model.evaluate(test, verbose=1)"
   ]
  },
  {
   "cell_type": "code",
   "execution_count": 43,
   "metadata": {
    "execution": {
     "iopub.execute_input": "2023-11-12T08:35:52.757124Z",
     "iopub.status.busy": "2023-11-12T08:35:52.756769Z",
     "iopub.status.idle": "2023-11-12T08:38:11.726770Z",
     "shell.execute_reply": "2023-11-12T08:38:11.725759Z",
     "shell.execute_reply.started": "2023-11-12T08:35:52.757096Z"
    },
    "trusted": true
   },
   "outputs": [
    {
     "name": "stdout",
     "output_type": "stream",
     "text": [
      "Epoch 1/5\n",
      "315/315 [==============================] - 28s 88ms/step - loss: 0.0638 - accuracy: 0.9666 - val_loss: 0.1939 - val_accuracy: 0.9206\n",
      "Epoch 2/5\n",
      "315/315 [==============================] - 28s 88ms/step - loss: 0.0619 - accuracy: 0.9674 - val_loss: 0.1421 - val_accuracy: 0.9333\n",
      "Epoch 3/5\n",
      "315/315 [==============================] - 28s 88ms/step - loss: 0.0631 - accuracy: 0.9690 - val_loss: 0.1382 - val_accuracy: 0.9333\n",
      "Epoch 4/5\n",
      "315/315 [==============================] - 28s 88ms/step - loss: 0.0577 - accuracy: 0.9690 - val_loss: 0.1312 - val_accuracy: 0.9333\n",
      "Epoch 5/5\n",
      "315/315 [==============================] - 28s 88ms/step - loss: 0.0573 - accuracy: 0.9658 - val_loss: 0.1319 - val_accuracy: 0.9302\n"
     ]
    }
   ],
   "source": [
    "history12 = model.fit(train, epochs=5, validation_data=val, verbose=1)"
   ]
  },
  {
   "cell_type": "code",
   "execution_count": 44,
   "metadata": {
    "execution": {
     "iopub.execute_input": "2023-11-12T08:38:18.923543Z",
     "iopub.status.busy": "2023-11-12T08:38:18.923158Z",
     "iopub.status.idle": "2023-11-12T08:38:24.923341Z",
     "shell.execute_reply": "2023-11-12T08:38:24.922437Z",
     "shell.execute_reply.started": "2023-11-12T08:38:18.923513Z"
    },
    "trusted": true
   },
   "outputs": [
    {
     "name": "stdout",
     "output_type": "stream",
     "text": [
      "118/118 [==============================] - 6s 49ms/step - loss: 0.1044 - accuracy: 0.9428\n"
     ]
    },
    {
     "data": {
      "text/plain": [
       "[0.10437574237585068, 0.9427965879440308]"
      ]
     },
     "execution_count": 44,
     "metadata": {},
     "output_type": "execute_result"
    }
   ],
   "source": [
    "model.evaluate(test, verbose=1)"
   ]
  },
  {
   "cell_type": "code",
   "execution_count": 45,
   "metadata": {
    "execution": {
     "iopub.execute_input": "2023-11-12T08:38:38.643898Z",
     "iopub.status.busy": "2023-11-12T08:38:38.643435Z",
     "iopub.status.idle": "2023-11-12T08:40:57.675130Z",
     "shell.execute_reply": "2023-11-12T08:40:57.674250Z",
     "shell.execute_reply.started": "2023-11-12T08:38:38.643869Z"
    },
    "trusted": true
   },
   "outputs": [
    {
     "name": "stdout",
     "output_type": "stream",
     "text": [
      "Epoch 1/5\n",
      "315/315 [==============================] - 28s 88ms/step - loss: 0.0601 - accuracy: 0.9666 - val_loss: 0.1512 - val_accuracy: 0.9333\n",
      "Epoch 2/5\n",
      "315/315 [==============================] - 28s 88ms/step - loss: 0.0592 - accuracy: 0.9650 - val_loss: 0.1251 - val_accuracy: 0.9429\n",
      "Epoch 3/5\n",
      "315/315 [==============================] - 28s 88ms/step - loss: 0.1083 - accuracy: 0.9531 - val_loss: 0.1494 - val_accuracy: 0.9429\n",
      "Epoch 4/5\n",
      "315/315 [==============================] - 28s 88ms/step - loss: 0.0646 - accuracy: 0.9706 - val_loss: 0.1014 - val_accuracy: 0.9587\n",
      "Epoch 5/5\n",
      "315/315 [==============================] - 28s 88ms/step - loss: 0.0760 - accuracy: 0.9626 - val_loss: 0.1241 - val_accuracy: 0.9492\n"
     ]
    }
   ],
   "source": [
    "history13 = model.fit(train, epochs=5, validation_data=val, verbose=1)"
   ]
  },
  {
   "cell_type": "code",
   "execution_count": 46,
   "metadata": {
    "execution": {
     "iopub.execute_input": "2023-11-12T08:41:00.744580Z",
     "iopub.status.busy": "2023-11-12T08:41:00.744193Z",
     "iopub.status.idle": "2023-11-12T08:41:06.550240Z",
     "shell.execute_reply": "2023-11-12T08:41:06.549448Z",
     "shell.execute_reply.started": "2023-11-12T08:41:00.744549Z"
    },
    "trusted": true
   },
   "outputs": [
    {
     "name": "stdout",
     "output_type": "stream",
     "text": [
      "118/118 [==============================] - 6s 48ms/step - loss: 0.1017 - accuracy: 0.9534\n"
     ]
    },
    {
     "data": {
      "text/plain": [
       "[0.10165651887655258, 0.9533898234367371]"
      ]
     },
     "execution_count": 46,
     "metadata": {},
     "output_type": "execute_result"
    }
   ],
   "source": [
    "model.evaluate(test, verbose=1)"
   ]
  },
  {
   "cell_type": "code",
   "execution_count": 47,
   "metadata": {
    "execution": {
     "iopub.execute_input": "2023-11-12T08:41:47.878096Z",
     "iopub.status.busy": "2023-11-12T08:41:47.877352Z",
     "iopub.status.idle": "2023-11-12T08:41:48.871307Z",
     "shell.execute_reply": "2023-11-12T08:41:48.870003Z",
     "shell.execute_reply.started": "2023-11-12T08:41:47.878062Z"
    },
    "trusted": true
   },
   "outputs": [],
   "source": [
    "model.save(\"osteoporosisEEEEEEEEEEEEEEbinary-9533-01016.h5\")"
   ]
  },
  {
   "cell_type": "code",
   "execution_count": 48,
   "metadata": {
    "execution": {
     "iopub.execute_input": "2023-11-12T08:41:51.594552Z",
     "iopub.status.busy": "2023-11-12T08:41:51.593883Z",
     "iopub.status.idle": "2023-11-12T08:44:10.771463Z",
     "shell.execute_reply": "2023-11-12T08:44:10.770680Z",
     "shell.execute_reply.started": "2023-11-12T08:41:51.594520Z"
    },
    "trusted": true
   },
   "outputs": [
    {
     "name": "stdout",
     "output_type": "stream",
     "text": [
      "Epoch 1/5\n",
      "315/315 [==============================] - 28s 88ms/step - loss: 0.0594 - accuracy: 0.9674 - val_loss: 0.1128 - val_accuracy: 0.9365\n",
      "Epoch 2/5\n",
      "315/315 [==============================] - 28s 88ms/step - loss: 0.0543 - accuracy: 0.9642 - val_loss: 0.1157 - val_accuracy: 0.9333\n",
      "Epoch 3/5\n",
      "315/315 [==============================] - 28s 88ms/step - loss: 0.0541 - accuracy: 0.9658 - val_loss: 0.1258 - val_accuracy: 0.9524\n",
      "Epoch 4/5\n",
      "315/315 [==============================] - 28s 89ms/step - loss: 0.0896 - accuracy: 0.9555 - val_loss: 0.1564 - val_accuracy: 0.9143\n",
      "Epoch 5/5\n",
      "315/315 [==============================] - 28s 88ms/step - loss: 0.0566 - accuracy: 0.9674 - val_loss: 0.1081 - val_accuracy: 0.9333\n"
     ]
    }
   ],
   "source": [
    "history14 = model.fit(train, epochs=5, validation_data=val, verbose=1)"
   ]
  },
  {
   "cell_type": "code",
   "execution_count": 49,
   "metadata": {
    "execution": {
     "iopub.execute_input": "2023-11-12T08:44:30.684069Z",
     "iopub.status.busy": "2023-11-12T08:44:30.683691Z",
     "iopub.status.idle": "2023-11-12T08:44:36.496452Z",
     "shell.execute_reply": "2023-11-12T08:44:36.495576Z",
     "shell.execute_reply.started": "2023-11-12T08:44:30.684037Z"
    },
    "trusted": true
   },
   "outputs": [
    {
     "name": "stdout",
     "output_type": "stream",
     "text": [
      "118/118 [==============================] - 6s 48ms/step - loss: 0.0871 - accuracy: 0.9449\n"
     ]
    },
    {
     "data": {
      "text/plain": [
       "[0.08714985102415085, 0.944915235042572]"
      ]
     },
     "execution_count": 49,
     "metadata": {},
     "output_type": "execute_result"
    }
   ],
   "source": [
    "model.evaluate(test, verbose=1)"
   ]
  },
  {
   "cell_type": "code",
   "execution_count": 50,
   "metadata": {
    "execution": {
     "iopub.execute_input": "2023-11-12T08:45:04.643074Z",
     "iopub.status.busy": "2023-11-12T08:45:04.642707Z",
     "iopub.status.idle": "2023-11-12T08:47:23.727056Z",
     "shell.execute_reply": "2023-11-12T08:47:23.725987Z",
     "shell.execute_reply.started": "2023-11-12T08:45:04.643044Z"
    },
    "trusted": true
   },
   "outputs": [
    {
     "name": "stdout",
     "output_type": "stream",
     "text": [
      "Epoch 1/5\n",
      "315/315 [==============================] - 28s 88ms/step - loss: 0.0584 - accuracy: 0.9722 - val_loss: 0.2156 - val_accuracy: 0.9143\n",
      "Epoch 2/5\n",
      "315/315 [==============================] - 28s 88ms/step - loss: 0.0616 - accuracy: 0.9626 - val_loss: 0.1088 - val_accuracy: 0.9524\n",
      "Epoch 3/5\n",
      "315/315 [==============================] - 28s 88ms/step - loss: 0.0569 - accuracy: 0.9666 - val_loss: 0.2142 - val_accuracy: 0.9143\n",
      "Epoch 4/5\n",
      "315/315 [==============================] - 28s 88ms/step - loss: 0.0586 - accuracy: 0.9618 - val_loss: 0.1177 - val_accuracy: 0.9429\n",
      "Epoch 5/5\n",
      "315/315 [==============================] - 28s 88ms/step - loss: 0.0536 - accuracy: 0.9682 - val_loss: 0.1220 - val_accuracy: 0.9365\n"
     ]
    }
   ],
   "source": [
    "history15 = model.fit(train, epochs=5, validation_data=val, verbose=1)"
   ]
  },
  {
   "cell_type": "code",
   "execution_count": 51,
   "metadata": {
    "execution": {
     "iopub.execute_input": "2023-11-12T08:47:28.054044Z",
     "iopub.status.busy": "2023-11-12T08:47:28.053707Z",
     "iopub.status.idle": "2023-11-12T08:47:33.939148Z",
     "shell.execute_reply": "2023-11-12T08:47:33.938312Z",
     "shell.execute_reply.started": "2023-11-12T08:47:28.054019Z"
    },
    "trusted": true
   },
   "outputs": [
    {
     "name": "stdout",
     "output_type": "stream",
     "text": [
      "118/118 [==============================] - 6s 48ms/step - loss: 0.0955 - accuracy: 0.9470\n"
     ]
    },
    {
     "data": {
      "text/plain": [
       "[0.09553711116313934, 0.9470338821411133]"
      ]
     },
     "execution_count": 51,
     "metadata": {},
     "output_type": "execute_result"
    }
   ],
   "source": [
    "model.evaluate(test, verbose=1)"
   ]
  },
  {
   "cell_type": "code",
   "execution_count": 52,
   "metadata": {
    "execution": {
     "iopub.execute_input": "2023-11-12T08:47:41.600990Z",
     "iopub.status.busy": "2023-11-12T08:47:41.600157Z",
     "iopub.status.idle": "2023-11-12T08:50:01.195959Z",
     "shell.execute_reply": "2023-11-12T08:50:01.194915Z",
     "shell.execute_reply.started": "2023-11-12T08:47:41.600956Z"
    },
    "trusted": true
   },
   "outputs": [
    {
     "name": "stdout",
     "output_type": "stream",
     "text": [
      "Epoch 1/5\n",
      "315/315 [==============================] - 28s 89ms/step - loss: 0.0542 - accuracy: 0.9674 - val_loss: 0.1242 - val_accuracy: 0.9429\n",
      "Epoch 2/5\n",
      "315/315 [==============================] - 28s 88ms/step - loss: 0.0505 - accuracy: 0.9706 - val_loss: 0.1428 - val_accuracy: 0.9333\n",
      "Epoch 3/5\n",
      "315/315 [==============================] - 28s 88ms/step - loss: 0.0522 - accuracy: 0.9690 - val_loss: 0.1138 - val_accuracy: 0.9302\n",
      "Epoch 4/5\n",
      "315/315 [==============================] - 28s 88ms/step - loss: 0.0518 - accuracy: 0.9674 - val_loss: 0.1062 - val_accuracy: 0.9429\n",
      "Epoch 5/5\n",
      "315/315 [==============================] - 28s 88ms/step - loss: 0.0753 - accuracy: 0.9618 - val_loss: 0.1379 - val_accuracy: 0.9270\n"
     ]
    }
   ],
   "source": [
    "history16 = model.fit(train, epochs=5, validation_data=val, verbose=1)"
   ]
  },
  {
   "cell_type": "code",
   "execution_count": 53,
   "metadata": {
    "execution": {
     "iopub.execute_input": "2023-11-12T08:50:36.369508Z",
     "iopub.status.busy": "2023-11-12T08:50:36.368836Z",
     "iopub.status.idle": "2023-11-12T08:50:42.301214Z",
     "shell.execute_reply": "2023-11-12T08:50:42.300438Z",
     "shell.execute_reply.started": "2023-11-12T08:50:36.369473Z"
    },
    "trusted": true
   },
   "outputs": [
    {
     "name": "stdout",
     "output_type": "stream",
     "text": [
      "118/118 [==============================] - 6s 49ms/step - loss: 0.1079 - accuracy: 0.9407\n"
     ]
    },
    {
     "data": {
      "text/plain": [
       "[0.10788584500551224, 0.9406779408454895]"
      ]
     },
     "execution_count": 53,
     "metadata": {},
     "output_type": "execute_result"
    }
   ],
   "source": [
    "model.evaluate(test, verbose=1)"
   ]
  },
  {
   "cell_type": "code",
   "execution_count": 54,
   "metadata": {
    "execution": {
     "iopub.execute_input": "2023-11-12T08:50:47.575489Z",
     "iopub.status.busy": "2023-11-12T08:50:47.575099Z",
     "iopub.status.idle": "2023-11-12T08:53:07.284780Z",
     "shell.execute_reply": "2023-11-12T08:53:07.283981Z",
     "shell.execute_reply.started": "2023-11-12T08:50:47.575456Z"
    },
    "trusted": true
   },
   "outputs": [
    {
     "name": "stdout",
     "output_type": "stream",
     "text": [
      "Epoch 1/5\n",
      "315/315 [==============================] - 28s 89ms/step - loss: 0.0526 - accuracy: 0.9690 - val_loss: 0.1229 - val_accuracy: 0.9460\n",
      "Epoch 2/5\n",
      "315/315 [==============================] - 28s 88ms/step - loss: 0.0496 - accuracy: 0.9682 - val_loss: 0.1019 - val_accuracy: 0.9556\n",
      "Epoch 3/5\n",
      "315/315 [==============================] - 28s 88ms/step - loss: 0.0508 - accuracy: 0.9698 - val_loss: 0.1168 - val_accuracy: 0.9460\n",
      "Epoch 4/5\n",
      "315/315 [==============================] - 28s 88ms/step - loss: 0.0522 - accuracy: 0.9698 - val_loss: 0.1193 - val_accuracy: 0.9429\n",
      "Epoch 5/5\n",
      "315/315 [==============================] - 28s 88ms/step - loss: 0.0504 - accuracy: 0.9706 - val_loss: 0.1199 - val_accuracy: 0.9492\n"
     ]
    }
   ],
   "source": [
    "history17 = model.fit(train, epochs=5, validation_data=val, verbose=1)"
   ]
  },
  {
   "cell_type": "code",
   "execution_count": 55,
   "metadata": {
    "execution": {
     "iopub.execute_input": "2023-11-12T08:54:17.494967Z",
     "iopub.status.busy": "2023-11-12T08:54:17.494616Z",
     "iopub.status.idle": "2023-11-12T08:54:23.314711Z",
     "shell.execute_reply": "2023-11-12T08:54:23.313800Z",
     "shell.execute_reply.started": "2023-11-12T08:54:17.494941Z"
    },
    "trusted": true
   },
   "outputs": [
    {
     "name": "stdout",
     "output_type": "stream",
     "text": [
      "118/118 [==============================] - 6s 48ms/step - loss: 0.0960 - accuracy: 0.9534\n"
     ]
    },
    {
     "data": {
      "text/plain": [
       "[0.09599112719297409, 0.9533898234367371]"
      ]
     },
     "execution_count": 55,
     "metadata": {},
     "output_type": "execute_result"
    }
   ],
   "source": [
    "model.evaluate(test, verbose=1)"
   ]
  },
  {
   "cell_type": "code",
   "execution_count": 56,
   "metadata": {
    "execution": {
     "iopub.execute_input": "2023-11-12T08:55:01.754917Z",
     "iopub.status.busy": "2023-11-12T08:55:01.754554Z",
     "iopub.status.idle": "2023-11-12T08:55:02.725124Z",
     "shell.execute_reply": "2023-11-12T08:55:02.724298Z",
     "shell.execute_reply.started": "2023-11-12T08:55:01.754887Z"
    },
    "trusted": true
   },
   "outputs": [],
   "source": [
    "model.save(\"osteoporosisEEEEEEEEEEEEEEbinary-9533-00959.h5\")"
   ]
  },
  {
   "cell_type": "code",
   "execution_count": 57,
   "metadata": {
    "execution": {
     "iopub.execute_input": "2023-11-12T08:55:16.204120Z",
     "iopub.status.busy": "2023-11-12T08:55:16.203762Z",
     "iopub.status.idle": "2023-11-12T08:57:35.682554Z",
     "shell.execute_reply": "2023-11-12T08:57:35.681345Z",
     "shell.execute_reply.started": "2023-11-12T08:55:16.204091Z"
    },
    "trusted": true
   },
   "outputs": [
    {
     "name": "stdout",
     "output_type": "stream",
     "text": [
      "Epoch 1/5\n",
      "315/315 [==============================] - 28s 88ms/step - loss: 0.0498 - accuracy: 0.9698 - val_loss: 0.1319 - val_accuracy: 0.9302\n",
      "Epoch 2/5\n",
      "315/315 [==============================] - 28s 89ms/step - loss: 0.0520 - accuracy: 0.9714 - val_loss: 0.0884 - val_accuracy: 0.9746\n",
      "Epoch 3/5\n",
      "315/315 [==============================] - 28s 88ms/step - loss: 0.0559 - accuracy: 0.9682 - val_loss: 0.1058 - val_accuracy: 0.9587\n",
      "Epoch 4/5\n",
      "315/315 [==============================] - 28s 89ms/step - loss: 0.0488 - accuracy: 0.9698 - val_loss: 0.1029 - val_accuracy: 0.9714\n",
      "Epoch 5/5\n",
      "315/315 [==============================] - 28s 88ms/step - loss: 0.0512 - accuracy: 0.9666 - val_loss: 0.1167 - val_accuracy: 0.9587\n"
     ]
    }
   ],
   "source": [
    "history18 = model.fit(train, epochs=5, validation_data=val, verbose=1)"
   ]
  },
  {
   "cell_type": "code",
   "execution_count": 58,
   "metadata": {
    "execution": {
     "iopub.execute_input": "2023-11-12T08:57:38.593875Z",
     "iopub.status.busy": "2023-11-12T08:57:38.592978Z",
     "iopub.status.idle": "2023-11-12T08:57:44.450420Z",
     "shell.execute_reply": "2023-11-12T08:57:44.449534Z",
     "shell.execute_reply.started": "2023-11-12T08:57:38.593838Z"
    },
    "trusted": true
   },
   "outputs": [
    {
     "name": "stdout",
     "output_type": "stream",
     "text": [
      "118/118 [==============================] - 6s 48ms/step - loss: 0.0928 - accuracy: 0.9597\n"
     ]
    },
    {
     "data": {
      "text/plain": [
       "[0.09277220815420151, 0.9597457647323608]"
      ]
     },
     "execution_count": 58,
     "metadata": {},
     "output_type": "execute_result"
    }
   ],
   "source": [
    "model.evaluate(test, verbose=1)"
   ]
  },
  {
   "cell_type": "code",
   "execution_count": 59,
   "metadata": {
    "execution": {
     "iopub.execute_input": "2023-11-12T08:58:35.072490Z",
     "iopub.status.busy": "2023-11-12T08:58:35.072105Z",
     "iopub.status.idle": "2023-11-12T08:58:36.058508Z",
     "shell.execute_reply": "2023-11-12T08:58:36.057507Z",
     "shell.execute_reply.started": "2023-11-12T08:58:35.072459Z"
    },
    "trusted": true
   },
   "outputs": [],
   "source": [
    "model.save(\"osteoporosisEEEEEEEEEEEEEEbinary-9597-00927.h5\")"
   ]
  },
  {
   "cell_type": "code",
   "execution_count": 60,
   "metadata": {
    "execution": {
     "iopub.execute_input": "2023-11-12T08:58:38.377536Z",
     "iopub.status.busy": "2023-11-12T08:58:38.377166Z",
     "iopub.status.idle": "2023-11-12T09:00:57.682214Z",
     "shell.execute_reply": "2023-11-12T09:00:57.681340Z",
     "shell.execute_reply.started": "2023-11-12T08:58:38.377506Z"
    },
    "trusted": true
   },
   "outputs": [
    {
     "name": "stdout",
     "output_type": "stream",
     "text": [
      "Epoch 1/5\n",
      "315/315 [==============================] - 28s 89ms/step - loss: 0.0480 - accuracy: 0.9698 - val_loss: 0.1335 - val_accuracy: 0.9365\n",
      "Epoch 2/5\n",
      "315/315 [==============================] - 28s 88ms/step - loss: 0.0466 - accuracy: 0.9706 - val_loss: 0.1087 - val_accuracy: 0.9460\n",
      "Epoch 3/5\n",
      "315/315 [==============================] - 28s 88ms/step - loss: 0.0455 - accuracy: 0.9714 - val_loss: 0.1529 - val_accuracy: 0.9333\n",
      "Epoch 4/5\n",
      "315/315 [==============================] - 28s 88ms/step - loss: 0.0476 - accuracy: 0.9682 - val_loss: 0.1358 - val_accuracy: 0.9365\n",
      "Epoch 5/5\n",
      "315/315 [==============================] - 28s 88ms/step - loss: 0.0454 - accuracy: 0.9738 - val_loss: 0.1823 - val_accuracy: 0.9111\n"
     ]
    }
   ],
   "source": [
    "history19 = model.fit(train, epochs=5, validation_data=val, verbose=1)"
   ]
  },
  {
   "cell_type": "code",
   "execution_count": 61,
   "metadata": {
    "execution": {
     "iopub.execute_input": "2023-11-12T09:01:19.865597Z",
     "iopub.status.busy": "2023-11-12T09:01:19.865202Z",
     "iopub.status.idle": "2023-11-12T09:01:25.895127Z",
     "shell.execute_reply": "2023-11-12T09:01:25.894264Z",
     "shell.execute_reply.started": "2023-11-12T09:01:19.865569Z"
    },
    "trusted": true
   },
   "outputs": [
    {
     "name": "stdout",
     "output_type": "stream",
     "text": [
      "118/118 [==============================] - 6s 49ms/step - loss: 0.1354 - accuracy: 0.9343\n"
     ]
    },
    {
     "data": {
      "text/plain": [
       "[0.13540636003017426, 0.9343220591545105]"
      ]
     },
     "execution_count": 61,
     "metadata": {},
     "output_type": "execute_result"
    }
   ],
   "source": [
    "model.evaluate(test, verbose=1)"
   ]
  },
  {
   "cell_type": "code",
   "execution_count": 62,
   "metadata": {
    "execution": {
     "iopub.execute_input": "2023-11-12T09:01:32.000535Z",
     "iopub.status.busy": "2023-11-12T09:01:31.999739Z",
     "iopub.status.idle": "2023-11-12T09:03:51.356762Z",
     "shell.execute_reply": "2023-11-12T09:03:51.355930Z",
     "shell.execute_reply.started": "2023-11-12T09:01:32.000501Z"
    },
    "trusted": true
   },
   "outputs": [
    {
     "name": "stdout",
     "output_type": "stream",
     "text": [
      "Epoch 1/5\n",
      "315/315 [==============================] - 28s 89ms/step - loss: 0.0481 - accuracy: 0.9722 - val_loss: 0.1084 - val_accuracy: 0.9524\n",
      "Epoch 2/5\n",
      "315/315 [==============================] - 28s 88ms/step - loss: 0.0514 - accuracy: 0.9706 - val_loss: 0.1345 - val_accuracy: 0.9460\n",
      "Epoch 3/5\n",
      "315/315 [==============================] - 28s 88ms/step - loss: 0.0492 - accuracy: 0.9682 - val_loss: 0.1127 - val_accuracy: 0.9460\n",
      "Epoch 4/5\n",
      "315/315 [==============================] - 28s 88ms/step - loss: 0.0566 - accuracy: 0.9658 - val_loss: 0.1401 - val_accuracy: 0.9270\n",
      "Epoch 5/5\n",
      "315/315 [==============================] - 28s 88ms/step - loss: 0.0494 - accuracy: 0.9682 - val_loss: 0.1194 - val_accuracy: 0.9397\n"
     ]
    }
   ],
   "source": [
    "history20 = model.fit(train, epochs=5, validation_data=val, verbose=1)"
   ]
  },
  {
   "cell_type": "code",
   "execution_count": 63,
   "metadata": {
    "execution": {
     "iopub.execute_input": "2023-11-12T09:04:13.515549Z",
     "iopub.status.busy": "2023-11-12T09:04:13.515124Z",
     "iopub.status.idle": "2023-11-12T09:04:19.692459Z",
     "shell.execute_reply": "2023-11-12T09:04:19.691616Z",
     "shell.execute_reply.started": "2023-11-12T09:04:13.515515Z"
    },
    "trusted": true
   },
   "outputs": [
    {
     "name": "stdout",
     "output_type": "stream",
     "text": [
      "118/118 [==============================] - 6s 51ms/step - loss: 0.0938 - accuracy: 0.9513\n"
     ]
    },
    {
     "data": {
      "text/plain": [
       "[0.0938182845711708, 0.9512711763381958]"
      ]
     },
     "execution_count": 63,
     "metadata": {},
     "output_type": "execute_result"
    }
   ],
   "source": [
    "model.evaluate(test, verbose=1)"
   ]
  },
  {
   "cell_type": "code",
   "execution_count": 64,
   "metadata": {
    "execution": {
     "iopub.execute_input": "2023-11-12T09:04:23.740329Z",
     "iopub.status.busy": "2023-11-12T09:04:23.739634Z",
     "iopub.status.idle": "2023-11-12T09:06:44.435544Z",
     "shell.execute_reply": "2023-11-12T09:06:44.434536Z",
     "shell.execute_reply.started": "2023-11-12T09:04:23.740288Z"
    },
    "trusted": true
   },
   "outputs": [
    {
     "name": "stdout",
     "output_type": "stream",
     "text": [
      "Epoch 1/5\n",
      "315/315 [==============================] - 28s 89ms/step - loss: 0.0468 - accuracy: 0.9722 - val_loss: 0.1072 - val_accuracy: 0.9587\n",
      "Epoch 2/5\n",
      "315/315 [==============================] - 28s 89ms/step - loss: 0.0472 - accuracy: 0.9690 - val_loss: 0.1175 - val_accuracy: 0.9460\n",
      "Epoch 3/5\n",
      "315/315 [==============================] - 28s 89ms/step - loss: 0.0473 - accuracy: 0.9762 - val_loss: 0.1061 - val_accuracy: 0.9492\n",
      "Epoch 4/5\n",
      "315/315 [==============================] - 28s 89ms/step - loss: 0.0485 - accuracy: 0.9682 - val_loss: 0.1066 - val_accuracy: 0.9460\n",
      "Epoch 5/5\n",
      "315/315 [==============================] - 28s 89ms/step - loss: 0.0454 - accuracy: 0.9714 - val_loss: 0.1049 - val_accuracy: 0.9429\n"
     ]
    }
   ],
   "source": [
    "history21 = model.fit(train, epochs=5, validation_data=val, verbose=1)"
   ]
  },
  {
   "cell_type": "code",
   "execution_count": 65,
   "metadata": {
    "execution": {
     "iopub.execute_input": "2023-11-12T09:06:50.800771Z",
     "iopub.status.busy": "2023-11-12T09:06:50.799981Z",
     "iopub.status.idle": "2023-11-12T09:06:56.885680Z",
     "shell.execute_reply": "2023-11-12T09:06:56.884662Z",
     "shell.execute_reply.started": "2023-11-12T09:06:50.800733Z"
    },
    "trusted": true
   },
   "outputs": [
    {
     "name": "stdout",
     "output_type": "stream",
     "text": [
      "118/118 [==============================] - 6s 50ms/step - loss: 0.0841 - accuracy: 0.9513\n"
     ]
    },
    {
     "data": {
      "text/plain": [
       "[0.08405910432338715, 0.9512711763381958]"
      ]
     },
     "execution_count": 65,
     "metadata": {},
     "output_type": "execute_result"
    }
   ],
   "source": [
    "model.evaluate(test, verbose=1)"
   ]
  },
  {
   "cell_type": "code",
   "execution_count": 66,
   "metadata": {
    "execution": {
     "iopub.execute_input": "2023-11-12T09:08:33.914720Z",
     "iopub.status.busy": "2023-11-12T09:08:33.914015Z",
     "iopub.status.idle": "2023-11-12T09:10:54.358875Z",
     "shell.execute_reply": "2023-11-12T09:10:54.357879Z",
     "shell.execute_reply.started": "2023-11-12T09:08:33.914689Z"
    },
    "trusted": true
   },
   "outputs": [
    {
     "name": "stdout",
     "output_type": "stream",
     "text": [
      "Epoch 1/5\n",
      "315/315 [==============================] - 28s 89ms/step - loss: 0.0460 - accuracy: 0.9682 - val_loss: 0.1376 - val_accuracy: 0.9270\n",
      "Epoch 2/5\n",
      "315/315 [==============================] - 28s 89ms/step - loss: 0.0443 - accuracy: 0.9706 - val_loss: 0.1054 - val_accuracy: 0.9556\n",
      "Epoch 3/5\n",
      "315/315 [==============================] - 28s 89ms/step - loss: 0.0478 - accuracy: 0.9690 - val_loss: 0.1075 - val_accuracy: 0.9524\n",
      "Epoch 4/5\n",
      "315/315 [==============================] - 28s 89ms/step - loss: 0.0446 - accuracy: 0.9746 - val_loss: 0.1053 - val_accuracy: 0.9683\n",
      "Epoch 5/5\n",
      "315/315 [==============================] - 28s 89ms/step - loss: 0.0445 - accuracy: 0.9754 - val_loss: 0.1055 - val_accuracy: 0.9619\n"
     ]
    }
   ],
   "source": [
    "history22 = model.fit(train, epochs=5, validation_data=val, verbose=1)"
   ]
  },
  {
   "cell_type": "code",
   "execution_count": 67,
   "metadata": {
    "execution": {
     "iopub.execute_input": "2023-11-12T09:11:10.998457Z",
     "iopub.status.busy": "2023-11-12T09:11:10.998064Z",
     "iopub.status.idle": "2023-11-12T09:11:17.013754Z",
     "shell.execute_reply": "2023-11-12T09:11:17.012755Z",
     "shell.execute_reply.started": "2023-11-12T09:11:10.998423Z"
    },
    "trusted": true
   },
   "outputs": [
    {
     "name": "stdout",
     "output_type": "stream",
     "text": [
      "118/118 [==============================] - 6s 49ms/step - loss: 0.0855 - accuracy: 0.9619\n"
     ]
    },
    {
     "data": {
      "text/plain": [
       "[0.0854741781949997, 0.9618644118309021]"
      ]
     },
     "execution_count": 67,
     "metadata": {},
     "output_type": "execute_result"
    }
   ],
   "source": [
    "model.evaluate(test, verbose=1)"
   ]
  },
  {
   "cell_type": "code",
   "execution_count": 68,
   "metadata": {
    "execution": {
     "iopub.execute_input": "2023-11-12T09:11:57.941216Z",
     "iopub.status.busy": "2023-11-12T09:11:57.940302Z",
     "iopub.status.idle": "2023-11-12T09:11:58.953074Z",
     "shell.execute_reply": "2023-11-12T09:11:58.951989Z",
     "shell.execute_reply.started": "2023-11-12T09:11:57.941178Z"
    },
    "trusted": true
   },
   "outputs": [],
   "source": [
    "model.save(\"osteoporosisEEEEEEEEEEEEEEbinary-9618-0854.h5\")"
   ]
  },
  {
   "cell_type": "code",
   "execution_count": 69,
   "metadata": {
    "execution": {
     "iopub.execute_input": "2023-11-12T09:12:35.597756Z",
     "iopub.status.busy": "2023-11-12T09:12:35.597048Z",
     "iopub.status.idle": "2023-11-12T09:14:56.320575Z",
     "shell.execute_reply": "2023-11-12T09:14:56.319611Z",
     "shell.execute_reply.started": "2023-11-12T09:12:35.597708Z"
    },
    "trusted": true
   },
   "outputs": [
    {
     "name": "stdout",
     "output_type": "stream",
     "text": [
      "Epoch 1/5\n",
      "315/315 [==============================] - 28s 89ms/step - loss: 0.0465 - accuracy: 0.9698 - val_loss: 0.1242 - val_accuracy: 0.9397\n",
      "Epoch 2/5\n",
      "315/315 [==============================] - 28s 89ms/step - loss: 0.0459 - accuracy: 0.9706 - val_loss: 0.1226 - val_accuracy: 0.9270\n",
      "Epoch 3/5\n",
      "315/315 [==============================] - 28s 89ms/step - loss: 0.0444 - accuracy: 0.9706 - val_loss: 0.1407 - val_accuracy: 0.9365\n",
      "Epoch 4/5\n",
      "315/315 [==============================] - 28s 89ms/step - loss: 0.0449 - accuracy: 0.9722 - val_loss: 0.1136 - val_accuracy: 0.9397\n",
      "Epoch 5/5\n",
      "315/315 [==============================] - 28s 89ms/step - loss: 0.0441 - accuracy: 0.9722 - val_loss: 0.1293 - val_accuracy: 0.9302\n"
     ]
    }
   ],
   "source": [
    "history23 = model.fit(train, epochs=5, validation_data=val, verbose=1)"
   ]
  },
  {
   "cell_type": "code",
   "execution_count": 70,
   "metadata": {
    "execution": {
     "iopub.execute_input": "2023-11-12T09:15:58.446697Z",
     "iopub.status.busy": "2023-11-12T09:15:58.446333Z",
     "iopub.status.idle": "2023-11-12T09:16:04.823035Z",
     "shell.execute_reply": "2023-11-12T09:16:04.822101Z",
     "shell.execute_reply.started": "2023-11-12T09:15:58.446671Z"
    },
    "trusted": true
   },
   "outputs": [
    {
     "name": "stdout",
     "output_type": "stream",
     "text": [
      "118/118 [==============================] - 6s 52ms/step - loss: 0.0995 - accuracy: 0.9449\n"
     ]
    },
    {
     "data": {
      "text/plain": [
       "[0.09945190697908401, 0.944915235042572]"
      ]
     },
     "execution_count": 70,
     "metadata": {},
     "output_type": "execute_result"
    }
   ],
   "source": [
    "model.evaluate(test, verbose=1)"
   ]
  },
  {
   "cell_type": "code",
   "execution_count": 71,
   "metadata": {
    "execution": {
     "iopub.execute_input": "2023-11-12T09:16:23.397665Z",
     "iopub.status.busy": "2023-11-12T09:16:23.396819Z",
     "iopub.status.idle": "2023-11-12T09:18:43.656791Z",
     "shell.execute_reply": "2023-11-12T09:18:43.655919Z",
     "shell.execute_reply.started": "2023-11-12T09:16:23.397632Z"
    },
    "trusted": true
   },
   "outputs": [
    {
     "name": "stdout",
     "output_type": "stream",
     "text": [
      "Epoch 1/5\n",
      "315/315 [==============================] - 28s 89ms/step - loss: 0.0452 - accuracy: 0.9722 - val_loss: 0.1073 - val_accuracy: 0.9429\n",
      "Epoch 2/5\n",
      "315/315 [==============================] - 28s 89ms/step - loss: 0.0447 - accuracy: 0.9682 - val_loss: 0.1095 - val_accuracy: 0.9460\n",
      "Epoch 3/5\n",
      "315/315 [==============================] - 28s 89ms/step - loss: 0.0455 - accuracy: 0.9690 - val_loss: 0.1065 - val_accuracy: 0.9492\n",
      "Epoch 4/5\n",
      "315/315 [==============================] - 28s 89ms/step - loss: 0.0431 - accuracy: 0.9730 - val_loss: 0.1076 - val_accuracy: 0.9460\n",
      "Epoch 5/5\n",
      "315/315 [==============================] - 28s 89ms/step - loss: 0.0456 - accuracy: 0.9690 - val_loss: 0.1079 - val_accuracy: 0.9429\n"
     ]
    }
   ],
   "source": [
    "history24 = model.fit(train, epochs=5, validation_data=val, verbose=1)"
   ]
  },
  {
   "cell_type": "code",
   "execution_count": 72,
   "metadata": {
    "execution": {
     "iopub.execute_input": "2023-11-12T09:20:10.437628Z",
     "iopub.status.busy": "2023-11-12T09:20:10.437215Z",
     "iopub.status.idle": "2023-11-12T09:20:20.801076Z",
     "shell.execute_reply": "2023-11-12T09:20:20.800094Z",
     "shell.execute_reply.started": "2023-11-12T09:20:10.437596Z"
    },
    "trusted": true
   },
   "outputs": [
    {
     "name": "stdout",
     "output_type": "stream",
     "text": [
      "118/118 [==============================] - 6s 49ms/step - loss: 0.0866 - accuracy: 0.9513\n"
     ]
    },
    {
     "data": {
      "text/plain": [
       "[0.08655489981174469, 0.9512711763381958]"
      ]
     },
     "execution_count": 72,
     "metadata": {},
     "output_type": "execute_result"
    }
   ],
   "source": [
    "model.evaluate(test, verbose=1)"
   ]
  },
  {
   "cell_type": "code",
   "execution_count": 73,
   "metadata": {
    "execution": {
     "iopub.execute_input": "2023-11-12T09:20:22.815797Z",
     "iopub.status.busy": "2023-11-12T09:20:22.815051Z",
     "iopub.status.idle": "2023-11-12T09:22:42.629805Z",
     "shell.execute_reply": "2023-11-12T09:22:42.628841Z",
     "shell.execute_reply.started": "2023-11-12T09:20:22.815762Z"
    },
    "trusted": true
   },
   "outputs": [
    {
     "name": "stdout",
     "output_type": "stream",
     "text": [
      "Epoch 1/5\n",
      "315/315 [==============================] - 28s 89ms/step - loss: 0.0438 - accuracy: 0.9714 - val_loss: 0.1010 - val_accuracy: 0.9587\n",
      "Epoch 2/5\n",
      "315/315 [==============================] - 28s 88ms/step - loss: 0.0467 - accuracy: 0.9722 - val_loss: 0.1204 - val_accuracy: 0.9524\n",
      "Epoch 3/5\n",
      "315/315 [==============================] - 28s 88ms/step - loss: 0.0553 - accuracy: 0.9682 - val_loss: 0.1155 - val_accuracy: 0.9587\n",
      "Epoch 4/5\n",
      "315/315 [==============================] - 28s 88ms/step - loss: 0.0588 - accuracy: 0.9650 - val_loss: 0.1257 - val_accuracy: 0.9302\n",
      "Epoch 5/5\n",
      "315/315 [==============================] - 28s 89ms/step - loss: 0.0489 - accuracy: 0.9698 - val_loss: 0.0877 - val_accuracy: 0.9651\n"
     ]
    }
   ],
   "source": [
    "history25 = model.fit(train, epochs=5, validation_data=val, verbose=1)"
   ]
  },
  {
   "cell_type": "code",
   "execution_count": 74,
   "metadata": {
    "execution": {
     "iopub.execute_input": "2023-11-12T09:23:57.106918Z",
     "iopub.status.busy": "2023-11-12T09:23:57.106132Z",
     "iopub.status.idle": "2023-11-12T09:24:03.036809Z",
     "shell.execute_reply": "2023-11-12T09:24:03.035941Z",
     "shell.execute_reply.started": "2023-11-12T09:23:57.106876Z"
    },
    "trusted": true
   },
   "outputs": [
    {
     "name": "stdout",
     "output_type": "stream",
     "text": [
      "118/118 [==============================] - 6s 49ms/step - loss: 0.0770 - accuracy: 0.9640\n"
     ]
    },
    {
     "data": {
      "text/plain": [
       "[0.07698728889226913, 0.9639830589294434]"
      ]
     },
     "execution_count": 74,
     "metadata": {},
     "output_type": "execute_result"
    }
   ],
   "source": [
    "model.evaluate(test, verbose=1)"
   ]
  },
  {
   "cell_type": "code",
   "execution_count": 82,
   "metadata": {
    "execution": {
     "iopub.execute_input": "2023-11-12T09:32:37.402094Z",
     "iopub.status.busy": "2023-11-12T09:32:37.401245Z",
     "iopub.status.idle": "2023-11-12T09:34:57.218145Z",
     "shell.execute_reply": "2023-11-12T09:34:57.217334Z",
     "shell.execute_reply.started": "2023-11-12T09:32:37.402061Z"
    },
    "trusted": true
   },
   "outputs": [
    {
     "name": "stdout",
     "output_type": "stream",
     "text": [
      "Epoch 1/5\n",
      "315/315 [==============================] - 28s 89ms/step - loss: 0.0469 - accuracy: 0.9634 - val_loss: 0.0935 - val_accuracy: 0.9556\n",
      "Epoch 2/5\n",
      "315/315 [==============================] - 28s 89ms/step - loss: 0.0459 - accuracy: 0.9730 - val_loss: 0.1065 - val_accuracy: 0.9397\n",
      "Epoch 3/5\n",
      "315/315 [==============================] - 28s 88ms/step - loss: 0.0452 - accuracy: 0.9690 - val_loss: 0.0984 - val_accuracy: 0.9556\n",
      "Epoch 4/5\n",
      "315/315 [==============================] - 28s 88ms/step - loss: 0.0432 - accuracy: 0.9698 - val_loss: 0.1626 - val_accuracy: 0.9175\n",
      "Epoch 5/5\n",
      "315/315 [==============================] - 28s 89ms/step - loss: 0.1221 - accuracy: 0.9412 - val_loss: 0.2573 - val_accuracy: 0.8889\n"
     ]
    }
   ],
   "source": [
    "history26 = model.fit(train, epochs=5, validation_data=val, verbose=1)"
   ]
  },
  {
   "cell_type": "code",
   "execution_count": 83,
   "metadata": {
    "execution": {
     "iopub.execute_input": "2023-11-12T09:35:09.033695Z",
     "iopub.status.busy": "2023-11-12T09:35:09.033315Z",
     "iopub.status.idle": "2023-11-12T09:37:28.540748Z",
     "shell.execute_reply": "2023-11-12T09:37:28.539697Z",
     "shell.execute_reply.started": "2023-11-12T09:35:09.033667Z"
    },
    "trusted": true
   },
   "outputs": [
    {
     "name": "stdout",
     "output_type": "stream",
     "text": [
      "Epoch 1/5\n",
      "315/315 [==============================] - 28s 88ms/step - loss: 0.1206 - accuracy: 0.9523 - val_loss: 0.1234 - val_accuracy: 0.9460\n",
      "Epoch 2/5\n",
      "315/315 [==============================] - 28s 88ms/step - loss: 0.0597 - accuracy: 0.9666 - val_loss: 0.0985 - val_accuracy: 0.9397\n",
      "Epoch 3/5\n",
      "315/315 [==============================] - 28s 88ms/step - loss: 0.0810 - accuracy: 0.9666 - val_loss: 0.1052 - val_accuracy: 0.9397\n",
      "Epoch 4/5\n",
      "315/315 [==============================] - 28s 89ms/step - loss: 0.0641 - accuracy: 0.9722 - val_loss: 0.0986 - val_accuracy: 0.9524\n",
      "Epoch 5/5\n",
      "315/315 [==============================] - 28s 88ms/step - loss: 0.0531 - accuracy: 0.9722 - val_loss: 0.0944 - val_accuracy: 0.9619\n"
     ]
    }
   ],
   "source": [
    "history27 = model.fit(train, epochs=5, validation_data=val, verbose=1)"
   ]
  },
  {
   "cell_type": "code",
   "execution_count": 84,
   "metadata": {
    "execution": {
     "iopub.execute_input": "2023-11-12T09:37:45.908340Z",
     "iopub.status.busy": "2023-11-12T09:37:45.907953Z",
     "iopub.status.idle": "2023-11-12T09:37:51.980753Z",
     "shell.execute_reply": "2023-11-12T09:37:51.979833Z",
     "shell.execute_reply.started": "2023-11-12T09:37:45.908307Z"
    },
    "trusted": true
   },
   "outputs": [
    {
     "name": "stdout",
     "output_type": "stream",
     "text": [
      "118/118 [==============================] - 6s 50ms/step - loss: 0.0827 - accuracy: 0.9619\n"
     ]
    },
    {
     "data": {
      "text/plain": [
       "[0.08271372318267822, 0.9618644118309021]"
      ]
     },
     "execution_count": 84,
     "metadata": {},
     "output_type": "execute_result"
    }
   ],
   "source": [
    "model.evaluate(test, verbose=1)"
   ]
  },
  {
   "cell_type": "code",
   "execution_count": 88,
   "metadata": {
    "execution": {
     "iopub.execute_input": "2023-11-12T09:39:11.229493Z",
     "iopub.status.busy": "2023-11-12T09:39:11.228622Z",
     "iopub.status.idle": "2023-11-12T09:41:30.917154Z",
     "shell.execute_reply": "2023-11-12T09:41:30.916102Z",
     "shell.execute_reply.started": "2023-11-12T09:39:11.229457Z"
    },
    "trusted": true
   },
   "outputs": [
    {
     "name": "stdout",
     "output_type": "stream",
     "text": [
      "Epoch 1/5\n",
      "315/315 [==============================] - 28s 89ms/step - loss: 0.0510 - accuracy: 0.9658 - val_loss: 0.0781 - val_accuracy: 0.9746\n",
      "Epoch 2/5\n",
      "315/315 [==============================] - 28s 88ms/step - loss: 0.0504 - accuracy: 0.9714 - val_loss: 0.1229 - val_accuracy: 0.9333\n",
      "Epoch 3/5\n",
      "315/315 [==============================] - 28s 88ms/step - loss: 0.0474 - accuracy: 0.9730 - val_loss: 0.0916 - val_accuracy: 0.9429\n",
      "Epoch 4/5\n",
      "315/315 [==============================] - 28s 88ms/step - loss: 0.0486 - accuracy: 0.9754 - val_loss: 0.0816 - val_accuracy: 0.9651\n",
      "Epoch 5/5\n",
      "315/315 [==============================] - 28s 88ms/step - loss: 0.0459 - accuracy: 0.9706 - val_loss: 0.0826 - val_accuracy: 0.9429\n"
     ]
    }
   ],
   "source": [
    "history28 = model.fit(train, epochs=5, validation_data=val, verbose=1)"
   ]
  },
  {
   "cell_type": "code",
   "execution_count": 89,
   "metadata": {
    "execution": {
     "iopub.execute_input": "2023-11-12T09:41:33.900905Z",
     "iopub.status.busy": "2023-11-12T09:41:33.900534Z",
     "iopub.status.idle": "2023-11-12T09:41:39.758256Z",
     "shell.execute_reply": "2023-11-12T09:41:39.757345Z",
     "shell.execute_reply.started": "2023-11-12T09:41:33.900875Z"
    },
    "trusted": true
   },
   "outputs": [
    {
     "name": "stdout",
     "output_type": "stream",
     "text": [
      "118/118 [==============================] - 6s 48ms/step - loss: 0.0693 - accuracy: 0.9513\n"
     ]
    },
    {
     "data": {
      "text/plain": [
       "[0.06932738423347473, 0.9512711763381958]"
      ]
     },
     "execution_count": 89,
     "metadata": {},
     "output_type": "execute_result"
    }
   ],
   "source": [
    "model.evaluate(test, verbose=1)"
   ]
  },
  {
   "cell_type": "code",
   "execution_count": 90,
   "metadata": {
    "execution": {
     "iopub.execute_input": "2023-11-12T09:41:46.768853Z",
     "iopub.status.busy": "2023-11-12T09:41:46.768119Z",
     "iopub.status.idle": "2023-11-12T09:44:06.337138Z",
     "shell.execute_reply": "2023-11-12T09:44:06.336338Z",
     "shell.execute_reply.started": "2023-11-12T09:41:46.768819Z"
    },
    "trusted": true
   },
   "outputs": [
    {
     "name": "stdout",
     "output_type": "stream",
     "text": [
      "Epoch 1/5\n",
      "315/315 [==============================] - 28s 89ms/step - loss: 0.0463 - accuracy: 0.9690 - val_loss: 0.0744 - val_accuracy: 0.9746\n",
      "Epoch 2/5\n",
      "315/315 [==============================] - 28s 88ms/step - loss: 0.0445 - accuracy: 0.9738 - val_loss: 0.0931 - val_accuracy: 0.9460\n",
      "Epoch 3/5\n",
      "315/315 [==============================] - 28s 88ms/step - loss: 0.0443 - accuracy: 0.9714 - val_loss: 0.0893 - val_accuracy: 0.9524\n",
      "Epoch 4/5\n",
      "315/315 [==============================] - 28s 88ms/step - loss: 0.0428 - accuracy: 0.9754 - val_loss: 0.0721 - val_accuracy: 0.9778\n",
      "Epoch 5/5\n",
      "315/315 [==============================] - 28s 89ms/step - loss: 0.0429 - accuracy: 0.9762 - val_loss: 0.0767 - val_accuracy: 0.9714\n"
     ]
    }
   ],
   "source": [
    "history29 = model.fit(train, epochs=5, validation_data=val, verbose=1)"
   ]
  },
  {
   "cell_type": "code",
   "execution_count": 91,
   "metadata": {
    "execution": {
     "iopub.execute_input": "2023-11-12T09:44:12.829587Z",
     "iopub.status.busy": "2023-11-12T09:44:12.829205Z",
     "iopub.status.idle": "2023-11-12T09:44:18.837559Z",
     "shell.execute_reply": "2023-11-12T09:44:18.836355Z",
     "shell.execute_reply.started": "2023-11-12T09:44:12.829557Z"
    },
    "trusted": true
   },
   "outputs": [
    {
     "name": "stdout",
     "output_type": "stream",
     "text": [
      "118/118 [==============================] - 6s 49ms/step - loss: 0.0660 - accuracy: 0.9682\n"
     ]
    },
    {
     "data": {
      "text/plain": [
       "[0.06601317226886749, 0.9682203531265259]"
      ]
     },
     "execution_count": 91,
     "metadata": {},
     "output_type": "execute_result"
    }
   ],
   "source": [
    "model.evaluate(test, verbose=1)"
   ]
  },
  {
   "cell_type": "code",
   "execution_count": 92,
   "metadata": {
    "execution": {
     "iopub.execute_input": "2023-11-12T09:44:32.933470Z",
     "iopub.status.busy": "2023-11-12T09:44:32.933035Z",
     "iopub.status.idle": "2023-11-12T09:44:33.934197Z",
     "shell.execute_reply": "2023-11-12T09:44:33.933346Z",
     "shell.execute_reply.started": "2023-11-12T09:44:32.933435Z"
    },
    "trusted": true
   },
   "outputs": [],
   "source": [
    "model.save(\"osteoporosisEEEEEEEEEEEEEEbinary-9682-00660.h5\")"
   ]
  },
  {
   "cell_type": "code",
   "execution_count": 96,
   "metadata": {
    "execution": {
     "iopub.execute_input": "2023-11-12T09:45:22.458578Z",
     "iopub.status.busy": "2023-11-12T09:45:22.457770Z",
     "iopub.status.idle": "2023-11-12T09:47:41.737333Z",
     "shell.execute_reply": "2023-11-12T09:47:41.736423Z",
     "shell.execute_reply.started": "2023-11-12T09:45:22.458539Z"
    },
    "trusted": true
   },
   "outputs": [
    {
     "name": "stdout",
     "output_type": "stream",
     "text": [
      "Epoch 1/5\n",
      "315/315 [==============================] - 28s 88ms/step - loss: 0.0437 - accuracy: 0.9698 - val_loss: 0.0927 - val_accuracy: 0.9333\n",
      "Epoch 2/5\n",
      "315/315 [==============================] - 28s 88ms/step - loss: 0.0449 - accuracy: 0.9714 - val_loss: 0.0789 - val_accuracy: 0.9683\n",
      "Epoch 3/5\n",
      "315/315 [==============================] - 28s 88ms/step - loss: 0.0423 - accuracy: 0.9730 - val_loss: 0.0854 - val_accuracy: 0.9587\n",
      "Epoch 4/5\n",
      "315/315 [==============================] - 28s 88ms/step - loss: 0.0437 - accuracy: 0.9690 - val_loss: 0.0829 - val_accuracy: 0.9587\n",
      "Epoch 5/5\n",
      "315/315 [==============================] - 28s 88ms/step - loss: 0.0433 - accuracy: 0.9746 - val_loss: 0.0817 - val_accuracy: 0.9683\n"
     ]
    }
   ],
   "source": [
    "history30 = model.fit(train, epochs=5, validation_data=val, verbose=1)"
   ]
  },
  {
   "cell_type": "code",
   "execution_count": 97,
   "metadata": {
    "execution": {
     "iopub.execute_input": "2023-11-12T09:48:06.744535Z",
     "iopub.status.busy": "2023-11-12T09:48:06.744135Z",
     "iopub.status.idle": "2023-11-12T09:48:12.768085Z",
     "shell.execute_reply": "2023-11-12T09:48:12.767286Z",
     "shell.execute_reply.started": "2023-11-12T09:48:06.744502Z"
    },
    "trusted": true
   },
   "outputs": [
    {
     "name": "stdout",
     "output_type": "stream",
     "text": [
      "118/118 [==============================] - 6s 49ms/step - loss: 0.0692 - accuracy: 0.9661\n"
     ]
    },
    {
     "data": {
      "text/plain": [
       "[0.06915396451950073, 0.9661017060279846]"
      ]
     },
     "execution_count": 97,
     "metadata": {},
     "output_type": "execute_result"
    }
   ],
   "source": [
    "model.evaluate(test, verbose=1)"
   ]
  },
  {
   "cell_type": "code",
   "execution_count": 98,
   "metadata": {
    "execution": {
     "iopub.execute_input": "2023-11-12T09:48:17.095210Z",
     "iopub.status.busy": "2023-11-12T09:48:17.094842Z",
     "iopub.status.idle": "2023-11-12T09:50:36.960070Z",
     "shell.execute_reply": "2023-11-12T09:50:36.959096Z",
     "shell.execute_reply.started": "2023-11-12T09:48:17.095179Z"
    },
    "trusted": true
   },
   "outputs": [
    {
     "name": "stdout",
     "output_type": "stream",
     "text": [
      "Epoch 1/5\n",
      "315/315 [==============================] - 28s 89ms/step - loss: 0.0429 - accuracy: 0.9738 - val_loss: 0.0784 - val_accuracy: 0.9714\n",
      "Epoch 2/5\n",
      "315/315 [==============================] - 28s 89ms/step - loss: 0.0434 - accuracy: 0.9722 - val_loss: 0.0879 - val_accuracy: 0.9492\n",
      "Epoch 3/5\n",
      "315/315 [==============================] - 28s 88ms/step - loss: 0.0449 - accuracy: 0.9698 - val_loss: 0.0806 - val_accuracy: 0.9778\n",
      "Epoch 4/5\n",
      "315/315 [==============================] - 28s 89ms/step - loss: 0.0438 - accuracy: 0.9706 - val_loss: 0.0851 - val_accuracy: 0.9619\n",
      "Epoch 5/5\n",
      "315/315 [==============================] - 28s 89ms/step - loss: 0.0429 - accuracy: 0.9746 - val_loss: 0.0874 - val_accuracy: 0.9524\n"
     ]
    }
   ],
   "source": [
    "history31 = model.fit(train, epochs=5, validation_data=val, verbose=1)"
   ]
  },
  {
   "cell_type": "code",
   "execution_count": 99,
   "metadata": {
    "execution": {
     "iopub.execute_input": "2023-11-12T09:50:47.279911Z",
     "iopub.status.busy": "2023-11-12T09:50:47.279547Z",
     "iopub.status.idle": "2023-11-12T09:50:53.265028Z",
     "shell.execute_reply": "2023-11-12T09:50:53.264121Z",
     "shell.execute_reply.started": "2023-11-12T09:50:47.279879Z"
    },
    "trusted": true
   },
   "outputs": [
    {
     "name": "stdout",
     "output_type": "stream",
     "text": [
      "118/118 [==============================] - 6s 49ms/step - loss: 0.0726 - accuracy: 0.9576\n"
     ]
    },
    {
     "data": {
      "text/plain": [
       "[0.07255074381828308, 0.9576271176338196]"
      ]
     },
     "execution_count": 99,
     "metadata": {},
     "output_type": "execute_result"
    }
   ],
   "source": [
    "model.evaluate(test, verbose=1)"
   ]
  },
  {
   "cell_type": "code",
   "execution_count": 100,
   "metadata": {
    "execution": {
     "iopub.execute_input": "2023-11-12T09:50:56.715443Z",
     "iopub.status.busy": "2023-11-12T09:50:56.715056Z",
     "iopub.status.idle": "2023-11-12T09:53:16.211547Z",
     "shell.execute_reply": "2023-11-12T09:53:16.210625Z",
     "shell.execute_reply.started": "2023-11-12T09:50:56.715412Z"
    },
    "trusted": true
   },
   "outputs": [
    {
     "name": "stdout",
     "output_type": "stream",
     "text": [
      "Epoch 1/5\n",
      "315/315 [==============================] - 28s 88ms/step - loss: 0.0427 - accuracy: 0.9722 - val_loss: 0.0837 - val_accuracy: 0.9651\n",
      "Epoch 2/5\n",
      "315/315 [==============================] - 28s 88ms/step - loss: 0.0432 - accuracy: 0.9714 - val_loss: 0.0871 - val_accuracy: 0.9556\n",
      "Epoch 3/5\n",
      "315/315 [==============================] - 28s 88ms/step - loss: 0.0429 - accuracy: 0.9754 - val_loss: 0.0907 - val_accuracy: 0.9524\n",
      "Epoch 4/5\n",
      "315/315 [==============================] - 28s 88ms/step - loss: 0.0418 - accuracy: 0.9754 - val_loss: 0.0833 - val_accuracy: 0.9587\n",
      "Epoch 5/5\n",
      "315/315 [==============================] - 28s 89ms/step - loss: 0.0429 - accuracy: 0.9746 - val_loss: 0.0882 - val_accuracy: 0.9524\n"
     ]
    }
   ],
   "source": [
    "history32 = model.fit(train, epochs=5, validation_data=val, verbose=1)"
   ]
  },
  {
   "cell_type": "code",
   "execution_count": 101,
   "metadata": {
    "execution": {
     "iopub.execute_input": "2023-11-12T09:53:19.644089Z",
     "iopub.status.busy": "2023-11-12T09:53:19.643730Z",
     "iopub.status.idle": "2023-11-12T09:55:39.370129Z",
     "shell.execute_reply": "2023-11-12T09:55:39.369334Z",
     "shell.execute_reply.started": "2023-11-12T09:53:19.644057Z"
    },
    "trusted": true
   },
   "outputs": [
    {
     "name": "stdout",
     "output_type": "stream",
     "text": [
      "Epoch 1/5\n",
      "315/315 [==============================] - 28s 89ms/step - loss: 0.0423 - accuracy: 0.9738 - val_loss: 0.0773 - val_accuracy: 0.9810\n",
      "Epoch 2/5\n",
      "315/315 [==============================] - 28s 88ms/step - loss: 0.0425 - accuracy: 0.9722 - val_loss: 0.0928 - val_accuracy: 0.9460\n",
      "Epoch 3/5\n",
      "315/315 [==============================] - 28s 89ms/step - loss: 0.0426 - accuracy: 0.9762 - val_loss: 0.0853 - val_accuracy: 0.9460\n",
      "Epoch 4/5\n",
      "315/315 [==============================] - 28s 89ms/step - loss: 0.0435 - accuracy: 0.9738 - val_loss: 0.0836 - val_accuracy: 0.9746\n",
      "Epoch 5/5\n",
      "315/315 [==============================] - 28s 88ms/step - loss: 0.0417 - accuracy: 0.9762 - val_loss: 0.0800 - val_accuracy: 0.9810\n"
     ]
    }
   ],
   "source": [
    "history33 = model.fit(train, epochs=5, validation_data=val, verbose=1)"
   ]
  },
  {
   "cell_type": "code",
   "execution_count": 102,
   "metadata": {
    "execution": {
     "iopub.execute_input": "2023-11-12T09:55:42.919033Z",
     "iopub.status.busy": "2023-11-12T09:55:42.917921Z",
     "iopub.status.idle": "2023-11-12T09:55:48.756955Z",
     "shell.execute_reply": "2023-11-12T09:55:48.756030Z",
     "shell.execute_reply.started": "2023-11-12T09:55:42.918995Z"
    },
    "trusted": true
   },
   "outputs": [
    {
     "name": "stdout",
     "output_type": "stream",
     "text": [
      "118/118 [==============================] - 6s 48ms/step - loss: 0.0681 - accuracy: 0.9746\n"
     ]
    },
    {
     "data": {
      "text/plain": [
       "[0.06810364127159119, 0.9745762944221497]"
      ]
     },
     "execution_count": 102,
     "metadata": {},
     "output_type": "execute_result"
    }
   ],
   "source": [
    "model.evaluate(test, verbose=1)"
   ]
  },
  {
   "cell_type": "code",
   "execution_count": 103,
   "metadata": {
    "execution": {
     "iopub.execute_input": "2023-11-12T09:56:39.394651Z",
     "iopub.status.busy": "2023-11-12T09:56:39.394213Z",
     "iopub.status.idle": "2023-11-12T09:56:40.376752Z",
     "shell.execute_reply": "2023-11-12T09:56:40.375763Z",
     "shell.execute_reply.started": "2023-11-12T09:56:39.394619Z"
    },
    "trusted": true
   },
   "outputs": [],
   "source": [
    "model.save(\"osteoporosisEEEEEEEEEEEEEEbinary-9745-00681.h5\")"
   ]
  },
  {
   "cell_type": "code",
   "execution_count": 104,
   "metadata": {
    "execution": {
     "iopub.execute_input": "2023-11-12T09:57:15.426808Z",
     "iopub.status.busy": "2023-11-12T09:57:15.425983Z",
     "iopub.status.idle": "2023-11-12T09:57:21.286831Z",
     "shell.execute_reply": "2023-11-12T09:57:21.285855Z",
     "shell.execute_reply.started": "2023-11-12T09:57:15.426773Z"
    },
    "trusted": true
   },
   "outputs": [
    {
     "name": "stdout",
     "output_type": "stream",
     "text": [
      "118/118 [==============================] - 6s 48ms/step\n"
     ]
    }
   ],
   "source": [
    "pred = model.predict(test)\n",
    "pred = np.argmax(pred, axis=1) #pick class with highest  probability\n",
    "\n",
    "labels = (train.class_indices)\n",
    "labels = dict((v,k) for k,v in labels.items())\n",
    "pred2 = [labels[k] for k in pred]"
   ]
  },
  {
   "cell_type": "code",
   "execution_count": 105,
   "metadata": {
    "execution": {
     "iopub.execute_input": "2023-11-12T09:57:23.138538Z",
     "iopub.status.busy": "2023-11-12T09:57:23.137669Z",
     "iopub.status.idle": "2023-11-12T09:57:23.171374Z",
     "shell.execute_reply": "2023-11-12T09:57:23.170184Z",
     "shell.execute_reply.started": "2023-11-12T09:57:23.138501Z"
    },
    "trusted": true
   },
   "outputs": [
    {
     "name": "stdout",
     "output_type": "stream",
     "text": [
      "              precision    recall  f1-score   support\n",
      "\n",
      "     Healthy       0.95      1.00      0.97       231\n",
      "Osteoporosis       1.00      0.95      0.97       241\n",
      "\n",
      "    accuracy                           0.97       472\n",
      "   macro avg       0.98      0.98      0.97       472\n",
      "weighted avg       0.98      0.97      0.97       472\n",
      "\n",
      "Accuracy of the Model: 97.5%\n"
     ]
    }
   ],
   "source": [
    "from sklearn.metrics import confusion_matrix, accuracy_score\n",
    "\n",
    "y_test = test_images.labels # set y_test to the expected output\n",
    "print(classification_report(y_test, pred2))\n",
    "print(\"Accuracy of the Model:\",\"{:.1f}%\".format(accuracy_score(y_test, pred2)*100))"
   ]
  },
  {
   "cell_type": "code",
   "execution_count": 108,
   "metadata": {
    "execution": {
     "iopub.execute_input": "2023-11-12T10:03:50.791564Z",
     "iopub.status.busy": "2023-11-12T10:03:50.791181Z",
     "iopub.status.idle": "2023-11-12T10:03:51.095152Z",
     "shell.execute_reply": "2023-11-12T10:03:51.094268Z",
     "shell.execute_reply.started": "2023-11-12T10:03:50.791534Z"
    },
    "trusted": true
   },
   "outputs": [
    {
     "data": {
      "image/png": "[encoded data removed]",
      "text/plain": [
       "<Figure size 640x480 with 1 Axes>"
      ]
     },
     "metadata": {},
     "output_type": "display_data"
    }
   ],
   "source": [
    "plt.plot(history.history[\"accuracy\"] +\n",
    "history1.history[\"accuracy\"] +\n",
    "history2.history[\"accuracy\"] +\n",
    "history3.history[\"accuracy\"] +\n",
    "history4.history[\"accuracy\"] +\n",
    "history5.history[\"accuracy\"] +\n",
    "history6.history[\"accuracy\"] +\n",
    "history7.history[\"accuracy\"] +\n",
    "history8.history[\"accuracy\"] +\n",
    "history9.history[\"accuracy\"] +\n",
    "history10.history[\"accuracy\"] +\n",
    "history11.history[\"accuracy\"] +\n",
    "history12.history[\"accuracy\"] +\n",
    "history13.history[\"accuracy\"] +\n",
    "history14.history[\"accuracy\"] +\n",
    "history15.history[\"accuracy\"] +\n",
    "history16.history[\"accuracy\"] +\n",
    "history17.history[\"accuracy\"] +\n",
    "history18.history[\"accuracy\"] +\n",
    "history19.history[\"accuracy\"] +\n",
    "history20.history[\"accuracy\"] +\n",
    "history21.history[\"accuracy\"] +\n",
    "history22.history[\"accuracy\"] +\n",
    "history23.history[\"accuracy\"] +\n",
    "history24.history[\"accuracy\"] +\n",
    "history25.history[\"accuracy\"] +\n",
    "history26.history[\"accuracy\"] +\n",
    "history27.history[\"accuracy\"] +\n",
    "history28.history[\"accuracy\"] +\n",
    "history29.history[\"accuracy\"] +\n",
    "history30.history[\"accuracy\"] +\n",
    "history31.history[\"accuracy\"] +\n",
    "history32.history[\"accuracy\"])\n",
    "\n",
    "\n",
    "\n",
    "plt.plot(history.history[\"val_accuracy\"] +\n",
    "history1.history[\"val_accuracy\"] +\n",
    "history2.history[\"val_accuracy\"] +\n",
    "history3.history[\"val_accuracy\"] +\n",
    "history4.history[\"val_accuracy\"] +\n",
    "history5.history[\"val_accuracy\"] +\n",
    "history6.history[\"val_accuracy\"] +\n",
    "history7.history[\"val_accuracy\"] +\n",
    "history8.history[\"val_accuracy\"] +\n",
    "history9.history[\"val_accuracy\"] +\n",
    "history10.history[\"val_accuracy\"] +\n",
    "history11.history[\"val_accuracy\"] +\n",
    "history12.history[\"val_accuracy\"] +\n",
    "history13.history[\"val_accuracy\"] +\n",
    "history14.history[\"val_accuracy\"] +\n",
    "history15.history[\"val_accuracy\"] +\n",
    "history16.history[\"val_accuracy\"] +\n",
    "history17.history[\"val_accuracy\"] +\n",
    "history18.history[\"val_accuracy\"] +\n",
    "history19.history[\"val_accuracy\"] +\n",
    "history20.history[\"val_accuracy\"] +\n",
    "history21.history[\"val_accuracy\"] +\n",
    "history22.history[\"val_accuracy\"] +\n",
    "history23.history[\"val_accuracy\"] +\n",
    "history24.history[\"val_accuracy\"] +\n",
    "history25.history[\"val_accuracy\"] +\n",
    "history26.history[\"val_accuracy\"] +\n",
    "history27.history[\"val_accuracy\"] +\n",
    "history28.history[\"val_accuracy\"] +\n",
    "history29.history[\"val_accuracy\"] +\n",
    "history30.history[\"val_accuracy\"] +\n",
    "history31.history[\"val_accuracy\"] +\n",
    "history32.history[\"val_accuracy\"])\n",
    "plt.title('model accuracy')\n",
    "plt.ylabel('accuracy')\n",
    "plt.xlabel('epoch')\n",
    "plt.legend(['train', 'val'], loc='upper left')\n",
    "plt.show()"
   ]
  },
  {
   "cell_type": "code",
   "execution_count": 109,
   "metadata": {
    "execution": {
     "iopub.execute_input": "2023-11-12T10:04:57.329714Z",
     "iopub.status.busy": "2023-11-12T10:04:57.329337Z",
     "iopub.status.idle": "2023-11-12T10:04:57.584463Z",
     "shell.execute_reply": "2023-11-12T10:04:57.583552Z",
     "shell.execute_reply.started": "2023-11-12T10:04:57.329685Z"
    },
    "trusted": true
   },
   "outputs": [
    {
     "data": {
      "image/png": "[encoded data removed]",
      "text/plain": [
       "<Figure size 640x480 with 1 Axes>"
      ]
     },
     "metadata": {},
     "output_type": "display_data"
    }
   ],
   "source": [
    "plt.plot(history.history[\"loss\"] +\n",
    "history1.history[\"loss\"] +\n",
    "history2.history[\"loss\"] +\n",
    "history3.history[\"loss\"] +\n",
    "history4.history[\"loss\"] +\n",
    "history5.history[\"loss\"] +\n",
    "history6.history[\"loss\"] +\n",
    "history7.history[\"loss\"] +\n",
    "history8.history[\"loss\"] +\n",
    "history9.history[\"loss\"] +\n",
    "history10.history[\"loss\"] +\n",
    "history11.history[\"loss\"] +\n",
    "history12.history[\"loss\"] +\n",
    "history13.history[\"loss\"] +\n",
    "history14.history[\"loss\"] +\n",
    "history15.history[\"loss\"] +\n",
    "history16.history[\"loss\"] +\n",
    "history17.history[\"loss\"] +\n",
    "history18.history[\"loss\"] +\n",
    "history19.history[\"loss\"] +\n",
    "history20.history[\"loss\"] +\n",
    "history21.history[\"loss\"] +\n",
    "history22.history[\"loss\"] +\n",
    "history23.history[\"loss\"] +\n",
    "history24.history[\"loss\"] +\n",
    "history25.history[\"loss\"] +\n",
    "history26.history[\"loss\"] +\n",
    "history27.history[\"loss\"] +\n",
    "history28.history[\"loss\"] +\n",
    "history29.history[\"loss\"] +\n",
    "history30.history[\"loss\"] +\n",
    "history31.history[\"loss\"] +\n",
    "history32.history[\"loss\"])\n",
    "\n",
    "\n",
    "plt.plot(history.history[\"val_loss\"] +\n",
    "history1.history[\"val_loss\"] +\n",
    "history2.history[\"val_loss\"] +\n",
    "history3.history[\"val_loss\"] +\n",
    "history4.history[\"val_loss\"] +\n",
    "history5.history[\"val_loss\"] +\n",
    "history6.history[\"val_loss\"] +\n",
    "history7.history[\"val_loss\"] +\n",
    "history8.history[\"val_loss\"] +\n",
    "history9.history[\"val_loss\"] +\n",
    "history10.history[\"val_loss\"] +\n",
    "history11.history[\"val_loss\"] +\n",
    "history12.history[\"val_loss\"] +\n",
    "history13.history[\"val_loss\"] +\n",
    "history14.history[\"val_loss\"] +\n",
    "history15.history[\"val_loss\"] +\n",
    "history16.history[\"val_loss\"] +\n",
    "history17.history[\"val_loss\"] +\n",
    "history18.history[\"val_loss\"] +\n",
    "history19.history[\"val_loss\"] +\n",
    "history20.history[\"val_loss\"] +\n",
    "history21.history[\"val_loss\"] +\n",
    "history22.history[\"val_loss\"] +\n",
    "history23.history[\"val_loss\"] +\n",
    "history24.history[\"val_loss\"] +\n",
    "history25.history[\"val_loss\"] +\n",
    "history26.history[\"val_loss\"] +\n",
    "history27.history[\"val_loss\"] +\n",
    "history28.history[\"val_loss\"] +\n",
    "history29.history[\"val_loss\"] +\n",
    "history30.history[\"val_loss\"] +\n",
    "history31.history[\"val_loss\"] +\n",
    "history32.history[\"val_loss\"])\n",
    "\n",
    "\n",
    "plt.title('model loss')\n",
    "plt.ylabel('loss')\n",
    "plt.xlabel('epoch')\n",
    "plt.legend(['train', 'val'], loc='upper left')\n",
    "plt.show()"
   ]
  },
  {
   "cell_type": "code",
   "execution_count": 106,
   "metadata": {
    "execution": {
     "iopub.execute_input": "2023-11-12T09:57:31.089698Z",
     "iopub.status.busy": "2023-11-12T09:57:31.088983Z",
     "iopub.status.idle": "2023-11-12T09:57:31.295639Z",
     "shell.execute_reply": "2023-11-12T09:57:31.294725Z",
     "shell.execute_reply.started": "2023-11-12T09:57:31.089662Z"
    },
    "trusted": true
   },
   "outputs": [
    {
     "data": {
      "image/png": "[encoded data removed]",
      "text/plain": [
       "<Figure size 1000x500 with 2 Axes>"
      ]
     },
     "metadata": {},
     "output_type": "display_data"
    }
   ],
   "source": [
    "import matplotlib.pyplot as plt\n",
    "import seaborn as sns\n",
    "from sklearn.metrics import confusion_matrix\n",
    "\n",
    "# Define the class labels\n",
    "class_labels = ['Healthy','Osteoporosis']\n",
    "\n",
    "# Calculate the confusion matrix\n",
    "cm = confusion_matrix(y_test, pred2)\n",
    "\n",
    "# Create a figure and plot the confusion matrix as a heatmap\n",
    "plt.figure(figsize=(10, 5))\n",
    "sns.heatmap(cm, annot=True, fmt='g', vmin=0, cmap='Blues')\n",
    "\n",
    "# Set tick labels and axis labels\n",
    "plt.xticks(ticks=[0.5, 1.5], labels=class_labels)\n",
    "plt.yticks(ticks=[0.5, 1.5], labels=class_labels)\n",
    "plt.xlabel(\"Predicted\")\n",
    "plt.ylabel(\"Actual\")\n",
    "\n",
    "# Set the title\n",
    "plt.title(\"Confusion Matrix\")\n",
    "\n",
    "# Show the plot\n",
    "plt.show()\n"
   ]
  },
  {
   "cell_type": "code",
   "execution_count": null,
   "metadata": {},
   "outputs": [],
   "source": []
  }
 ],
 "metadata": {
  "kernelspec": {
   "display_name": "tf_gpu",
   "language": "python",
   "name": "python3"
  },
  "language_info": {
   "codemirror_mode": {
    "name": "ipython",
    "version": 3
   },
   "file_extension": ".py",
   "mimetype": "text/x-python",
   "name": "python",
   "nbconvert_exporter": "python",
   "pygments_lexer": "ipython3",
   "version": "3.7.16"
  }
 },
 "nbformat": 4,
 "nbformat_minor": 4
}
