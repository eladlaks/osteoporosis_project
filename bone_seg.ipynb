{
 "cells": [
  {
   "cell_type": "code",
   "execution_count": 5,
   "metadata": {},
   "outputs": [
    {
     "ename": "KeyboardInterrupt",
     "evalue": "",
     "output_type": "error",
     "traceback": [
      "\u001b[1;31m---------------------------------------------------------------------------\u001b[0m",
      "\u001b[1;31mKeyboardInterrupt\u001b[0m                         Traceback (most recent call last)",
      "Cell \u001b[1;32mIn[5], line 46\u001b[0m\n\u001b[0;32m     44\u001b[0m     \u001b[38;5;28;01mif\u001b[39;00m filename\u001b[38;5;241m.\u001b[39mendswith((\u001b[38;5;124m'\u001b[39m\u001b[38;5;124m.jpg\u001b[39m\u001b[38;5;124m'\u001b[39m, \u001b[38;5;124m'\u001b[39m\u001b[38;5;124m.png\u001b[39m\u001b[38;5;124m'\u001b[39m, \u001b[38;5;124m'\u001b[39m\u001b[38;5;124m.jpeg\u001b[39m\u001b[38;5;124m'\u001b[39m)):  \u001b[38;5;66;03m# Process only image files\u001b[39;00m\n\u001b[0;32m     45\u001b[0m         image_path \u001b[38;5;241m=\u001b[39m os\u001b[38;5;241m.\u001b[39mpath\u001b[38;5;241m.\u001b[39mjoin(folder_path, filename)\n\u001b[1;32m---> 46\u001b[0m         \u001b[43mprocess_image\u001b[49m\u001b[43m(\u001b[49m\u001b[43mimage_path\u001b[49m\u001b[43m)\u001b[49m\n\u001b[0;32m     48\u001b[0m cv2\u001b[38;5;241m.\u001b[39mdestroyAllWindows()\n",
      "Cell \u001b[1;32mIn[5], line 39\u001b[0m, in \u001b[0;36mprocess_image\u001b[1;34m(image_path)\u001b[0m\n\u001b[0;32m     37\u001b[0m \u001b[38;5;66;03m# Step 8: Visualize the result in a smaller window\u001b[39;00m\n\u001b[0;32m     38\u001b[0m cv2\u001b[38;5;241m.\u001b[39mimshow(\u001b[38;5;124mf\u001b[39m\u001b[38;5;124m'\u001b[39m\u001b[38;5;124mProcessed \u001b[39m\u001b[38;5;132;01m{\u001b[39;00mos\u001b[38;5;241m.\u001b[39mpath\u001b[38;5;241m.\u001b[39mbasename(image_path)\u001b[38;5;132;01m}\u001b[39;00m\u001b[38;5;124m'\u001b[39m, resized_image)\n\u001b[1;32m---> 39\u001b[0m \u001b[43mcv2\u001b[49m\u001b[38;5;241;43m.\u001b[39;49m\u001b[43mwaitKey\u001b[49m\u001b[43m(\u001b[49m\u001b[38;5;241;43m0\u001b[39;49m\u001b[43m)\u001b[49m\n",
      "\u001b[1;31mKeyboardInterrupt\u001b[0m: "
     ]
    }
   ],
   "source": [
    "import cv2\n",
    "import numpy as np\n",
    "import os\n",
    "\n",
    "# Function to process each image\n",
    "def process_image(image_path):\n",
    "    # Step 1: Read and preprocess the image\n",
    "    image = cv2.imread(image_path, cv2.IMREAD_GRAYSCALE)\n",
    "    _, binary = cv2.threshold(image, 150, 255, cv2.THRESH_BINARY)\n",
    "\n",
    "    # Step 2: Find connected components\n",
    "    num_labels, labels, stats, centroids = cv2.connectedComponentsWithStats(binary,connectivity=4)\n",
    "\n",
    "    # Step 3: Sort components by area (ignore background, which is stats[0])\n",
    "    areas = stats[1:, cv2.CC_STAT_AREA]  # Exclude background\n",
    "    sorted_indices = np.argsort(-areas)  # Sort in descending order\n",
    "\n",
    "    # Step 4: Get indices of the two largest components\n",
    "    largest_index = sorted_indices[0] + 1  # +1 to account for exclusion of background\n",
    "    second_largest_index = sorted_indices[1] + 1\n",
    "\n",
    "    # Create masks for the two largest components\n",
    "    largest_component = (labels == largest_index).astype(np.uint8) * 255\n",
    "    second_largest_component = (labels == second_largest_index).astype(np.uint8) * 255\n",
    "\n",
    "    # Step 5: Combine both components into one image for visualization\n",
    "    combined_image = cv2.merge([largest_component, second_largest_component, np.zeros_like(largest_component)])\n",
    "    combined_image = cv2.cvtColor(combined_image, cv2.COLOR_BGR2RGB)\n",
    "\n",
    "    # Step 6: Concatenate the original and processed image side by side\n",
    "    original_image_colored = cv2.cvtColor(image, cv2.COLOR_GRAY2BGR)  # Convert original to color (BGR)\n",
    "    concatenated_image = np.hstack((original_image_colored, combined_image))  # Concatenate horizontally\n",
    "\n",
    "    # Step 7: Resize the image to a smaller size (e.g., 50% of the original size)\n",
    "    resized_image = cv2.resize(concatenated_image, (0, 0), fx=0.25, fy=0.25)\n",
    "\n",
    "    # Step 8: Visualize the result in a smaller window\n",
    "    cv2.imshow(f'Processed {os.path.basename(image_path)}', resized_image)\n",
    "    cv2.waitKey(0)\n",
    "\n",
    "# Step 9: Loop through all images in the folder\n",
    "folder_path = 'data/normal'  # Specify the folder path here\n",
    "for filename in os.listdir(folder_path):\n",
    "    if filename.endswith(('.jpg', '.png', '.jpeg')):  # Process only image files\n",
    "        image_path = os.path.join(folder_path, filename)\n",
    "        process_image(image_path)\n",
    "\n",
    "cv2.destroyAllWindows()\n"
   ]
  },
  {
   "cell_type": "code",
   "execution_count": null,
   "metadata": {},
   "outputs": [],
   "source": []
  }
 ],
 "metadata": {
  "kernelspec": {
   "display_name": "Python 3",
   "language": "python",
   "name": "python3"
  },
  "language_info": {
   "codemirror_mode": {
    "name": "ipython",
    "version": 3
   },
   "file_extension": ".py",
   "mimetype": "text/x-python",
   "name": "python",
   "nbconvert_exporter": "python",
   "pygments_lexer": "ipython3",
   "version": "3.10.7"
  }
 },
 "nbformat": 4,
 "nbformat_minor": 2
}
