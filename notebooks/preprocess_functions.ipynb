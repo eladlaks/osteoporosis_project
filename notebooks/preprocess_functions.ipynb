{
 "cells": [
  {
   "cell_type": "code",
   "execution_count": null,
   "metadata": {},
   "outputs": [],
   "source": []
  },
  {
   "cell_type": "markdown",
   "metadata": {},
   "source": [
    "## remove vertical/horizontal padding"
   ]
  },
  {
   "cell_type": "code",
   "execution_count": 2,
   "metadata": {},
   "outputs": [],
   "source": [
    "import cv2\n",
    "import numpy as np\n",
    "import os\n",
    "\n",
    "def detect_padding_color(image):\n",
    "    \"\"\"\n",
    "    Detects the dominant color of the padding from the borders of the image.\n",
    "\n",
    "    Args:\n",
    "        image (numpy.ndarray): The input image.\n",
    "\n",
    "    Returns:\n",
    "        tuple: The RGB color of the padding.\n",
    "    \"\"\"\n",
    "    # Take samples from the borders of the image\n",
    "    top = image[0, :, :]        # Top border\n",
    "    bottom = image[-1, :, :]    # Bottom border\n",
    "    left = image[:, 0, :]       # Left border\n",
    "    right = image[:, -1, :]     # Right border\n",
    "\n",
    "    # Combine all border pixels into one array\n",
    "    border_pixels = np.vstack((top, bottom, left, right))\n",
    "\n",
    "    # Calculate the most common color\n",
    "    unique_colors, counts = np.unique(border_pixels.reshape(-1, 3), axis=0, return_counts=True)\n",
    "    dominant_color = unique_colors[np.argmax(counts)]\n",
    "\n",
    "    return dominant_color\n",
    "\n",
    "\n",
    "def remove_padding(image_path, output_path):\n",
    "    \"\"\"\n",
    "    Removes padding of any color from an image.\n",
    "\n",
    "    Args:\n",
    "        image_path (str): Path to the input image.\n",
    "        output_path (str): Path to save the cropped image.\n",
    "    \"\"\"\n",
    "    # Load the image\n",
    "    image = cv2.imread(image_path)\n",
    "    if image is None:\n",
    "        print(f\"Failed to load image: {image_path}\")\n",
    "        return\n",
    "\n",
    "    # Detect the padding color\n",
    "    padding_color = detect_padding_color(image)\n",
    "\n",
    "    # Create a mask where the padding color is excluded\n",
    "    lower_bound = np.array(padding_color, dtype=np.uint8) - 5  # Add small tolerance\n",
    "    upper_bound = np.array(padding_color, dtype=np.uint8) + 5\n",
    "    mask = cv2.inRange(image, lower_bound, upper_bound)\n",
    "    mask = cv2.bitwise_not(mask)  # Invert mask to keep non-padding regions\n",
    "\n",
    "    # Find the bounding box of the content\n",
    "    coords = cv2.findNonZero(mask)\n",
    "    if coords is None:\n",
    "        print(f\"No content found in image: {image_path}\")\n",
    "        return\n",
    "\n",
    "    x, y, w, h = cv2.boundingRect(coords)\n",
    "\n",
    "    # Crop the image to the bounding box\n",
    "    cropped = image[y:y+h, x:x+w]\n",
    "\n",
    "    # Save the cropped image\n",
    "    cv2.imwrite(output_path, cropped)\n",
    "    cv2.imshow(f'Processed {os.path.basename(image_path)}', image)\n",
    "    cv2.waitKey(0)\n",
    "    cv2.imshow(f'Processed {os.path.basename(output_path)}', cropped)\n",
    "    cv2.waitKey(0)\n",
    "    print(f\"Saved cropped image to: {output_path}\")\n",
    "\n",
    "\n",
    "\n"
   ]
  },
  {
   "cell_type": "code",
   "execution_count": null,
   "metadata": {},
   "outputs": [
    {
     "name": "stdout",
     "output_type": "stream",
     "text": [
      "Saved cropped image to: data\\normal_clean\\10.png\n",
      "Saved cropped image to: data\\normal_clean\\101.jpg\n",
      "Saved cropped image to: data\\normal_clean\\104.jpg\n",
      "Saved cropped image to: data\\normal_clean\\107.jpg\n",
      "Saved cropped image to: data\\normal_clean\\11.jpg\n",
      "Saved cropped image to: data\\normal_clean\\110.jpg\n",
      "Saved cropped image to: data\\normal_clean\\115n.JPEG\n",
      "Saved cropped image to: data\\normal_clean\\118n.JPEG\n",
      "Saved cropped image to: data\\normal_clean\\11nn.png\n",
      "Saved cropped image to: data\\normal_clean\\12.png\n",
      "Saved cropped image to: data\\normal_clean\\123.png\n",
      "Saved cropped image to: data\\normal_clean\\125.jpg\n",
      "Saved cropped image to: data\\normal_clean\\128.jpg\n",
      "Saved cropped image to: data\\normal_clean\\13.png\n",
      "Saved cropped image to: data\\normal_clean\\131.jpg\n",
      "Saved cropped image to: data\\normal_clean\\132.png\n",
      "Saved cropped image to: data\\normal_clean\\133.jpg\n",
      "Saved cropped image to: data\\normal_clean\\135.jpg\n",
      "Saved cropped image to: data\\normal_clean\\137.jpg\n",
      "Saved cropped image to: data\\normal_clean\\138.png\n"
     ]
    },
    {
     "ename": "KeyboardInterrupt",
     "evalue": "",
     "output_type": "error",
     "traceback": [
      "\u001b[1;31m---------------------------------------------------------------------------\u001b[0m",
      "\u001b[1;31mKeyboardInterrupt\u001b[0m                         Traceback (most recent call last)",
      "Cell \u001b[1;32mIn[3], line 57\u001b[0m\n\u001b[0;32m     55\u001b[0m input_path \u001b[38;5;241m=\u001b[39m os\u001b[38;5;241m.\u001b[39mpath\u001b[38;5;241m.\u001b[39mjoin(input_folder, filename)\n\u001b[0;32m     56\u001b[0m output_path \u001b[38;5;241m=\u001b[39m os\u001b[38;5;241m.\u001b[39mpath\u001b[38;5;241m.\u001b[39mjoin(output_folder, filename)\n\u001b[1;32m---> 57\u001b[0m \u001b[43mremove_padding\u001b[49m\u001b[43m(\u001b[49m\u001b[43minput_path\u001b[49m\u001b[43m,\u001b[49m\u001b[43m \u001b[49m\u001b[43moutput_path\u001b[49m\u001b[43m)\u001b[49m\n",
      "Cell \u001b[1;32mIn[3], line 44\u001b[0m, in \u001b[0;36mremove_padding\u001b[1;34m(image_path, output_path)\u001b[0m\n\u001b[0;32m     42\u001b[0m cv2\u001b[38;5;241m.\u001b[39mwaitKey(\u001b[38;5;241m0\u001b[39m)\n\u001b[0;32m     43\u001b[0m cv2\u001b[38;5;241m.\u001b[39mimshow(\u001b[38;5;124mf\u001b[39m\u001b[38;5;124m'\u001b[39m\u001b[38;5;124mProcessed \u001b[39m\u001b[38;5;132;01m{\u001b[39;00mos\u001b[38;5;241m.\u001b[39mpath\u001b[38;5;241m.\u001b[39mbasename(output_path)\u001b[38;5;132;01m}\u001b[39;00m\u001b[38;5;124m'\u001b[39m, cropped)\n\u001b[1;32m---> 44\u001b[0m \u001b[43mcv2\u001b[49m\u001b[38;5;241;43m.\u001b[39;49m\u001b[43mwaitKey\u001b[49m\u001b[43m(\u001b[49m\u001b[38;5;241;43m0\u001b[39;49m\u001b[43m)\u001b[49m\n\u001b[0;32m     45\u001b[0m \u001b[38;5;28mprint\u001b[39m(\u001b[38;5;124mf\u001b[39m\u001b[38;5;124m\"\u001b[39m\u001b[38;5;124mSaved cropped image to: \u001b[39m\u001b[38;5;132;01m{\u001b[39;00moutput_path\u001b[38;5;132;01m}\u001b[39;00m\u001b[38;5;124m\"\u001b[39m)\n",
      "\u001b[1;31mKeyboardInterrupt\u001b[0m: "
     ]
    }
   ],
   "source": [
    "\n",
    "\n",
    "\n",
    "def remove_padding(image_path, output_path):\n",
    "    \"\"\"\n",
    "    Removes padding of any color from an image.\n",
    "\n",
    "    Args:\n",
    "        image_path (str): Path to the input image.\n",
    "        output_path (str): Path to save the cropped image.\n",
    "    \"\"\"\n",
    "    # Load the image\n",
    "    image = cv2.imread(image_path)\n",
    "    if image is None:\n",
    "        print(f\"Failed to load image: {image_path}\")\n",
    "        return\n",
    "\n",
    "    # Detect the padding color\n",
    "    padding_color = detect_padding_color(image)\n",
    "\n",
    "    # Create a mask where the padding color is excluded\n",
    "    lower_bound = np.array(padding_color, dtype=np.uint8) - 20  # Add small tolerance\n",
    "    if all(lower_bound>padding_color):\n",
    "        lower_bound = padding_color\n",
    "    upper_bound = np.array(padding_color, dtype=np.uint8) + 20\n",
    "    if all(upper_bound<padding_color):\n",
    "        upper_bound = padding_color\n",
    "    mask = cv2.inRange(image, lower_bound, upper_bound)\n",
    "    mask = cv2.bitwise_not(mask)  # Invert mask to keep non-padding regions\n",
    "\n",
    "    # Find the bounding box of the content\n",
    "    coords = cv2.findNonZero(mask)\n",
    "    if coords is None:\n",
    "        print(f\"No content found in image: {image_path}\")\n",
    "        return\n",
    "\n",
    "    x, y, w, h = cv2.boundingRect(coords)\n",
    "\n",
    "    # Crop the image to the bounding box\n",
    "    cropped = image[y:y+h, x:x+w]\n",
    "\n",
    "    # Save the cropped image\n",
    "    cv2.imwrite(output_path, cropped)\n",
    "    cv2.imshow(f'Processed {os.path.basename(image_path)}', image)\n",
    "    cv2.waitKey(0)\n",
    "    cv2.imshow(f'Processed {os.path.basename(output_path)}', cropped)\n",
    "    cv2.waitKey(0)\n",
    "    print(f\"Saved cropped image to: {output_path}\")\n",
    "\n",
    "\n",
    "input_folder = r\"data\\normal\"  # Folder with input images\n",
    "output_folder = r\"data\\normal_clean\"  # Folder to save cropped images\n",
    "\n",
    "if not os.path.exists(output_folder):\n",
    "    os.makedirs(output_folder)\n",
    "\n",
    "for filename in os.listdir(input_folder):\n",
    "    input_path = os.path.join(input_folder, filename)\n",
    "    output_path = os.path.join(output_folder, filename)\n",
    "    remove_padding(input_path, output_path)"
   ]
  },
  {
   "cell_type": "markdown",
   "metadata": {},
   "source": [
    "## remove no data area (black bounding box)"
   ]
  },
  {
   "cell_type": "markdown",
   "metadata": {},
   "source": []
  },
  {
   "cell_type": "markdown",
   "metadata": {},
   "source": [
    "## noise from out of the leg\n"
   ]
  },
  {
   "cell_type": "markdown",
   "metadata": {},
   "source": [
    "## remove or add symbols on images\n"
   ]
  }
 ],
 "metadata": {
  "kernelspec": {
   "display_name": "Python 3",
   "language": "python",
   "name": "python3"
  },
  "language_info": {
   "codemirror_mode": {
    "name": "ipython",
    "version": 3
   },
   "file_extension": ".py",
   "mimetype": "text/x-python",
   "name": "python",
   "nbconvert_exporter": "python",
   "pygments_lexer": "ipython3",
   "version": "3.10.7"
  }
 },
 "nbformat": 4,
 "nbformat_minor": 2
}
