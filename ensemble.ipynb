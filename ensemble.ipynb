{
 "cells": [
  {
   "cell_type": "code",
   "execution_count": 1,
   "id": "8f77ed0a",
   "metadata": {},
   "outputs": [
    {
     "name": "stderr",
     "output_type": "stream",
     "text": [
      "/workspace/miniconda3/lib/python3.12/site-packages/tqdm/auto.py:21: TqdmWarning: IProgress not found. Please update jupyter and ipywidgets. See https://ipywidgets.readthedocs.io/en/stable/user_install.html\n",
      "  from .autonotebook import tqdm as notebook_tqdm\n"
     ]
    }
   ],
   "source": [
    "from torch.utils.data import DataLoader, WeightedRandomSampler\n",
    "import os\n",
    "import torch\n",
    "import torch.nn as nn\n",
    "import torch.optim as optim\n",
    "from torch.optim.lr_scheduler import ReduceLROnPlateau\n",
    "\n",
    "from torch.utils.data import DataLoader\n",
    "import wandb\n",
    "from models.vgg19_model import get_vgg19_model\n",
    "from models.vit_model import get_vit_model\n",
    "from models.alexnet_model import get_alexnet_model\n",
    "from models.gideon_alex_net import get_gideon_alexnet_model\n",
    "from models.resnet_model import get_resnet_model, get_timm_model\n",
    "from models.resnet_model import get_timm_model\n",
    "from models.dino_model import get_dinov2_model\n",
    "from torchvision import transforms\n",
    "from preprocessing.clahe import CLAHETransform\n",
    "from utils.logger import init_wandb\n",
    "from collections import Counter\n",
    "import torch\n",
    "from torch.utils.data import DataLoader, WeightedRandomSampler\n",
    "from sklearn.metrics import (\n",
    "    confusion_matrix,\n",
    "    classification_report,\n",
    "    roc_auc_score,\n",
    "    precision_score,\n",
    "    recall_score,\n",
    "    f1_score,\n",
    ")\n",
    "import seaborn as sns\n",
    "import matplotlib.pyplot as plt\n",
    "import numpy as np\n",
    "import pandas as pd\n",
    "from losses.label_smoothing import LabelSmoothingCrossEntropy\n",
    "from losses.confidence_weighted_loss import ConfidenceWeightedCrossEntropy\n",
    "from losses.combined_loss import CombinedLabelSmoothingConfidenceWeightedLoss\n",
    "\n",
    "from utils.hard_sampling import get_low_confidence_samples\n",
    "from utils.saver import save_test_outputs\n",
    "import random\n",
    "import numpy as np\n",
    "import torch\n",
    "from torch.utils.data import DataLoader, Subset\n",
    "from torchvision import transforms\n",
    "from sklearn.model_selection import KFold\n",
    "import os\n",
    "import torch\n",
    "import numpy as np\n",
    "import pandas as pd\n",
    "import matplotlib.pyplot as plt\n",
    "import seaborn as sns\n",
    "import torch.nn.functional as F\n",
    "\n",
    "from sklearn.metrics import confusion_matrix\n",
    "from torch.utils.data import DataLoader, Subset\n",
    "from torchvision import transforms\n",
    "from sklearn.model_selection import KFold\n",
    "from dataset_handler.dataset import ImageDataset\n",
    "from preprocessing.clahe import CLAHETransform\n",
    "import tqdm"
   ]
  },
  {
   "cell_type": "code",
   "execution_count": 2,
   "id": "c754b746",
   "metadata": {},
   "outputs": [],
   "source": [
    "def ensemble_test_predictions(models, test_dataset):\n",
    "    loader = DataLoader(test_dataset, batch_size=32)\n",
    "    all_probs = []\n",
    "    true_labels = []\n",
    "    filenames = []\n",
    "\n",
    "    for images, labels, paths in loader:\n",
    "        images = images.to(\"cuda\")\n",
    "        batch_probs = []\n",
    "\n",
    "        for model in models:\n",
    "            model.eval()\n",
    "            with torch.no_grad():\n",
    "                logits = model(images)\n",
    "                probs = F.softmax(logits, dim=1)\n",
    "                batch_probs.append(probs.cpu())\n",
    "\n",
    "        avg_probs = torch.stack(batch_probs).mean(dim=0)\n",
    "        all_probs.append(avg_probs)\n",
    "        true_labels.extend(labels.numpy())\n",
    "        filenames.extend(paths)\n",
    "\n",
    "    all_probs = torch.cat(all_probs).numpy()\n",
    "    predicted_labels = np.argmax(all_probs, axis=1)\n",
    "    return filenames, true_labels, predicted_labels, all_probs"
   ]
  },
  {
   "cell_type": "code",
   "execution_count": 3,
   "id": "e4e97dab",
   "metadata": {},
   "outputs": [],
   "source": [
    "import torch\n",
    "import torch.nn.functional as F\n",
    "from torch.utils.data import DataLoader\n",
    "import os\n",
    "import numpy as np\n",
    "\n",
    "# Your ensemble_test_predictions function goes here (already provided)\n",
    "\n",
    "# Example model class — replace with your actual one\n",
    "from torchvision.models import resnet50\n",
    "from torch.nn import Linear\n",
    "\n",
    "def create_model(num_classes):\n",
    "    model = resnet50(pretrained=False)\n",
    "    model.fc = Linear(model.fc.in_features, num_classes)\n",
    "    return model\n",
    "\n",
    "def load_models_from_folder(folder_path, num_classes, device=\"cuda\"):\n",
    "    model_paths = [os.path.join(folder_path, f) for f in os.listdir(folder_path) if f.endswith(\".pth\")]\n",
    "    models = []\n",
    "\n",
    "    for path in model_paths:\n",
    "        model_class_name = os.path.split(path)[-1].split(\"_\")[0]\n",
    "        if model_class_name==\"ResNet50\":\n",
    "            model = get_resnet_model(path)\n",
    "        else:\n",
    "            model = get_timm_model(path,model_class_name)\n",
    "\n",
    "        # model = create_model(num_classes)\n",
    "        model.load_state_dict(torch.load(path, map_location=device))\n",
    "        model.to(device)\n",
    "        models.append(model)\n",
    "\n",
    "    return models\n"
   ]
  },
  {
   "cell_type": "code",
   "execution_count": 4,
   "id": "63aa3fa2",
   "metadata": {},
   "outputs": [
    {
     "name": "stderr",
     "output_type": "stream",
     "text": [
      "\u001b[34m\u001b[1mwandb\u001b[0m: Currently logged in as: \u001b[33meladlaks\u001b[0m (\u001b[33meladlaks-herzlia-reichman-university\u001b[0m) to \u001b[32mhttps://api.wandb.ai\u001b[0m. Use \u001b[1m`wandb login --relogin`\u001b[0m to force relogin\n",
      "\u001b[34m\u001b[1mwandb\u001b[0m: \u001b[33mWARNING\u001b[0m Using a boolean value for 'reinit' is deprecated. Use 'return_previous' or 'finish_previous' instead.\n"
     ]
    },
    {
     "data": {
      "text/html": [
       "Tracking run with wandb version 0.19.10"
      ],
      "text/plain": [
       "<IPython.core.display.HTML object>"
      ]
     },
     "metadata": {},
     "output_type": "display_data"
    },
    {
     "data": {
      "text/html": [
       "Run data is saved locally in <code>/workspace/osteoporosis_project/wandb/run-20250724_112542-cn9v2xqz</code>"
      ],
      "text/plain": [
       "<IPython.core.display.HTML object>"
      ]
     },
     "metadata": {},
     "output_type": "display_data"
    },
    {
     "data": {
      "text/html": [
       "Syncing run <strong><a href='https://wandb.ai/eladlaks-herzlia-reichman-university/models_for_ensemble/runs/cn9v2xqz' target=\"_blank\">lr_7_bs_32_9vqoo8</a></strong> to <a href='https://wandb.ai/eladlaks-herzlia-reichman-university/models_for_ensemble' target=\"_blank\">Weights & Biases</a> (<a href='https://wandb.me/developer-guide' target=\"_blank\">docs</a>)<br>"
      ],
      "text/plain": [
       "<IPython.core.display.HTML object>"
      ]
     },
     "metadata": {},
     "output_type": "display_data"
    },
    {
     "data": {
      "text/html": [
       " View project at <a href='https://wandb.ai/eladlaks-herzlia-reichman-university/models_for_ensemble' target=\"_blank\">https://wandb.ai/eladlaks-herzlia-reichman-university/models_for_ensemble</a>"
      ],
      "text/plain": [
       "<IPython.core.display.HTML object>"
      ]
     },
     "metadata": {},
     "output_type": "display_data"
    },
    {
     "data": {
      "text/html": [
       " View run at <a href='https://wandb.ai/eladlaks-herzlia-reichman-university/models_for_ensemble/runs/cn9v2xqz' target=\"_blank\">https://wandb.ai/eladlaks-herzlia-reichman-university/models_for_ensemble/runs/cn9v2xqz</a>"
      ],
      "text/plain": [
       "<IPython.core.display.HTML object>"
      ]
     },
     "metadata": {},
     "output_type": "display_data"
    },
    {
     "name": "stdout",
     "output_type": "stream",
     "text": [
      "Wandb configuration:\n",
      "DATA_DIR: /workspace/osteoporosis_project/data/train_data\n",
      "TEST_DATA_DIR: /workspace/osteoporosis_project/data/test_data\n",
      "DUPLICATE_THRESHOLD: 0.99\n",
      "YOLO_WEIGHTS_PATH: /workspace/osteoporosis_project/pretrained/yolo_weights.pt\n",
      "DEVICE: cuda\n",
      "BATCH_SIZE: 32\n",
      "NUM_EPOCHS: 20\n",
      "LEARNING_RATE: 7\n",
      "ALEX_FREEZE_FEATURES: True\n",
      "USE_TRANSFORM_AUGMENTATION_IN_TRAINING: True\n",
      "USE_CLAHE: False\n",
      "MODEL_NAME: ResNet50\n",
      "USE_OSTEOPENIA: True\n",
      "SKIP_DUP_DATA: False\n",
      "TRAIN_WEIGHTED_RANDOM_SAMPLER: True\n",
      "NUM_WORKERS: 1\n",
      "USE_TEST_DATA_DIR: True\n",
      "USE_SCHEDULER: True\n",
      "USE_LABEL_SMOOTHING: True\n",
      "USE_CONFIDENCE_WEIGHTED_LOSS: False\n",
      "USE_HARD_SAMPLING: False\n",
      "CONFIDENCE_THRESHOLD: 0.85\n",
      "CONFIDENCE_PENALTY_WEIGHT: 2.0\n",
      "LABEL_SMOOTHING_EPSILON: 0.1\n",
      "RESNET_LAYERS_TO_TRAIN: ['fc', 'layer2', 'layer3', 'layer4']\n",
      "DROPOUT: 0.5\n",
      "USE_METABOLIC_FOR_TEST: False\n",
      "USE_K_FOLD: False\n",
      "K_FOLDS: 5\n",
      "NUM_CLASSES: 3\n",
      "FINE_TUNE_LR_MULTIPLIER: 1.0\n",
      "Run name: lr_7_bs_32_9vqoo8\n"
     ]
    }
   ],
   "source": [
    "from argparse import Namespace\n",
    "\n",
    "\n",
    "size = (512, 512) \n",
    "args = Namespace(LEARNING_RATE=7, BATCH_SIZE=32,NUM_CLASSES=3, NUM_EPOCHS=20, USE_CLAHE=False, MODEL_NAME='ResNet50', USE_OSTEOPENIA=True, USE_TEST_DATA_DIR=True, USE_SCHEDULER=True, TRAIN_WEIGHTED_RANDOM_SAMPLER=True, NUM_WORKERS=1, DATA_DIR='/workspace/osteoporosis_project/data/train_data', TEST_DATA_DIR='/workspace/osteoporosis_project/data/test_data', USE_LABEL_SMOOTHING=True, USE_HARD_SAMPLING=False, USE_CONFIDENCE_WEIGHTED_LOSS=False, CONFIDENCE_PENALTY_WEIGHT=2.0, CONFIDENCE_THRESHOLD=0.85, LABEL_SMOOTHING_EPSILON=0.1, USE_TRANSFORM_AUGMENTATION_IN_TRAINING=True, FINE_TUNE_LR_MULTIPLIER=1.0, DROPOUT=0.5, RESNET_LAYERS_TO_TRAIN=['fc', 'layer2', 'layer3', 'layer4'])\n",
    "init_wandb(project_name=\"models_for_ensemble\", args=args)\n",
    "prepare_to_network_transforms = [\n",
    "    transforms.Resize(size),\n",
    "    transforms.ToTensor(),\n",
    "    transforms.Normalize(mean=[0.485, 0.456, 0.406], std=[0.229, 0.224, 0.225]),\n",
    "]\n",
    "\n",
    "\n",
    "augmentation_transform = [\n",
    "    transforms.RandomResizedCrop(224),\n",
    "    transforms.RandomRotation(degrees=10),  # Small random rotation\n",
    "    transforms.RandomHorizontalFlip(p=0.5),  # 50% chance to flip\n",
    "    transforms.RandomAffine(degrees=0, translate=(0.1, 0.1)),  # Small shifts\n",
    "    transforms.ColorJitter(brightness=0.2, \n",
    "                        contrast=0.2, \n",
    "                        saturation=0.2, \n",
    "                        hue=0.1),  # Adjust contrast\n",
    "]\n",
    "\n",
    "all_transformation = []\n",
    "train_transformations = []\n",
    "train_transformations += augmentation_transform\n",
    "\n",
    "all_transformation += prepare_to_network_transforms\n",
    "train_transformations += all_transformation\n",
    "eval_transform = transforms.Compose(all_transformation)\n",
    "\n",
    "train_transform = transforms.Compose(train_transformations)\n",
    "\n",
    "\n",
    "\n",
    "test_dataset = ImageDataset(\"data/test_data\")\n",
    "test_dataset.transform = eval_transform\n"
   ]
  },
  {
   "cell_type": "code",
   "execution_count": 11,
   "id": "fb79f24c",
   "metadata": {},
   "outputs": [
    {
     "name": "stderr",
     "output_type": "stream",
     "text": [
      "/workspace/osteoporosis_project/models/resnet_model.py:108: FutureWarning: You are using `torch.load` with `weights_only=False` (the current default value), which uses the default pickle module implicitly. It is possible to construct malicious pickle data which will execute arbitrary code during unpickling (See https://github.com/pytorch/pytorch/blob/main/SECURITY.md#untrusted-models for more details). In a future release, the default value for `weights_only` will be flipped to `True`. This limits the functions that could be executed during unpickling. Arbitrary objects will no longer be allowed to be loaded via this mode unless they are explicitly allowlisted by the user via `torch.serialization.add_safe_globals`. We recommend you start setting `weights_only=True` for any use case where you don't have full control of the loaded file. Please open an issue on GitHub for any issues related to this experimental feature.\n",
      "  state_dict = torch.load(\n",
      "/tmp/ipykernel_160097/253166718.py:30: FutureWarning: You are using `torch.load` with `weights_only=False` (the current default value), which uses the default pickle module implicitly. It is possible to construct malicious pickle data which will execute arbitrary code during unpickling (See https://github.com/pytorch/pytorch/blob/main/SECURITY.md#untrusted-models for more details). In a future release, the default value for `weights_only` will be flipped to `True`. This limits the functions that could be executed during unpickling. Arbitrary objects will no longer be allowed to be loaded via this mode unless they are explicitly allowlisted by the user via `torch.serialization.add_safe_globals`. We recommend you start setting `weights_only=True` for any use case where you don't have full control of the loaded file. Please open an issue on GitHub for any issues related to this experimental feature.\n",
      "  model.load_state_dict(torch.load(path, map_location=device))\n"
     ]
    }
   ],
   "source": [
    "\n",
    "num_classes = 3  # Or whatever is relevant\n",
    "\n",
    "# Load models\n",
    "folder_path = r\"saved_models/ensembel_models\"\n",
    "models = load_models_from_folder(folder_path, num_classes)\n",
    "\n",
    "# Get ensemble predictions\n",
    "filenames, true_labels, predicted_labels, all_probs = ensemble_test_predictions(models, test_dataset)\n"
   ]
  },
  {
   "cell_type": "code",
   "execution_count": 12,
   "id": "c90e3c9e",
   "metadata": {},
   "outputs": [],
   "source": [
    "from sklearn.metrics import (\n",
    "    confusion_matrix, classification_report, accuracy_score, f1_score,\n",
    "    roc_auc_score, roc_curve\n",
    ")\n",
    "import matplotlib.pyplot as plt\n",
    "import seaborn as sns\n",
    "import numpy as np"
   ]
  },
  {
   "cell_type": "code",
   "execution_count": 16,
   "id": "f4ffccb3",
   "metadata": {},
   "outputs": [],
   "source": [
    "def evaluate_predictions(true_labels, predicted_labels, all_probs, class_names):\n",
    "    # Accuracy\n",
    "    acc = accuracy_score(true_labels, predicted_labels)\n",
    "    \n",
    "    # F1 Score (macro for multi-class)\n",
    "    f1 = f1_score(true_labels, predicted_labels, average='macro')\n",
    "    \n",
    "    # Confusion Matrix\n",
    "    cm = confusion_matrix(true_labels, predicted_labels)\n",
    "    \n",
    "    # AUC (One-vs-Rest strategy)\n",
    "    try:\n",
    "        auc = roc_auc_score(true_labels, all_probs, multi_class='ovr')\n",
    "    except ValueError:\n",
    "        auc = None  # Sometimes fails if only one class in y_true\n",
    "\n",
    "    print(f\"Accuracy: {acc:.4f}\")\n",
    "    print(f\"F1 Score (macro): {f1:.4f}\")\n",
    "    if auc is not None:\n",
    "        print(f\"AUC (OvR): {auc:.4f}\")\n",
    "    \n",
    "    print(\"\\nClassification Report:\")\n",
    "    print(classification_report(true_labels, predicted_labels, target_names=class_names))\n",
    "\n",
    "    # Plot confusion matrix\n",
    "    plt.figure(figsize=(8, 6))\n",
    "    sns.heatmap(cm, annot=True, fmt='d', cmap='Blues',\n",
    "                xticklabels=class_names,\n",
    "                yticklabels=class_names)\n",
    "    plt.xlabel(\"Predicted\")\n",
    "    plt.ylabel(\"True\")\n",
    "    plt.title(\"Confusion Matrix\")\n",
    "    plt.tight_layout()\n",
    "    plt.show()\n",
    "    return auc,f1,acc,cm\n"
   ]
  },
  {
   "cell_type": "code",
   "execution_count": 14,
   "id": "44484202",
   "metadata": {},
   "outputs": [],
   "source": [
    "class_names = [\"normal\", \"osteopenia\", \"osteoporosis\"]\n"
   ]
  },
  {
   "cell_type": "code",
   "execution_count": 18,
   "id": "23057d26",
   "metadata": {},
   "outputs": [
    {
     "name": "stdout",
     "output_type": "stream",
     "text": [
      "Accuracy: 0.7257\n",
      "F1 Score (macro): 0.7061\n",
      "AUC (OvR): 0.8693\n",
      "\n",
      "Classification Report:\n",
      "              precision    recall  f1-score   support\n",
      "\n",
      "      normal       0.76      0.67      0.71        39\n",
      "  osteopenia       0.81      0.85      0.83        46\n",
      "osteoporosis       0.55      0.61      0.58        28\n",
      "\n",
      "    accuracy                           0.73       113\n",
      "   macro avg       0.71      0.71      0.71       113\n",
      "weighted avg       0.73      0.73      0.73       113\n",
      "\n"
     ]
    },
    {
     "data": {
      "image/png": "[encoded data removed]",
      "text/plain": [
       "<Figure size 800x600 with 2 Axes>"
      ]
     },
     "metadata": {},
     "output_type": "display_data"
    }
   ],
   "source": [
    "auc,f1,acc,cm = evaluate_predictions(true_labels, predicted_labels, all_probs, class_names)\n"
   ]
  },
  {
   "cell_type": "code",
   "execution_count": 19,
   "id": "76eea6ed",
   "metadata": {},
   "outputs": [],
   "source": [
    "wandb.log(\n",
    "        {\n",
    "            f\"test_acc\": acc,\n",
    "            f\"test_f1\": f1,\n",
    "            f\"test_auc\": auc if auc is not None else 0.0,\n",
    "        }\n",
    "    )\n",
    "\n",
    "plt.figure(figsize=(8, 6))\n",
    "sns.heatmap(\n",
    "    cm,\n",
    "    annot=True,\n",
    "    fmt=\"d\",\n",
    "    cmap=\"Blues\",\n",
    "    xticklabels=class_names,\n",
    "    yticklabels=class_names,\n",
    ")\n",
    "plt.xlabel(\"Predicted Label\")\n",
    "plt.ylabel(\"True Label\")\n",
    "plt.title(f\"Confusion Matrix - enseble\")\n",
    "wandb.log({f\"enseble_confusion_matrix\": wandb.Image(plt)})\n",
    "plt.close()\n",
    "\n",
    "# # Classification Report + Per-Class Metrics\n",
    "# report = classification_report(\n",
    "#     all_labels_np, all_preds_np, output_dict=True, zero_division=0\n",
    "# )\n",
    "# wandb.log(\n",
    "#     {f\"{model_name}_classification_report\": report}\n",
    "# )  # Log per-class metrics (optional)\n",
    "# for label, metrics in report.items():\n",
    "#     if isinstance(metrics, dict):\n",
    "#         for metric_name, value in metrics.items():\n",
    "#             wandb.log({f\"{model_name}_{label}_{metric_name}\": value})\n"
   ]
  }
 ],
 "metadata": {
  "kernelspec": {
   "display_name": "base",
   "language": "python",
   "name": "python3"
  },
  "language_info": {
   "codemirror_mode": {
    "name": "ipython",
    "version": 3
   },
   "file_extension": ".py",
   "mimetype": "text/x-python",
   "name": "python",
   "nbconvert_exporter": "python",
   "pygments_lexer": "ipython3",
   "version": "3.12.9"
  }
 },
 "nbformat": 4,
 "nbformat_minor": 5
}
